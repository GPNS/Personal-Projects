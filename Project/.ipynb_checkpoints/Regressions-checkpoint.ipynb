{
 "cells": [
  {
   "cell_type": "code",
   "execution_count": 1,
   "id": "d544af05",
   "metadata": {},
   "outputs": [],
   "source": [
    "# Import library\n",
    "import seaborn as sns\n",
    "import pandas_profiling\n",
    "import ipywidgets\n",
    "from IPython.display import display, HTML\n",
    "import scipy.stats as stats\n",
    "import pandas as pd\n",
    "import numpy as np\n",
    "import warnings\n",
    "\n",
    "import matplotlib.pyplot as plt\n",
    "from matplotlib import style\n",
    "import matplotlib\n",
    "import seaborn as sns\n",
    "%matplotlib inline\n",
    "import itertools\n",
    "\n",
    "#For sentiment analysis\n",
    "from textblob import TextBlob\n",
    "\n",
    "#Regression\n",
    "from sklearn import preprocessing\n",
    "from pprint import pprint\n",
    "from sklearn.decomposition import PCA\n",
    "from sklearn.metrics         import roc_curve\n",
    "from sklearn.metrics         import roc_auc_score\n",
    "from sklearn.metrics         import accuracy_score\n",
    "from sklearn.metrics         import mean_squared_error\n",
    "from sklearn.metrics         import r2_score\n",
    "from sklearn.metrics         import classification_report\n",
    "from sklearn.metrics import mean_absolute_error\n",
    "from pprint import pprint\n",
    "\n",
    "from sklearn.pipeline        import Pipeline\n",
    "\n",
    "\n",
    "from sklearn.model_selection import GridSearchCV\n",
    "from sklearn.neighbors import KNeighborsClassifier\n",
    "from sklearn.pipeline import Pipeline\n",
    "from sklearn.preprocessing import MinMaxScaler\n",
    "\n",
    "\n",
    "from sklearn.model_selection import train_test_split\n",
    "from sklearn.model_selection import KFold\n",
    "from sklearn.linear_model    import LinearRegression\n",
    "from sklearn.svm             import SVC\n",
    "from sklearn.svm             import SVR\n",
    "from sklearn.preprocessing   import StandardScaler\n",
    "from sklearn.ensemble import RandomForestRegressor\n",
    "\n",
    "\n",
    "from sklearn.model_selection import RandomizedSearchCV\n",
    "from sklearn.linear_model import Ridge\n",
    "from sklearn.linear_model import Lasso\n",
    "from sklearn.neighbors import KNeighborsRegressor\n",
    "\n",
    "from sklearn.preprocessing import QuantileTransformer, quantile_transform\n",
    "from sklearn.compose import TransformedTargetRegressor\n",
    "\n",
    "import texthero as hero\n",
    "\n",
    "SEED = 123"
   ]
  },
  {
   "cell_type": "markdown",
   "id": "d0dcf6fc",
   "metadata": {
    "jp-MarkdownHeadingCollapsed": true,
    "tags": []
   },
   "source": [
    "## Loading Data"
   ]
  },
  {
   "cell_type": "code",
   "execution_count": 2,
   "id": "706a5191",
   "metadata": {},
   "outputs": [],
   "source": [
    "#df = pd.read_csv('Audible_data_updated.csv')\n",
    "df = pd.read_csv('Audible_Dataset_final.csv')"
   ]
  },
  {
   "cell_type": "code",
   "execution_count": 3,
   "id": "f73807af",
   "metadata": {},
   "outputs": [],
   "source": [
    "#Changing column name of the last column to make it in format of the other Reviews\n",
    "df = df.rename(columns={'Review100': 'Review 100'})"
   ]
  },
  {
   "cell_type": "code",
   "execution_count": 4,
   "id": "d576f59b",
   "metadata": {},
   "outputs": [
    {
     "name": "stdout",
     "output_type": "stream",
     "text": [
      "The shape of our dataset is:(2269, 110)\n"
     ]
    }
   ],
   "source": [
    "print('The shape of our dataset is:{}'.format(df.shape))"
   ]
  },
  {
   "cell_type": "markdown",
   "id": "b96e9215",
   "metadata": {},
   "source": [
    "### Adding number of reviews column"
   ]
  },
  {
   "cell_type": "code",
   "execution_count": 5,
   "id": "a21bbaec",
   "metadata": {},
   "outputs": [],
   "source": [
    "#Creating a column that will contain the number of reviews in this dataset\n",
    "df.insert(df.shape[1], 'nbr_reviews', '0')"
   ]
  },
  {
   "cell_type": "code",
   "execution_count": 6,
   "id": "7e5b9499",
   "metadata": {},
   "outputs": [],
   "source": [
    "#Counting the number of reviews\n",
    "for index, row in df.iterrows():\n",
    "    nbr_reviews = 0\n",
    "    for review_j in range(1, 100):\n",
    "        #Verifying if it's not a nan value\n",
    "        if(row['Review '+str(review_j)] == row['Review '+str(review_j)]):\n",
    "            nbr_reviews +=1\n",
    "        df.at[index,'nbr_reviews'] = nbr_reviews"
   ]
  },
  {
   "cell_type": "markdown",
   "id": "eed42349",
   "metadata": {},
   "source": [
    "#### Checking the columns and their type of variables"
   ]
  },
  {
   "cell_type": "code",
   "execution_count": 7,
   "id": "b7085e9e",
   "metadata": {},
   "outputs": [
    {
     "data": {
      "text/plain": [
       "Index(['Book Title', 'Book Subtitle', 'Book Author', 'Book Narrator',\n",
       "       'Audio Runtime', 'Audiobook_Type', 'Categories', 'Rating',\n",
       "       'Total No. of Ratings', 'Price',\n",
       "       ...\n",
       "       'Review 92', 'Review 93', 'Review 94', 'Review 95', 'Review 96',\n",
       "       'Review 97', 'Review 98', 'Review 99', 'Review 100', 'nbr_reviews'],\n",
       "      dtype='object', length=111)"
      ]
     },
     "execution_count": 7,
     "metadata": {},
     "output_type": "execute_result"
    }
   ],
   "source": [
    "df.columns"
   ]
  },
  {
   "cell_type": "code",
   "execution_count": 8,
   "id": "354a5719",
   "metadata": {},
   "outputs": [
    {
     "data": {
      "text/plain": [
       "Book Title       object\n",
       "Book Subtitle    object\n",
       "Book Author      object\n",
       "Book Narrator    object\n",
       "Audio Runtime    object\n",
       "                  ...  \n",
       "Review 97        object\n",
       "Review 98        object\n",
       "Review 99        object\n",
       "Review 100       object\n",
       "nbr_reviews      object\n",
       "Length: 111, dtype: object"
      ]
     },
     "execution_count": 8,
     "metadata": {},
     "output_type": "execute_result"
    }
   ],
   "source": [
    "df.dtypes"
   ]
  },
  {
   "cell_type": "markdown",
   "id": "d53a0a83",
   "metadata": {
    "tags": []
   },
   "source": [
    "## Data cleaning for sentiment analysis of the reviews"
   ]
  },
  {
   "cell_type": "markdown",
   "id": "c0a490f9",
   "metadata": {},
   "source": [
    "#### Keeping only books with  rating number (betwwen 0 and 5)"
   ]
  },
  {
   "cell_type": "code",
   "execution_count": 9,
   "id": "e350bfcc",
   "metadata": {},
   "outputs": [],
   "source": [
    "#df.profile_report()"
   ]
  },
  {
   "cell_type": "code",
   "execution_count": 10,
   "id": "29987fd7",
   "metadata": {},
   "outputs": [
    {
     "data": {
      "text/plain": [
       "array(['5', '4.5', '4.8', 'Not rated yet', '4.6', '4.9', '4.7', '4.3',\n",
       "       '4.2', '4.4', '4', '4.1', '5 out of 5 stars', '3.3', '3.9', '3.6',\n",
       "       '3.8', '4.5 out of 5 stars', '2.3', '3', '1', '3.5', '2.5', '3.2',\n",
       "       '1.8', '3.1', '2.8', '2.7', '3.4', '2.2', '2.9',\n",
       "       '4 out of 5 stars', '3.7', '1.5'], dtype=object)"
      ]
     },
     "execution_count": 10,
     "metadata": {},
     "output_type": "execute_result"
    }
   ],
   "source": [
    "df[df['Rating'].notnull()]['Rating'].unique()"
   ]
  },
  {
   "cell_type": "markdown",
   "id": "c4843ad9",
   "metadata": {},
   "source": [
    "#### Cleaning the Rating column\n",
    "- Removing null values\n",
    "- Removing the one with label 'Not rated yet'\n",
    "- Assign 5 to '5 out of 5 stars'\n",
    "- Assign 4.5 to '4.5 out of 5 stars'\n",
    "- Assign 4 to '4 out of 5 stars'"
   ]
  },
  {
   "cell_type": "code",
   "execution_count": 11,
   "id": "8e196d07",
   "metadata": {},
   "outputs": [],
   "source": [
    "#Removing the one with label 'Not rated yet'\n",
    "df = df[df['Rating'] != 'Not rated yet']"
   ]
  },
  {
   "cell_type": "code",
   "execution_count": 12,
   "id": "b1040027",
   "metadata": {},
   "outputs": [],
   "source": [
    "#Removing null values\n",
    "df = df[df['Rating'].notnull()]"
   ]
  },
  {
   "cell_type": "code",
   "execution_count": 13,
   "id": "f8ee391b",
   "metadata": {},
   "outputs": [],
   "source": [
    "df['Rating'] = df['Rating'].apply(lambda x: '5' if(x=='5 out of 5 stars') else (x))\n",
    "df['Rating'] = df['Rating'].apply(lambda x: '4.5' if(x=='4.5 out of 5 stars') else (x))\n",
    "df['Rating'] = df['Rating'].apply(lambda x: '4' if(x=='4 out of 5 stars') else (x))\n",
    "#df['Rating'] = df['Rating'].apply(lambda x: '5' if(x==19.95) else (x))\n",
    "#df['Rating'] = df['Rating'].apply(lambda x: '5' if(x==14.95) else (x))\n",
    "#converting Rating column to float\n",
    "df['Rating'] = df['Rating'].astype(float)"
   ]
  },
  {
   "cell_type": "code",
   "execution_count": 14,
   "id": "56a88b7b",
   "metadata": {},
   "outputs": [
    {
     "data": {
      "text/plain": [
       "array([5. , 4.5, 4.8, 4.6, 4.9, 4.7, 4.3, 4.2, 4.4, 4. , 4.1, 3.3, 3.9,\n",
       "       3.6, 3.8, 2.3, 3. , 1. , 3.5, 2.5, 3.2, 1.8, 3.1, 2.8, 2.7, 3.4,\n",
       "       2.2, 2.9, 3.7, 1.5])"
      ]
     },
     "execution_count": 14,
     "metadata": {},
     "output_type": "execute_result"
    }
   ],
   "source": [
    "df['Rating'].unique()"
   ]
  },
  {
   "cell_type": "markdown",
   "id": "92909c32",
   "metadata": {
    "tags": []
   },
   "source": [
    "#### Converting Audio Runtime column to int"
   ]
  },
  {
   "cell_type": "code",
   "execution_count": 15,
   "id": "37dcf5dd",
   "metadata": {
    "tags": []
   },
   "outputs": [],
   "source": [
    "#Splitting time string \n",
    "df['Audio Runtime'] = df['Audio Runtime'].apply(lambda x: x.split( ))"
   ]
  },
  {
   "cell_type": "code",
   "execution_count": 16,
   "id": "20818b97",
   "metadata": {},
   "outputs": [],
   "source": [
    "#Computing the number of minutes\n",
    "df['Audio Runtime'] = df['Audio Runtime'].apply(lambda x: int(x[0])*60 + int(x[3]) if(len(x)==5) else (int(x[0])))"
   ]
  },
  {
   "cell_type": "markdown",
   "id": "a02534a9",
   "metadata": {},
   "source": [
    "#### converting price column into in"
   ]
  },
  {
   "cell_type": "code",
   "execution_count": 17,
   "id": "7cff367f",
   "metadata": {},
   "outputs": [],
   "source": [
    "df['Price'] = df['Price'].apply(lambda x: float(x[1:]))\n",
    "#1285"
   ]
  },
  {
   "cell_type": "code",
   "execution_count": 18,
   "id": "0d7a0232",
   "metadata": {},
   "outputs": [],
   "source": [
    "df['nbr_reviews'] = df['nbr_reviews'].astype(int)"
   ]
  },
  {
   "cell_type": "code",
   "execution_count": 19,
   "id": "3b20ecee",
   "metadata": {},
   "outputs": [
    {
     "data": {
      "text/plain": [
       "Book Title       object\n",
       "Book Subtitle    object\n",
       "Book Author      object\n",
       "Book Narrator    object\n",
       "Audio Runtime     int64\n",
       "                  ...  \n",
       "Review 97        object\n",
       "Review 98        object\n",
       "Review 99        object\n",
       "Review 100       object\n",
       "nbr_reviews       int64\n",
       "Length: 111, dtype: object"
      ]
     },
     "execution_count": 19,
     "metadata": {},
     "output_type": "execute_result"
    }
   ],
   "source": [
    "df.dtypes"
   ]
  },
  {
   "cell_type": "code",
   "execution_count": 20,
   "id": "dfa6f2f5-99e8-49fa-8051-8db3438f32d1",
   "metadata": {},
   "outputs": [
    {
     "data": {
      "text/plain": [
       "Index(['Book Title', 'Book Subtitle', 'Book Author', 'Book Narrator',\n",
       "       'Audio Runtime', 'Audiobook_Type', 'Categories', 'Rating',\n",
       "       'Total No. of Ratings', 'Price',\n",
       "       ...\n",
       "       'Review 92', 'Review 93', 'Review 94', 'Review 95', 'Review 96',\n",
       "       'Review 97', 'Review 98', 'Review 99', 'Review 100', 'nbr_reviews'],\n",
       "      dtype='object', length=111)"
      ]
     },
     "execution_count": 20,
     "metadata": {},
     "output_type": "execute_result"
    }
   ],
   "source": [
    "df.columns"
   ]
  },
  {
   "cell_type": "code",
   "execution_count": 21,
   "id": "2ce8b1c0-ec26-47ec-8ac7-710c30e5c322",
   "metadata": {},
   "outputs": [
    {
     "name": "stdout",
     "output_type": "stream",
     "text": [
      "229\n"
     ]
    },
    {
     "data": {
      "text/plain": [
       "<seaborn.axisgrid.FacetGrid at 0x7ffb85efffd0>"
      ]
     },
     "execution_count": 21,
     "metadata": {},
     "output_type": "execute_result"
    },
    {
     "data": {
      "image/png": "[encoded data removed]",
      "text/plain": [
       "<Figure size 360x360 with 1 Axes>"
      ]
     },
     "metadata": {
      "needs_background": "light"
     },
     "output_type": "display_data"
    }
   ],
   "source": [
    "i=0\n",
    "for nb in df.nbr_reviews:\n",
    "    if nb == 0:\n",
    "        i=i+1\n",
    "print(i)\n",
    "\n",
    "sns.displot(df, x=\"Rating\")"
   ]
  },
  {
   "cell_type": "markdown",
   "id": "00ae7437-113d-40e2-848a-bc73a04d256d",
   "metadata": {
    "tags": []
   },
   "source": [
    "## Sentiment analysis "
   ]
  },
  {
   "cell_type": "code",
   "execution_count": 22,
   "id": "4fe194b1-ae97-4bb2-8572-7911908db571",
   "metadata": {},
   "outputs": [],
   "source": [
    "#Function assigning polarity to a Review\n",
    "def polarity_to_text(blob):\n",
    "    if (blob.sentiment.polarity > 0.1):\n",
    "        #'Polarity is positive 😊'\n",
    "        return 'postive'\n",
    "    elif(blob.sentiment.polarity <= 0.1 and  blob.sentiment.polarity >= -0.1):\n",
    "          # 'Polarity is neutral 😐'\n",
    "        return 'neutral'\n",
    "    else:\n",
    "        # 'Polarity is negative 😡' \n",
    "        return 'negative'"
   ]
  },
  {
   "cell_type": "code",
   "execution_count": 23,
   "id": "53a37a3d-4115-4473-b46b-2ec0a467373b",
   "metadata": {},
   "outputs": [],
   "source": [
    "#Function assigning polarity to just a score\n",
    "def score_to_text(score):\n",
    "    if (score > 0.1):\n",
    "        #'Polarity is positive 😊'\n",
    "        return 'postive'\n",
    "    elif(score <= 0.1 and  score >= -0.1):\n",
    "          # 'Polarity is neutral 😐'\n",
    "        return 'neutral'\n",
    "    else:\n",
    "        # 'Polarity is negative 😡' \n",
    "        return 'negative'"
   ]
  },
  {
   "cell_type": "code",
   "execution_count": 24,
   "id": "1f659639-8d8f-4654-979b-18ff62938615",
   "metadata": {
    "scrolled": true
   },
   "outputs": [
    {
     "name": "stderr",
     "output_type": "stream",
     "text": [
      "/Applications/anaconda3/lib/python3.8/site-packages/IPython/core/interactiveshell.py:3364: PerformanceWarning: DataFrame is highly fragmented.  This is usually the result of calling `frame.insert` many times, which has poor performance.  Consider joining all columns at once using pd.concat(axis=1) instead.  To get a de-fragmented frame, use `newframe = frame.copy()`\n",
      "  if (await self.run_code(code, result,  async_=asy)):\n"
     ]
    }
   ],
   "source": [
    "#Adding polarity and score columns\n",
    "for i in range(1, 101):\n",
    "    df.insert(df.shape[1], 'polarity and score '+str(i),'0')\n",
    "    \n",
    "#Creating a column that will contain a list of all Reviews score\n",
    "df.insert(df.shape[1], 'all scores', '0')"
   ]
  },
  {
   "cell_type": "markdown",
   "id": "19ab716b-bf4b-4454-aba4-174b46eb8cb6",
   "metadata": {},
   "source": [
    "### Computing polarity scores"
   ]
  },
  {
   "cell_type": "code",
   "execution_count": 25,
   "id": "17de92d1-d51f-4ebe-8082-d096a42521e9",
   "metadata": {},
   "outputs": [],
   "source": [
    "for index, row in df.iterrows():\n",
    "    all_scores = []\n",
    "    for review_j in range(1, 100):\n",
    "        #Verifying if it's not a nan value\n",
    "        if(row['Review '+str(review_j)] == row['Review '+str(review_j)]):\n",
    "            blob = TextBlob(row['Review '+str(review_j)])\n",
    "            emotion = polarity_to_text(blob)\n",
    "            score = blob.sentiment.polarity\n",
    "            # df.set_value(i,'polarity',emotion)\n",
    "            df.at[index,'polarity and score '+str(review_j)] = [round(score, 2), emotion]\n",
    "            all_scores.append(round(score, 2))\n",
    "        else: \n",
    "            df.at[index,'polarity and score '+str(review_j)] = [0, '']\n",
    "            all_scores.append(0)\n",
    "        df.at[index,'all scores'] = all_scores "
   ]
  },
  {
   "cell_type": "markdown",
   "id": "e5a5f169-79ba-42d0-a09a-ff4159166a7a",
   "metadata": {},
   "source": [
    "### Computing mean score of all reviews and clustering "
   ]
  },
  {
   "cell_type": "code",
   "execution_count": 26,
   "id": "83f1a823-ff7a-47ce-93d4-a8d5395b21bb",
   "metadata": {},
   "outputs": [],
   "source": [
    "#Creating a column mean_score\n",
    "df.insert(df.shape[1], 'mean_score', '0')"
   ]
  },
  {
   "cell_type": "code",
   "execution_count": 27,
   "id": "f0d39d19-ee9f-4e3a-8df3-329f66c1afc0",
   "metadata": {},
   "outputs": [],
   "source": [
    "df['mean_score'] = df.apply(lambda x: round(sum(x['all scores']) / x['nbr_reviews'], 2) if x['nbr_reviews'] !=0 else x['nbr_reviews'], axis=1)"
   ]
  },
  {
   "cell_type": "code",
   "execution_count": 28,
   "id": "0614c8a5-c900-4b95-8441-b2d7fbbd87be",
   "metadata": {},
   "outputs": [],
   "source": [
    "#Creating a column mean_polarity\n",
    "df.insert(df.shape[1], 'mean_polarity', '')"
   ]
  },
  {
   "cell_type": "code",
   "execution_count": 29,
   "id": "c28d4e6c-418e-4e57-9de2-4c3499182295",
   "metadata": {},
   "outputs": [],
   "source": [
    "df['mean_polarity'] = df['mean_score'].apply(lambda x: score_to_text(x))"
   ]
  },
  {
   "cell_type": "code",
   "execution_count": 30,
   "id": "8ec61fb3-807a-45fc-815b-5bd04894f486",
   "metadata": {},
   "outputs": [
    {
     "data": {
      "text/html": [
       "<div>\n",
       "<style scoped>\n",
       "    .dataframe tbody tr th:only-of-type {\n",
       "        vertical-align: middle;\n",
       "    }\n",
       "\n",
       "    .dataframe tbody tr th {\n",
       "        vertical-align: top;\n",
       "    }\n",
       "\n",
       "    .dataframe thead th {\n",
       "        text-align: right;\n",
       "    }\n",
       "</style>\n",
       "<table border=\"1\" class=\"dataframe\">\n",
       "  <thead>\n",
       "    <tr style=\"text-align: right;\">\n",
       "      <th></th>\n",
       "      <th>Book Title</th>\n",
       "      <th>Book Subtitle</th>\n",
       "      <th>Book Author</th>\n",
       "      <th>Book Narrator</th>\n",
       "      <th>Audio Runtime</th>\n",
       "      <th>Audiobook_Type</th>\n",
       "      <th>Categories</th>\n",
       "      <th>Rating</th>\n",
       "      <th>Total No. of Ratings</th>\n",
       "      <th>Price</th>\n",
       "      <th>...</th>\n",
       "      <th>polarity and score 94</th>\n",
       "      <th>polarity and score 95</th>\n",
       "      <th>polarity and score 96</th>\n",
       "      <th>polarity and score 97</th>\n",
       "      <th>polarity and score 98</th>\n",
       "      <th>polarity and score 99</th>\n",
       "      <th>polarity and score 100</th>\n",
       "      <th>all scores</th>\n",
       "      <th>mean_score</th>\n",
       "      <th>mean_polarity</th>\n",
       "    </tr>\n",
       "  </thead>\n",
       "  <tbody>\n",
       "    <tr>\n",
       "      <th>0</th>\n",
       "      <td>Bamboozled by Jesus</td>\n",
       "      <td>How God Tricked Me into the Life of My Dreams</td>\n",
       "      <td>Yvonne Orji</td>\n",
       "      <td>Yvonne Orji</td>\n",
       "      <td>391</td>\n",
       "      <td>Unabridged Audiobook</td>\n",
       "      <td>Biographies &amp; Memoirs</td>\n",
       "      <td>5.0</td>\n",
       "      <td>47.0</td>\n",
       "      <td>29.65</td>\n",
       "      <td>...</td>\n",
       "      <td>[0, ]</td>\n",
       "      <td>[0, ]</td>\n",
       "      <td>[0, ]</td>\n",
       "      <td>[0, ]</td>\n",
       "      <td>[0, ]</td>\n",
       "      <td>[0, ]</td>\n",
       "      <td>0</td>\n",
       "      <td>[0.4, 0.4, 0.1, 0.2, 0.26, 0.08, 0.25, 0.19, -...</td>\n",
       "      <td>0.20</td>\n",
       "      <td>postive</td>\n",
       "    </tr>\n",
       "    <tr>\n",
       "      <th>1</th>\n",
       "      <td>Sixth Realm Part 1</td>\n",
       "      <td>A LitRPG Fantasy Series (The Ten Realms, Book 6)</td>\n",
       "      <td>Michael Chatfield</td>\n",
       "      <td>Neil Hellegers</td>\n",
       "      <td>813</td>\n",
       "      <td>Unabridged Audiobook</td>\n",
       "      <td>Science Fiction &amp; Fantasy</td>\n",
       "      <td>4.5</td>\n",
       "      <td>98.0</td>\n",
       "      <td>24.95</td>\n",
       "      <td>...</td>\n",
       "      <td>[0, ]</td>\n",
       "      <td>[0, ]</td>\n",
       "      <td>[0, ]</td>\n",
       "      <td>[0, ]</td>\n",
       "      <td>[0, ]</td>\n",
       "      <td>[0, ]</td>\n",
       "      <td>0</td>\n",
       "      <td>[-0.05, 0.6, 0.1, 0.5, 0.14, 0.34, 1.0, 0.5, 0...</td>\n",
       "      <td>0.30</td>\n",
       "      <td>postive</td>\n",
       "    </tr>\n",
       "    <tr>\n",
       "      <th>4</th>\n",
       "      <td>The Devil May Dance</td>\n",
       "      <td>A Novel</td>\n",
       "      <td>Jake Tapper</td>\n",
       "      <td>Rob Shapiro</td>\n",
       "      <td>612</td>\n",
       "      <td>Unabridged Audiobook</td>\n",
       "      <td>Mystery, Thriller &amp; Suspense</td>\n",
       "      <td>4.5</td>\n",
       "      <td>108.0</td>\n",
       "      <td>29.65</td>\n",
       "      <td>...</td>\n",
       "      <td>[0, ]</td>\n",
       "      <td>[0, ]</td>\n",
       "      <td>[0, ]</td>\n",
       "      <td>[0, ]</td>\n",
       "      <td>[0, ]</td>\n",
       "      <td>[0, ]</td>\n",
       "      <td>0</td>\n",
       "      <td>[0.25, 0.4, 0.44, -0.3, 0.26, 0.0, 0.2, 0.0, 0...</td>\n",
       "      <td>0.09</td>\n",
       "      <td>neutral</td>\n",
       "    </tr>\n",
       "    <tr>\n",
       "      <th>5</th>\n",
       "      <td>Shadow Storm</td>\n",
       "      <td>Shadow Rider, Book 6</td>\n",
       "      <td>Christine Feehan</td>\n",
       "      <td>Jim Frangione</td>\n",
       "      <td>822</td>\n",
       "      <td>Unabridged Audiobook</td>\n",
       "      <td>Mystery, Thriller &amp; Suspense</td>\n",
       "      <td>4.8</td>\n",
       "      <td>124.0</td>\n",
       "      <td>31.49</td>\n",
       "      <td>...</td>\n",
       "      <td>[0, ]</td>\n",
       "      <td>[0, ]</td>\n",
       "      <td>[0, ]</td>\n",
       "      <td>[0, ]</td>\n",
       "      <td>[0, ]</td>\n",
       "      <td>[0, ]</td>\n",
       "      <td>0</td>\n",
       "      <td>[-0.03, -0.04, 0.32, 0.36, 0.39, 0.21, 0.51, 0...</td>\n",
       "      <td>0.29</td>\n",
       "      <td>postive</td>\n",
       "    </tr>\n",
       "    <tr>\n",
       "      <th>8</th>\n",
       "      <td>Dream Spinner</td>\n",
       "      <td>NaN</td>\n",
       "      <td>Kristen Ashley</td>\n",
       "      <td>Susannah Jones</td>\n",
       "      <td>765</td>\n",
       "      <td>Unabridged Audiobook</td>\n",
       "      <td>Romance</td>\n",
       "      <td>4.6</td>\n",
       "      <td>101.0</td>\n",
       "      <td>29.65</td>\n",
       "      <td>...</td>\n",
       "      <td>[0, ]</td>\n",
       "      <td>[0, ]</td>\n",
       "      <td>[0, ]</td>\n",
       "      <td>[0, ]</td>\n",
       "      <td>[0, ]</td>\n",
       "      <td>[0, ]</td>\n",
       "      <td>0</td>\n",
       "      <td>[0.33, 0.19, 0.28, 0.36, 0.35, 0.22, 0, 0, 0, ...</td>\n",
       "      <td>0.29</td>\n",
       "      <td>postive</td>\n",
       "    </tr>\n",
       "  </tbody>\n",
       "</table>\n",
       "<p>5 rows × 214 columns</p>\n",
       "</div>"
      ],
      "text/plain": [
       "            Book Title                                     Book Subtitle  \\\n",
       "0  Bamboozled by Jesus     How God Tricked Me into the Life of My Dreams   \n",
       "1   Sixth Realm Part 1  A LitRPG Fantasy Series (The Ten Realms, Book 6)   \n",
       "4  The Devil May Dance                                           A Novel   \n",
       "5         Shadow Storm                              Shadow Rider, Book 6   \n",
       "8        Dream Spinner                                               NaN   \n",
       "\n",
       "         Book Author   Book Narrator  Audio Runtime        Audiobook_Type  \\\n",
       "0        Yvonne Orji     Yvonne Orji            391  Unabridged Audiobook   \n",
       "1  Michael Chatfield  Neil Hellegers            813  Unabridged Audiobook   \n",
       "4        Jake Tapper     Rob Shapiro            612  Unabridged Audiobook   \n",
       "5   Christine Feehan   Jim Frangione            822  Unabridged Audiobook   \n",
       "8     Kristen Ashley  Susannah Jones            765  Unabridged Audiobook   \n",
       "\n",
       "                     Categories  Rating  Total No. of Ratings  Price  ...  \\\n",
       "0         Biographies & Memoirs     5.0                  47.0  29.65  ...   \n",
       "1     Science Fiction & Fantasy     4.5                  98.0  24.95  ...   \n",
       "4  Mystery, Thriller & Suspense     4.5                 108.0  29.65  ...   \n",
       "5  Mystery, Thriller & Suspense     4.8                 124.0  31.49  ...   \n",
       "8                       Romance     4.6                 101.0  29.65  ...   \n",
       "\n",
       "  polarity and score 94 polarity and score 95 polarity and score 96  \\\n",
       "0                 [0, ]                 [0, ]                 [0, ]   \n",
       "1                 [0, ]                 [0, ]                 [0, ]   \n",
       "4                 [0, ]                 [0, ]                 [0, ]   \n",
       "5                 [0, ]                 [0, ]                 [0, ]   \n",
       "8                 [0, ]                 [0, ]                 [0, ]   \n",
       "\n",
       "  polarity and score 97 polarity and score 98 polarity and score 99  \\\n",
       "0                 [0, ]                 [0, ]                 [0, ]   \n",
       "1                 [0, ]                 [0, ]                 [0, ]   \n",
       "4                 [0, ]                 [0, ]                 [0, ]   \n",
       "5                 [0, ]                 [0, ]                 [0, ]   \n",
       "8                 [0, ]                 [0, ]                 [0, ]   \n",
       "\n",
       "  polarity and score 100                                         all scores  \\\n",
       "0                      0  [0.4, 0.4, 0.1, 0.2, 0.26, 0.08, 0.25, 0.19, -...   \n",
       "1                      0  [-0.05, 0.6, 0.1, 0.5, 0.14, 0.34, 1.0, 0.5, 0...   \n",
       "4                      0  [0.25, 0.4, 0.44, -0.3, 0.26, 0.0, 0.2, 0.0, 0...   \n",
       "5                      0  [-0.03, -0.04, 0.32, 0.36, 0.39, 0.21, 0.51, 0...   \n",
       "8                      0  [0.33, 0.19, 0.28, 0.36, 0.35, 0.22, 0, 0, 0, ...   \n",
       "\n",
       "  mean_score mean_polarity  \n",
       "0       0.20       postive  \n",
       "1       0.30       postive  \n",
       "4       0.09       neutral  \n",
       "5       0.29       postive  \n",
       "8       0.29       postive  \n",
       "\n",
       "[5 rows x 214 columns]"
      ]
     },
     "execution_count": 30,
     "metadata": {},
     "output_type": "execute_result"
    }
   ],
   "source": [
    "df.head()"
   ]
  },
  {
   "cell_type": "markdown",
   "id": "3f93809e-ec66-4158-85df-a25fb8f07b3d",
   "metadata": {
    "tags": []
   },
   "source": [
    "# Regressions"
   ]
  },
  {
   "cell_type": "markdown",
   "id": "86b6469f-4b31-407a-b03a-00d4aa8ae94e",
   "metadata": {},
   "source": [
    "We will implement multiple regression models to try and predict the rating from the available data. Each model will be compared to the baseline prediction"
   ]
  },
  {
   "cell_type": "code",
   "execution_count": 56,
   "id": "a6b06ec0-90d9-41e5-8dbb-420674709845",
   "metadata": {
    "tags": []
   },
   "outputs": [],
   "source": [
    "def Pipelining(model): \n",
    "    #Basic piepline to standardize and implement model before get to gridsearch\n",
    "    estimators = []\n",
    "    estimators.append(('standardize', StandardScaler()))         # tell it to standardize features\n",
    "    estimators.append(('model', model()))  # tell it to use a linear reg model\n",
    "    model = Pipeline(estimators) \n",
    "    return model\n"
   ]
  },
  {
   "cell_type": "code",
   "execution_count": 74,
   "id": "dd411ec3-e7bf-41da-b7a9-eca78c3e9716",
   "metadata": {
    "tags": []
   },
   "outputs": [],
   "source": [
    "def LinModel():\n",
    "    #estimators = []\n",
    "    #estimators.append(('standardize', StandardScaler()))         # tell it to standardize features\n",
    "    #estimators.append(('Linear', LinearRegression()))  # tell it to use a linear reg model\n",
    "    model = Pipelining(LinearRegression) \n",
    "    space = {'model__fit_intercept':[True,False], \n",
    "                  'model__copy_X':[True, False],\n",
    "                 'model__positive': [True, False]}\n",
    "    search_lin_reg = GridSearchCV(model,space, cv=Nb_cv, scoring='r2')\n",
    "    \n",
    "    return search_lin_reg\n"
   ]
  },
  {
   "cell_type": "code",
   "execution_count": 77,
   "id": "203824be-e04f-424f-af11-1ff10120cd5d",
   "metadata": {
    "tags": []
   },
   "outputs": [],
   "source": [
    "def RidgeModel(scoring):\n",
    "    model = Pipelining(Ridge)\n",
    "    # define search space\n",
    "    space = dict()\n",
    "    space['model__solver'] = ['svd', 'cholesky', 'lsqr', 'sag']\n",
    "    space['model__alpha'] = [1e-5, 1e-4, 1e-3, 1e-2, 1e-1, 1, 10, 100]\n",
    "    space['model__fit_intercept'] = [True, False]\n",
    "    search_ridge = GridSearchCV(model,space, cv=Nb_cv, scoring=scoring,n_jobs=-1,)\n",
    "    \n",
    "    return search_ridge\n"
   ]
  },
  {
   "cell_type": "code",
   "execution_count": 93,
   "id": "0aa0a214-a5c8-4a80-b8c2-f3fcdf40e976",
   "metadata": {
    "tags": []
   },
   "outputs": [],
   "source": [
    "def LassoModel(scoring):\n",
    "    model_lasso = Pipelining(Lasso)\n",
    "    # define search space\n",
    "    space_las = dict()\n",
    "    #space_las['Lasso__solver'] = ['svd', 'cholesky', 'lsqr', 'sag']\n",
    "    space_las['model__alpha'] = [1e-5, 1e-4, 1e-3, 1e-2, 1e-1, 1, 10, 100]\n",
    "    space_las['model__fit_intercept'] = [True, False]\n",
    "    # define search\n",
    "    search_lasso = GridSearchCV(model_lasso, space_las, scoring=scoring, n_jobs=-1, cv=Nb_cv)\n",
    "    return search_lasso\n",
    "\n"
   ]
  },
  {
   "cell_type": "code",
   "execution_count": 105,
   "id": "afbb6206-12e0-43fe-ab53-910d521ff3a3",
   "metadata": {
    "tags": []
   },
   "outputs": [],
   "source": [
    "def SVRModel(scoring):\n",
    "    model_SVR = Pipelining(SVR) \n",
    "    # defining parameter range\n",
    "    param_grid = {'model__C': [0.1, 1, 10, 100],\n",
    "                  'model__gamma': [1, 0.1, 0.01, 0.001],\n",
    "                  }\n",
    "    #Define search\n",
    "    SVR_GridSearch = GridSearchCV(model_SVR, param_grid, scoring='neg_mean_absolute_error', n_jobs=-1, cv=Nb_cv)\n",
    "    return SVR_GridSearch"
   ]
  },
  {
   "cell_type": "code",
   "execution_count": 116,
   "id": "7e4664d6-3171-4659-91af-1f6675a4c3be",
   "metadata": {
    "tags": []
   },
   "outputs": [],
   "source": [
    "def KNNmodel(scoring):\n",
    "    model_KNN = Pipelining(KNeighborsRegressor)\n",
    "    k_range = list(range(1, 31))\n",
    "    space = dict()\n",
    "    space['model__n_neighbors']=k_range\n",
    "    space['model__leaf_size']=[5, 10, 20, 30, 40, 50]\n",
    "    # defining parameter range\n",
    "    search_KNN = GridSearchCV(model_KNN, space, scoring=scoring, n_jobs=-1, cv=Nb_cv)\n",
    "    return search_KNN\n"
   ]
  },
  {
   "cell_type": "code",
   "execution_count": 31,
   "id": "5b5bd5e4-817d-4b90-9e4d-35358f16902d",
   "metadata": {
    "tags": []
   },
   "outputs": [],
   "source": [
    "def evaluate(model, test_features, test_labels):\n",
    "    predictions = model.predict(test_features)\n",
    "    #accuracy = 100 - mape\n",
    "    mae = mean_absolute_error(test_labels,model.predict(test_features))\n",
    "    r2score = r2_score(test_labels, predictions)\n",
    "    print('Best Score: %s' % model.best_score_)\n",
    "    print('Best Hyperparameters: %s' % model.best_params_)\n",
    "    \n",
    "    print('\\n', 'Model Performance')\n",
    "    #print('Average Error: {:0.4f} .'.format(np.mean(errors)))\n",
    "    #print('Accuracy = {:0.2f}%.'.format(accuracy))\n",
    "    print('Mean Absolute Error =  {:0.4f} .'.format(mae))\n",
    "    print(\"Residual sum of squares: %.2f\"\n",
    "              % np.mean((model.predict(X_test) - y_test) ** 2))\n",
    "    print('Mean Absolute Error Improvement of {:0.2f}%.'.format( -(mae - mae_baseline)*100/mae_baseline))\n",
    "    print('R2 score = {:0.4f}.'.format(r2score))\n",
    "\n",
    "    return "
   ]
  },
  {
   "cell_type": "code",
   "execution_count": 32,
   "id": "9f032c7f-5ea1-4f1f-8090-822c5d324e25",
   "metadata": {
    "tags": []
   },
   "outputs": [],
   "source": [
    "def evaluateTTR(model, test_features, test_labels):\n",
    "    predictions = model.predict(test_features)\n",
    "    #accuracy = 100 - mape\n",
    "    mae = mean_absolute_error(test_labels,model.predict(test_features))\n",
    "    r2score = r2_score(test_labels, predictions)\n",
    "    #print('Best Score: %s' % model.best_score_)\n",
    "    #print('Best Hyperparameters: %s' % model.best_params_)\n",
    "    \n",
    "    print('\\n', 'Model Performance')\n",
    "    #print('Average Error: {:0.4f} .'.format(np.mean(errors)))\n",
    "    #print('Accuracy = {:0.2f}%.'.format(accuracy))\n",
    "    print('Mean Absolute Error =  {:0.4f} .'.format(mae))\n",
    "    print(\"Residual sum of squares: %.2f\"\n",
    "              % np.mean((model.predict(X_test) - y_test) ** 2))\n",
    "    print('Mean Absolute Error Improvement of {:0.2f}%.'.format( -(mae - mae_baseline)*100/mae_baseline))\n",
    "    print('R2 score = {:0.4f}.'.format(r2score))\n",
    "\n",
    "    return "
   ]
  },
  {
   "cell_type": "code",
   "execution_count": 33,
   "id": "64283b99-7931-41b3-a63e-9b3dacae77ca",
   "metadata": {
    "tags": []
   },
   "outputs": [],
   "source": [
    "def modelTTR(model):\n",
    "    model_trans = TransformedTargetRegressor(\n",
    "    regressor=model,\n",
    "    transformer=QuantileTransformer(n_quantiles=500, output_distribution=\"normal\"),\n",
    "    )\n",
    "    test_model = model_trans.fit(X_train, y_train)\n",
    "    y_pred = test_model.predict(X_test)\n",
    "    return test_model\n"
   ]
  },
  {
   "cell_type": "markdown",
   "id": "2fc57a28-51b6-4e7f-a219-4545ef5a8db8",
   "metadata": {
    "tags": []
   },
   "source": [
    "## Data cleaning for regressions"
   ]
  },
  {
   "cell_type": "markdown",
   "id": "2638dea9-7d65-4275-85ac-08bd38e82b2c",
   "metadata": {},
   "source": [
    "We won't be using the reviews as they were utilised in the NLP and sentiment analysis."
   ]
  },
  {
   "cell_type": "code",
   "execution_count": 34,
   "id": "48ad975c-d24c-4a06-b883-d2c31954bd6f",
   "metadata": {},
   "outputs": [
    {
     "data": {
      "text/html": [
       "<div>\n",
       "<style scoped>\n",
       "    .dataframe tbody tr th:only-of-type {\n",
       "        vertical-align: middle;\n",
       "    }\n",
       "\n",
       "    .dataframe tbody tr th {\n",
       "        vertical-align: top;\n",
       "    }\n",
       "\n",
       "    .dataframe thead th {\n",
       "        text-align: right;\n",
       "    }\n",
       "</style>\n",
       "<table border=\"1\" class=\"dataframe\">\n",
       "  <thead>\n",
       "    <tr style=\"text-align: right;\">\n",
       "      <th></th>\n",
       "      <th>Book Title</th>\n",
       "      <th>Book Subtitle</th>\n",
       "      <th>Book Author</th>\n",
       "      <th>Book Narrator</th>\n",
       "      <th>Audio Runtime</th>\n",
       "      <th>Audiobook_Type</th>\n",
       "      <th>Categories</th>\n",
       "      <th>Rating</th>\n",
       "      <th>Total No. of Ratings</th>\n",
       "      <th>Price</th>\n",
       "      <th>nbr_reviews</th>\n",
       "      <th>mean_score</th>\n",
       "      <th>mean_polarity</th>\n",
       "    </tr>\n",
       "  </thead>\n",
       "  <tbody>\n",
       "    <tr>\n",
       "      <th>1008</th>\n",
       "      <td>The Tower of Swallows</td>\n",
       "      <td>NaN</td>\n",
       "      <td>Andrzej Sapkowski</td>\n",
       "      <td>Peter Kenny</td>\n",
       "      <td>985</td>\n",
       "      <td>Unabridged Audiobook</td>\n",
       "      <td>Science Fiction &amp; Fantasy</td>\n",
       "      <td>4.8</td>\n",
       "      <td>9989.0</td>\n",
       "      <td>25.08</td>\n",
       "      <td>99</td>\n",
       "      <td>0.20</td>\n",
       "      <td>postive</td>\n",
       "    </tr>\n",
       "    <tr>\n",
       "      <th>2258</th>\n",
       "      <td>Communication in Relationships: Couples Commun...</td>\n",
       "      <td>Skills and Conversation Starters for High-Conf...</td>\n",
       "      <td>Steve Keller</td>\n",
       "      <td>Bobby Pierce</td>\n",
       "      <td>308</td>\n",
       "      <td>Unabridged Audiobook</td>\n",
       "      <td>Relationships, Parenting &amp; Personal Development</td>\n",
       "      <td>5.0</td>\n",
       "      <td>205.0</td>\n",
       "      <td>19.95</td>\n",
       "      <td>99</td>\n",
       "      <td>0.34</td>\n",
       "      <td>postive</td>\n",
       "    </tr>\n",
       "    <tr>\n",
       "      <th>1725</th>\n",
       "      <td>Changing Direction</td>\n",
       "      <td>10 Choices That Impact Your Dreams</td>\n",
       "      <td>Mary Miller</td>\n",
       "      <td>Mary Miller</td>\n",
       "      <td>296</td>\n",
       "      <td>Unabridged Audiobook</td>\n",
       "      <td>Business &amp; Careers</td>\n",
       "      <td>5.0</td>\n",
       "      <td>1.0</td>\n",
       "      <td>14.95</td>\n",
       "      <td>0</td>\n",
       "      <td>0.00</td>\n",
       "      <td>neutral</td>\n",
       "    </tr>\n",
       "    <tr>\n",
       "      <th>979</th>\n",
       "      <td>Nothing Personal</td>\n",
       "      <td>My Secret Life in the Dating App Inferno</td>\n",
       "      <td>Nancy Jo Sales</td>\n",
       "      <td>Therese Plummer</td>\n",
       "      <td>747</td>\n",
       "      <td>Unabridged Audiobook</td>\n",
       "      <td>Biographies &amp; Memoirs</td>\n",
       "      <td>4.5</td>\n",
       "      <td>2.0</td>\n",
       "      <td>29.65</td>\n",
       "      <td>0</td>\n",
       "      <td>0.00</td>\n",
       "      <td>neutral</td>\n",
       "    </tr>\n",
       "    <tr>\n",
       "      <th>4</th>\n",
       "      <td>The Devil May Dance</td>\n",
       "      <td>A Novel</td>\n",
       "      <td>Jake Tapper</td>\n",
       "      <td>Rob Shapiro</td>\n",
       "      <td>612</td>\n",
       "      <td>Unabridged Audiobook</td>\n",
       "      <td>Mystery, Thriller &amp; Suspense</td>\n",
       "      <td>4.5</td>\n",
       "      <td>108.0</td>\n",
       "      <td>29.65</td>\n",
       "      <td>12</td>\n",
       "      <td>0.09</td>\n",
       "      <td>neutral</td>\n",
       "    </tr>\n",
       "  </tbody>\n",
       "</table>\n",
       "</div>"
      ],
      "text/plain": [
       "                                             Book Title  \\\n",
       "1008                              The Tower of Swallows   \n",
       "2258  Communication in Relationships: Couples Commun...   \n",
       "1725                                 Changing Direction   \n",
       "979                                    Nothing Personal   \n",
       "4                                   The Devil May Dance   \n",
       "\n",
       "                                          Book Subtitle        Book Author  \\\n",
       "1008                                                NaN  Andrzej Sapkowski   \n",
       "2258  Skills and Conversation Starters for High-Conf...       Steve Keller   \n",
       "1725                 10 Choices That Impact Your Dreams        Mary Miller   \n",
       "979            My Secret Life in the Dating App Inferno     Nancy Jo Sales   \n",
       "4                                               A Novel        Jake Tapper   \n",
       "\n",
       "        Book Narrator  Audio Runtime        Audiobook_Type  \\\n",
       "1008      Peter Kenny            985  Unabridged Audiobook   \n",
       "2258     Bobby Pierce            308  Unabridged Audiobook   \n",
       "1725      Mary Miller            296  Unabridged Audiobook   \n",
       "979   Therese Plummer            747  Unabridged Audiobook   \n",
       "4         Rob Shapiro            612  Unabridged Audiobook   \n",
       "\n",
       "                                           Categories  Rating  \\\n",
       "1008                        Science Fiction & Fantasy     4.8   \n",
       "2258  Relationships, Parenting & Personal Development     5.0   \n",
       "1725                               Business & Careers     5.0   \n",
       "979                             Biographies & Memoirs     4.5   \n",
       "4                        Mystery, Thriller & Suspense     4.5   \n",
       "\n",
       "      Total No. of Ratings  Price  nbr_reviews  mean_score mean_polarity  \n",
       "1008                9989.0  25.08           99        0.20       postive  \n",
       "2258                 205.0  19.95           99        0.34       postive  \n",
       "1725                   1.0  14.95            0        0.00       neutral  \n",
       "979                    2.0  29.65            0        0.00       neutral  \n",
       "4                    108.0  29.65           12        0.09       neutral  "
      ]
     },
     "execution_count": 34,
     "metadata": {},
     "output_type": "execute_result"
    }
   ],
   "source": [
    "\n",
    "\n",
    "data = pd.concat([df.iloc[:, 0:10].copy(), df.nbr_reviews.copy(), df.mean_score, df.mean_polarity],axis = 1)  # To avoid the case where changing data also changes df\n",
    "\n",
    "data.sample(5)\n"
   ]
  },
  {
   "cell_type": "code",
   "execution_count": 35,
   "id": "b01b69d1-e5ef-4b6f-a70f-3739a26df9eb",
   "metadata": {
    "tags": []
   },
   "outputs": [
    {
     "data": {
      "text/plain": [
       "(1975, 2742)"
      ]
     },
     "execution_count": 35,
     "metadata": {},
     "output_type": "execute_result"
    }
   ],
   "source": [
    "data = pd.get_dummies(data = data, columns = ['Book Author', 'Book Narrator', 'Audiobook_Type', 'Categories', 'mean_polarity'])\n",
    "features = list(set(list(data.columns)) - set([\"Rating\", \"Book Subtitle\", \"Book Title\"]))\n",
    "X = data.loc[:, features]\n",
    "Y = data.loc[:, 'Rating']\n",
    "#Don't know how to use Book Subtitle in a usefull way - NLP stuff\n",
    "data.shape"
   ]
  },
  {
   "cell_type": "code",
   "execution_count": 36,
   "id": "84107c65-5b8b-4943-bd36-6da1310a6e9f",
   "metadata": {
    "tags": []
   },
   "outputs": [
    {
     "data": {
      "text/plain": [
       "<seaborn.axisgrid.FacetGrid at 0x7ffb86a066a0>"
      ]
     },
     "execution_count": 36,
     "metadata": {},
     "output_type": "execute_result"
    },
    {
     "data": {
      "image/png": "[encoded data removed]",
      "text/plain": [
       "<Figure size 360x360 with 1 Axes>"
      ]
     },
     "metadata": {
      "needs_background": "light"
     },
     "output_type": "display_data"
    }
   ],
   "source": [
    "sns.displot(data, x=\"Rating\")\n",
    "#Observe a few outliers which are stopping me from creating a model."
   ]
  },
  {
   "cell_type": "markdown",
   "id": "952f584c-c9d8-48eb-9992-4ded9cc64a3b",
   "metadata": {},
   "source": [
    "The rating distribution is highly skewed and we have a few outliers. TO be able to use these outliers we combined them at specific values."
   ]
  },
  {
   "cell_type": "code",
   "execution_count": 37,
   "id": "3f6847ce-e5cc-40b4-9d7c-be099064a557",
   "metadata": {
    "tags": []
   },
   "outputs": [],
   "source": [
    "#having an issue with singular target values on the models. Grouping for value lower then 2, lower than 3\n",
    "for value in Y:\n",
    "    if value <=1:\n",
    "        Y.replace([value],1)\n",
    "    if 1<value<=2 :\n",
    "        Y = Y.replace([value],2)\n",
    "    if 2<value <= 2.5:\n",
    "        Y = Y.replace([value],2.5)\n",
    "    if 2.5<value <= 3:\n",
    "        Y = Y.replace([value],3)\n",
    "    if 3<value <=3.5:\n",
    "        Y = Y.replace([value],3.5)\n",
    "    if 3.5< value <= 3.75:\n",
    "        Y = Y.replace([value],3.75)"
   ]
  },
  {
   "cell_type": "code",
   "execution_count": 38,
   "id": "94fdc441-a64e-45c0-a233-4139750d4b2d",
   "metadata": {
    "tags": []
   },
   "outputs": [
    {
     "data": {
      "text/plain": [
       "<seaborn.axisgrid.FacetGrid at 0x7ffb8957ef10>"
      ]
     },
     "execution_count": 38,
     "metadata": {},
     "output_type": "execute_result"
    },
    {
     "data": {
      "image/png": "[encoded data removed]",
      "text/plain": [
       "<Figure size 360x360 with 1 Axes>"
      ]
     },
     "metadata": {
      "needs_background": "light"
     },
     "output_type": "display_data"
    }
   ],
   "source": [
    "sns.displot(Y)\n",
    "#Sanity check that previous code worked and we don't have any singular outlier"
   ]
  },
  {
   "cell_type": "markdown",
   "id": "65f13526-3568-4c7b-ba83-6cadd2433165",
   "metadata": {},
   "source": [
    "The rating distribution is highly skewed and we have a few outliers. To adress the skewness of the data we will transform the target varaible to a more 'normal' distribution."
   ]
  },
  {
   "cell_type": "code",
   "execution_count": 39,
   "id": "de69f65a-c532-438a-a7e5-d1baa17e82e3",
   "metadata": {
    "tags": []
   },
   "outputs": [
    {
     "data": {
      "text/plain": [
       "<seaborn.axisgrid.FacetGrid at 0x7ffb8a3b7820>"
      ]
     },
     "execution_count": 39,
     "metadata": {},
     "output_type": "execute_result"
    },
    {
     "data": {
      "image/png": "[encoded data removed]",
      "text/plain": [
       "<Figure size 360x360 with 1 Axes>"
      ]
     },
     "metadata": {
      "needs_background": "light"
     },
     "output_type": "display_data"
    }
   ],
   "source": [
    "#Changing distribution as data is very skewed\n",
    "Y_trans = quantile_transform(Y.to_frame(), \n",
    "                             n_quantiles=500, \n",
    "                             output_distribution='normal', \n",
    "                             copy=True\n",
    "                            ).squeeze()\n",
    "sns.displot(Y_trans)"
   ]
  },
  {
   "cell_type": "code",
   "execution_count": 40,
   "id": "85cf8aba-f46d-44f5-a20b-8a0e9cef7f8c",
   "metadata": {
    "tags": []
   },
   "outputs": [],
   "source": [
    "X_train, X_test, y_train, y_test = train_test_split(X, Y, test_size=0.20, stratify=Y, random_state = SEED)\n",
    "#Could not use stratify due to low counts of some variables"
   ]
  },
  {
   "cell_type": "code",
   "execution_count": 41,
   "id": "fef5b047-311d-495c-aae3-3c9bba8b50a6",
   "metadata": {
    "tags": []
   },
   "outputs": [],
   "source": [
    "Nb_cv = 3"
   ]
  },
  {
   "cell_type": "code",
   "execution_count": 42,
   "id": "e2d8b19e-cc9d-4c45-a86f-883797468690",
   "metadata": {
    "tags": []
   },
   "outputs": [],
   "source": [
    "# define standard scaler\n",
    "scaler = StandardScaler()"
   ]
  },
  {
   "cell_type": "markdown",
   "id": "92fd87a2-6de6-4fee-b42a-df76bf9de63a",
   "metadata": {
    "jp-MarkdownHeadingCollapsed": true,
    "tags": []
   },
   "source": [
    "## Baseline Model"
   ]
  },
  {
   "cell_type": "code",
   "execution_count": 43,
   "id": "c88751ad-061f-45ac-a936-03a7996a4de0",
   "metadata": {
    "tags": []
   },
   "outputs": [
    {
     "name": "stdout",
     "output_type": "stream",
     "text": [
      "Average rating 4.59\n",
      "Baseline mean absolute error: 0.2439.\n",
      "Baseline r2 score: -0.0.\n"
     ]
    }
   ],
   "source": [
    "y_pred = [np.mean(y_train)]*len(y_test)\n",
    "print(\"Average rating\", np.round(np.mean(y_train), decimals = 2))\n",
    "mae_baseline = mean_absolute_error(y_test, y_pred)\n",
    "print(\"Baseline mean absolute error: {:0.4f}.\".format(mae_baseline))\n",
    "r2_baseline = r2_score(y_test, y_pred)\n",
    "print(\"Baseline r2 score: {:0.1f}.\".format(r2_baseline))"
   ]
  },
  {
   "cell_type": "markdown",
   "id": "2a59b93c-663f-446b-9409-5716fb196c4d",
   "metadata": {
    "jp-MarkdownHeadingCollapsed": true,
    "tags": []
   },
   "source": [
    "## Linear Model"
   ]
  },
  {
   "cell_type": "code",
   "execution_count": 75,
   "id": "d063cad7-4aad-4892-93e2-fe217ab48f73",
   "metadata": {
    "tags": []
   },
   "outputs": [],
   "source": [
    "# Finding the best model\n",
    "Search_linreg =LinModel()\n",
    "lin_reg_result = Search_linreg.fit(X_train, y_train)"
   ]
  },
  {
   "cell_type": "code",
   "execution_count": 76,
   "id": "af40cea8-7e09-4794-a185-6a631da1cbeb",
   "metadata": {
    "tags": []
   },
   "outputs": [
    {
     "name": "stdout",
     "output_type": "stream",
     "text": [
      "Best Score: -5.24402681469789e+23\n",
      "Best Hyperparameters: {'model__copy_X': True, 'model__fit_intercept': True, 'model__positive': True}\n",
      "\n",
      " Model Performance\n",
      "Mean Absolute Error =  2.3162 .\n",
      "Residual sum of squares: 7.84\n",
      "Mean Absolute Error Improvement of -849.74%.\n",
      "R2 score = -51.5236.\n"
     ]
    }
   ],
   "source": [
    "# summarize result\n",
    "evaluate(lin_reg_result, X_test, y_test)"
   ]
  },
  {
   "cell_type": "code",
   "execution_count": 47,
   "id": "46d7ce64-2ff4-4ffa-ba9a-0f329d3f546d",
   "metadata": {
    "tags": []
   },
   "outputs": [],
   "source": [
    "test_model_lin = modelTTR(Search_linreg)"
   ]
  },
  {
   "cell_type": "code",
   "execution_count": 48,
   "id": "3d3be60c-305c-4640-9465-bef58a292440",
   "metadata": {
    "tags": []
   },
   "outputs": [
    {
     "name": "stdout",
     "output_type": "stream",
     "text": [
      "\n",
      " Model Performance\n",
      "Mean Absolute Error =  2.3228 .\n",
      "Residual sum of squares: 8.10\n",
      "Mean Absolute Error Improvement of -852.41%.\n",
      "R2 score = -53.3096.\n"
     ]
    }
   ],
   "source": [
    "# summarize result\n",
    "evaluateTTR(test_model_lin, X_test, y_test)"
   ]
  },
  {
   "cell_type": "markdown",
   "id": "db3209b9-b2dc-49aa-a5a7-faf794ff2b52",
   "metadata": {
    "jp-MarkdownHeadingCollapsed": true,
    "tags": []
   },
   "source": [
    "## Ridge Model"
   ]
  },
  {
   "cell_type": "code",
   "execution_count": 81,
   "id": "b07e0862-d0bb-49d6-9e4f-c09c7de48c47",
   "metadata": {
    "tags": []
   },
   "outputs": [],
   "source": [
    "Search_ridge = RidgeModel('r2')\n",
    "# execute search\n",
    "Ridge_result = Search_ridge.fit(X_train, y_train)"
   ]
  },
  {
   "cell_type": "code",
   "execution_count": 82,
   "id": "5a2ae37e-2a9b-4f70-b415-1addfbad6b3e",
   "metadata": {
    "tags": []
   },
   "outputs": [
    {
     "name": "stdout",
     "output_type": "stream",
     "text": [
      "Best Score: 0.14719785451946332\n",
      "Best Hyperparameters: {'model__alpha': 100, 'model__fit_intercept': True, 'model__solver': 'sag'}\n",
      "\n",
      " Model Performance\n",
      "Mean Absolute Error =  0.2194 .\n",
      "Residual sum of squares: 0.12\n",
      "Mean Absolute Error Improvement of 10.03%.\n",
      "R2 score = 0.1733.\n"
     ]
    }
   ],
   "source": [
    "# summarize result\n",
    "evaluate(Ridge_result, X_test, y_test)"
   ]
  },
  {
   "cell_type": "code",
   "execution_count": 83,
   "id": "5c05ff42-6518-4278-bb30-ebba098b2c21",
   "metadata": {
    "tags": []
   },
   "outputs": [],
   "source": [
    "test_model_ridge = modelTTR(Search_ridge)"
   ]
  },
  {
   "cell_type": "code",
   "execution_count": 84,
   "id": "21988712-9836-4c74-835d-28b7cacba818",
   "metadata": {
    "tags": []
   },
   "outputs": [
    {
     "name": "stdout",
     "output_type": "stream",
     "text": [
      "\n",
      " Model Performance\n",
      "Mean Absolute Error =  0.2309 .\n",
      "Residual sum of squares: 0.16\n",
      "Mean Absolute Error Improvement of 5.33%.\n",
      "R2 score = -0.0774.\n"
     ]
    }
   ],
   "source": [
    "# summarize result\n",
    "evaluateTTR(test_model_ridge, X_test, y_test)"
   ]
  },
  {
   "cell_type": "markdown",
   "id": "40e2a27b-eb45-4375-aaea-64042b608799",
   "metadata": {
    "jp-MarkdownHeadingCollapsed": true,
    "tags": []
   },
   "source": [
    "## Lasso Model"
   ]
  },
  {
   "cell_type": "code",
   "execution_count": 94,
   "id": "7b7c52bd-a8b8-40e7-a327-ed787b12f09a",
   "metadata": {
    "tags": []
   },
   "outputs": [
    {
     "name": "stdout",
     "output_type": "stream",
     "text": [
      "Best Score: 0.19230319140604898\n",
      "Best Hyperparameters: {'model__alpha': 0.01, 'model__fit_intercept': True}\n",
      "\n",
      " Model Performance\n",
      "Mean Absolute Error =  0.2176 .\n",
      "Residual sum of squares: 0.15\n",
      "Mean Absolute Error Improvement of 10.77%.\n",
      "R2 score = 0.0098.\n"
     ]
    }
   ],
   "source": [
    "# execute search\n",
    "search_lasso = LassoModel('r2')\n",
    "Lasso_result = search_lasso.fit(X_train, y_train)\n",
    "# summarize result\n",
    "evaluate(Lasso_result, X_test, y_test)"
   ]
  },
  {
   "cell_type": "code",
   "execution_count": 99,
   "id": "8f163e6c-f7fe-4e1e-864f-18839cd77bca",
   "metadata": {
    "tags": []
   },
   "outputs": [],
   "source": [
    "# Testing!\n",
    "test_model_lasso = modelTTR(search_lasso)"
   ]
  },
  {
   "cell_type": "code",
   "execution_count": 100,
   "id": "a03c2875-6156-4b9c-9101-7b44bb3bae04",
   "metadata": {
    "tags": []
   },
   "outputs": [
    {
     "name": "stdout",
     "output_type": "stream",
     "text": [
      "\n",
      " Model Performance\n",
      "Mean Absolute Error =  0.2191 .\n",
      "Residual sum of squares: 0.18\n",
      "Mean Absolute Error Improvement of 10.17%.\n",
      "R2 score = -0.2111.\n"
     ]
    }
   ],
   "source": [
    "# summarize result\n",
    "evaluateTTR(test_model_lasso, X_test, y_test)"
   ]
  },
  {
   "cell_type": "markdown",
   "id": "9152e30e-8d7e-454c-a711-51fc33189487",
   "metadata": {
    "jp-MarkdownHeadingCollapsed": true,
    "tags": []
   },
   "source": [
    "## SVR Model"
   ]
  },
  {
   "cell_type": "code",
   "execution_count": 106,
   "id": "181afa7a-b1e8-4d1d-bf35-b6518d1e0459",
   "metadata": {
    "tags": []
   },
   "outputs": [
    {
     "name": "stdout",
     "output_type": "stream",
     "text": [
      "{'model__C': 1, 'model__gamma': 0.001}\n",
      "Pipeline(steps=[('standardize', StandardScaler()),\n",
      "                ('model', SVR(C=1, gamma=0.001))])\n"
     ]
    }
   ],
   "source": [
    "#Execute search\n",
    "search_SVR = SVRModel('r2')\n",
    "SVR_result = search_SVR.fit(X_train, y_train)\n",
    "\n",
    "# print best parameter after tuning\n",
    "print(search_SVR.best_params_)\n",
    " \n",
    "# print how our model looks after hyper-parameter tuning\n",
    "print(search_SVR.best_estimator_)\n",
    "\n",
    "search_predictions = search_SVR.predict(X_test)"
   ]
  },
  {
   "cell_type": "code",
   "execution_count": 110,
   "id": "b9aee564-cd6a-4893-8fe3-50121ead7e9b",
   "metadata": {
    "tags": []
   },
   "outputs": [
    {
     "name": "stdout",
     "output_type": "stream",
     "text": [
      "Best Score: -0.21160065289415841\n",
      "Best Hyperparameters: {'model__C': 1, 'model__gamma': 0.001}\n",
      "\n",
      " Model Performance\n",
      "Mean Absolute Error =  0.2216 .\n",
      "Residual sum of squares: 0.12\n",
      "Mean Absolute Error Improvement of 9.14%.\n",
      "R2 score = 0.1828.\n"
     ]
    }
   ],
   "source": [
    "# summarize result\n",
    "evaluate(SVR_result, X_test, y_test)"
   ]
  },
  {
   "cell_type": "code",
   "execution_count": 109,
   "id": "86bed96d-ffb6-4eb3-82f4-b7c78d2d295b",
   "metadata": {
    "tags": []
   },
   "outputs": [],
   "source": [
    "\n",
    "test_model_SVR = modelTTR(search_SVR)\n",
    "y_pred = SVR_result.predict(X_test)\n"
   ]
  },
  {
   "cell_type": "code",
   "execution_count": 111,
   "id": "a1392874-b656-4b4c-9fb7-32904ac078ee",
   "metadata": {
    "tags": []
   },
   "outputs": [
    {
     "name": "stdout",
     "output_type": "stream",
     "text": [
      "\n",
      " Model Performance\n",
      "Mean Absolute Error =  0.2202 .\n",
      "Residual sum of squares: 0.15\n",
      "Mean Absolute Error Improvement of 9.70%.\n",
      "R2 score = 0.0258.\n"
     ]
    }
   ],
   "source": [
    "# summarize result\n",
    "evaluateTTR(test_model_SVR, X_test, y_test)"
   ]
  },
  {
   "cell_type": "markdown",
   "id": "6bf5d832-fbbc-4a26-95f0-0b7c5c1e14ef",
   "metadata": {
    "tags": []
   },
   "source": [
    "## Random Forest Model"
   ]
  },
  {
   "cell_type": "code",
   "execution_count": null,
   "id": "a01d07ab-5c0d-4830-a630-2b04bc66b32f",
   "metadata": {
    "tags": []
   },
   "outputs": [],
   "source": [
    "rf = RandomForestRegressor(random_state = SEED)\n",
    "\n",
    "# Look at parameters used by our current forest\n",
    "print('Parameters currently in use:\\n')\n",
    "pprint(rf.get_params())"
   ]
  },
  {
   "cell_type": "code",
   "execution_count": null,
   "id": "ea9dec95-650d-41a8-9c8b-dbc6c50ccef5",
   "metadata": {
    "tags": []
   },
   "outputs": [],
   "source": [
    "# Number of trees in random forest\n",
    "n_estimators = [int(x) for x in np.linspace(start = 200, stop = 2000, num = 5)]\n",
    "# Maximum number of levels in tree\n",
    "max_depth = [int(x) for x in np.linspace(10, 120, num = 5)]\n",
    "max_depth.append(None)\n",
    "# Minimum number of samples required to split a node\n",
    "min_samples_split = [2, 5, 10]\n",
    "# Minimum number of samples required at each leaf node\n",
    "min_samples_leaf = [1, 2, 4]\n",
    "# Create the random grid\n",
    "random_grid = {'n_estimators': n_estimators,\n",
    "               'max_depth': max_depth,\n",
    "               'min_samples_split': min_samples_split,\n",
    "               'min_samples_leaf': min_samples_leaf,}\n",
    "pprint(random_grid)"
   ]
  },
  {
   "cell_type": "code",
   "execution_count": 39,
   "id": "9d5c0ed7-1615-4519-bc92-c7e89324ada0",
   "metadata": {
    "tags": []
   },
   "outputs": [
    {
     "data": {
      "text/plain": [
       "RandomizedSearchCV(cv=5, estimator=RandomForestRegressor(), n_iter=100,\n",
       "                   n_jobs=-1,\n",
       "                   param_distributions={'max_depth': [10, 37, 65, 92, 120,\n",
       "                                                      None],\n",
       "                                        'min_samples_leaf': [1, 2, 4],\n",
       "                                        'min_samples_split': [2, 5, 10],\n",
       "                                        'n_estimators': [200, 650, 1100, 1550,\n",
       "                                                         2000]},\n",
       "                   random_state=123, scoring='neg_mean_absolute_error')"
      ]
     },
     "execution_count": 39,
     "metadata": {},
     "output_type": "execute_result"
    }
   ],
   "source": [
    "# Use the random grid to search for best hyperparameters\n",
    "# First create the base model to tune\n",
    "rf = RandomForestRegressor()\n",
    "# Random search of parameters, using 3 fold cross validation, \n",
    "# search across 100 different combinations, and use all available cores\n",
    "rf_random = RandomizedSearchCV(estimator = rf, param_distributions = random_grid, n_iter = 100, cv = Nb_cv, scoring='neg_mean_absolute_error', random_state=SEED, n_jobs = -1)\n",
    "# Fit the random search model\n",
    "rf_random.fit(X_train, y_train)"
   ]
  },
  {
   "cell_type": "code",
   "execution_count": 40,
   "id": "714805b9-cbaf-4ddc-b68f-f3e6b3953e05",
   "metadata": {
    "tags": []
   },
   "outputs": [
    {
     "data": {
      "text/plain": [
       "{'n_estimators': 650,\n",
       " 'min_samples_split': 2,\n",
       " 'min_samples_leaf': 1,\n",
       " 'max_depth': 120}"
      ]
     },
     "execution_count": 40,
     "metadata": {},
     "output_type": "execute_result"
    }
   ],
   "source": [
    "rf_random.best_params_"
   ]
  },
  {
   "cell_type": "code",
   "execution_count": 43,
   "id": "477ed277-3dcc-4225-a251-f7d7e34f3fac",
   "metadata": {
    "tags": []
   },
   "outputs": [
    {
     "name": "stdout",
     "output_type": "stream",
     "text": [
      "\n",
      " Model Performance\n",
      "Mean Absolute Error =  0.2089 .\n",
      "Residual sum of squares: 0.14\n",
      "Mean Absolute Error Improvement of 13.27%.\n",
      "R2 score = -0.0792.\n",
      "\n",
      " Model Performance\n",
      "Mean Absolute Error =  0.1972 .\n",
      "Residual sum of squares: 0.13\n",
      "Mean Absolute Error Improvement of 18.14%.\n",
      "R2 score = 0.0447.\n"
     ]
    },
    {
     "ename": "TypeError",
     "evalue": "unsupported operand type(s) for -: 'NoneType' and 'NoneType'",
     "output_type": "error",
     "traceback": [
      "\u001b[0;31m---------------------------------------------------------------------------\u001b[0m",
      "\u001b[0;31mTypeError\u001b[0m                                 Traceback (most recent call last)",
      "\u001b[0;32m<ipython-input-43-c33ec8a96f50>\u001b[0m in \u001b[0;36m<module>\u001b[0;34m\u001b[0m\n\u001b[1;32m      8\u001b[0m \u001b[0;34m\u001b[0m\u001b[0m\n\u001b[1;32m      9\u001b[0m \u001b[0;34m\u001b[0m\u001b[0m\n\u001b[0;32m---> 10\u001b[0;31m \u001b[0mprint\u001b[0m\u001b[0;34m(\u001b[0m\u001b[0;34m'Improvement of '\u001b[0m\u001b[0;34m,\u001b[0m \u001b[0;36m100\u001b[0m \u001b[0;34m*\u001b[0m \u001b[0;34m(\u001b[0m\u001b[0mrandom_accuracy\u001b[0m \u001b[0;34m-\u001b[0m \u001b[0mbase_accuracy\u001b[0m\u001b[0;34m)\u001b[0m \u001b[0;34m/\u001b[0m \u001b[0mbase_accuracy\u001b[0m\u001b[0;34m)\u001b[0m\u001b[0;34m\u001b[0m\u001b[0;34m\u001b[0m\u001b[0m\n\u001b[0m",
      "\u001b[0;31mTypeError\u001b[0m: unsupported operand type(s) for -: 'NoneType' and 'NoneType'"
     ]
    }
   ],
   "source": [
    "base_model = RandomForestRegressor(n_estimators = 10, random_state = SEED)\n",
    "base_model.fit(X_train, y_train)\n",
    "base_accuracy = evaluateTTR(base_model, X_test, y_test)\n",
    "\n",
    "\n",
    "best_random = rf_random.best_estimator_\n",
    "random_accuracy = evaluateTTR(best_random, X_test, y_test)\n",
    "\n",
    "\n",
    "#print('Improvement of ', 100 * (random_accuracy - base_accuracy) / base_accuracy)\n"
   ]
  },
  {
   "cell_type": "code",
   "execution_count": 44,
   "id": "85f6194e-c976-45fe-bb2f-9431fec997b4",
   "metadata": {
    "tags": []
   },
   "outputs": [],
   "source": [
    "# Create the parameter grid based on the results of random search \n",
    "param_grid = {\n",
    "    'max_depth': [110, 120, 130],\n",
    "    'min_samples_leaf': [2, 3, 4],\n",
    "    'min_samples_split': [1, 2, 3],\n",
    "    'n_estimators': [550, 650, 700]\n",
    "}\n",
    "# Create a based model\n",
    "rf = RandomForestRegressor()\n",
    "# Instantiate the grid search model\n",
    "search_rf = GridSearchCV(estimator = rf, param_grid = param_grid, \n",
    "                          scoring='neg_mean_absolute_error', n_jobs=-1, cv=Nb_cv)"
   ]
  },
  {
   "cell_type": "code",
   "execution_count": 45,
   "id": "73be6e1a-fe9f-407e-a822-8cf07d213190",
   "metadata": {
    "tags": []
   },
   "outputs": [
    {
     "ename": "KeyboardInterrupt",
     "evalue": "",
     "output_type": "error",
     "traceback": [
      "\u001b[0;31m---------------------------------------------------------------------------\u001b[0m",
      "\u001b[0;31mKeyboardInterrupt\u001b[0m                         Traceback (most recent call last)",
      "\u001b[0;32m<ipython-input-45-c3dd1c26ba7e>\u001b[0m in \u001b[0;36m<module>\u001b[0;34m\u001b[0m\n\u001b[1;32m      1\u001b[0m \u001b[0;31m# Fit the grid search to the data\u001b[0m\u001b[0;34m\u001b[0m\u001b[0;34m\u001b[0m\u001b[0;34m\u001b[0m\u001b[0m\n\u001b[0;32m----> 2\u001b[0;31m \u001b[0mrf_result\u001b[0m \u001b[0;34m=\u001b[0m \u001b[0msearch_rf\u001b[0m\u001b[0;34m.\u001b[0m\u001b[0mfit\u001b[0m\u001b[0;34m(\u001b[0m\u001b[0mX_train\u001b[0m\u001b[0;34m,\u001b[0m \u001b[0my_train\u001b[0m\u001b[0;34m)\u001b[0m\u001b[0;34m\u001b[0m\u001b[0;34m\u001b[0m\u001b[0m\n\u001b[0m\u001b[1;32m      3\u001b[0m \u001b[0mbest_grid\u001b[0m \u001b[0;34m=\u001b[0m \u001b[0msearch_rf\u001b[0m\u001b[0;34m.\u001b[0m\u001b[0mbest_estimator_\u001b[0m\u001b[0;34m\u001b[0m\u001b[0;34m\u001b[0m\u001b[0m\n",
      "\u001b[0;32m/Applications/anaconda3/lib/python3.8/site-packages/sklearn/model_selection/_search.py\u001b[0m in \u001b[0;36mfit\u001b[0;34m(self, X, y, groups, **fit_params)\u001b[0m\n\u001b[1;32m    889\u001b[0m                 \u001b[0;32mreturn\u001b[0m \u001b[0mresults\u001b[0m\u001b[0;34m\u001b[0m\u001b[0;34m\u001b[0m\u001b[0m\n\u001b[1;32m    890\u001b[0m \u001b[0;34m\u001b[0m\u001b[0m\n\u001b[0;32m--> 891\u001b[0;31m             \u001b[0mself\u001b[0m\u001b[0;34m.\u001b[0m\u001b[0m_run_search\u001b[0m\u001b[0;34m(\u001b[0m\u001b[0mevaluate_candidates\u001b[0m\u001b[0;34m)\u001b[0m\u001b[0;34m\u001b[0m\u001b[0;34m\u001b[0m\u001b[0m\n\u001b[0m\u001b[1;32m    892\u001b[0m \u001b[0;34m\u001b[0m\u001b[0m\n\u001b[1;32m    893\u001b[0m             \u001b[0;31m# multimetric is determined here because in the case of a callable\u001b[0m\u001b[0;34m\u001b[0m\u001b[0;34m\u001b[0m\u001b[0;34m\u001b[0m\u001b[0m\n",
      "\u001b[0;32m/Applications/anaconda3/lib/python3.8/site-packages/sklearn/model_selection/_search.py\u001b[0m in \u001b[0;36m_run_search\u001b[0;34m(self, evaluate_candidates)\u001b[0m\n\u001b[1;32m   1390\u001b[0m     \u001b[0;32mdef\u001b[0m \u001b[0m_run_search\u001b[0m\u001b[0;34m(\u001b[0m\u001b[0mself\u001b[0m\u001b[0;34m,\u001b[0m \u001b[0mevaluate_candidates\u001b[0m\u001b[0;34m)\u001b[0m\u001b[0;34m:\u001b[0m\u001b[0;34m\u001b[0m\u001b[0;34m\u001b[0m\u001b[0m\n\u001b[1;32m   1391\u001b[0m         \u001b[0;34m\"\"\"Search all candidates in param_grid\"\"\"\u001b[0m\u001b[0;34m\u001b[0m\u001b[0;34m\u001b[0m\u001b[0m\n\u001b[0;32m-> 1392\u001b[0;31m         \u001b[0mevaluate_candidates\u001b[0m\u001b[0;34m(\u001b[0m\u001b[0mParameterGrid\u001b[0m\u001b[0;34m(\u001b[0m\u001b[0mself\u001b[0m\u001b[0;34m.\u001b[0m\u001b[0mparam_grid\u001b[0m\u001b[0;34m)\u001b[0m\u001b[0;34m)\u001b[0m\u001b[0;34m\u001b[0m\u001b[0;34m\u001b[0m\u001b[0m\n\u001b[0m\u001b[1;32m   1393\u001b[0m \u001b[0;34m\u001b[0m\u001b[0m\n\u001b[1;32m   1394\u001b[0m \u001b[0;34m\u001b[0m\u001b[0m\n",
      "\u001b[0;32m/Applications/anaconda3/lib/python3.8/site-packages/sklearn/model_selection/_search.py\u001b[0m in \u001b[0;36mevaluate_candidates\u001b[0;34m(candidate_params, cv, more_results)\u001b[0m\n\u001b[1;32m    836\u001b[0m                     )\n\u001b[1;32m    837\u001b[0m \u001b[0;34m\u001b[0m\u001b[0m\n\u001b[0;32m--> 838\u001b[0;31m                 out = parallel(\n\u001b[0m\u001b[1;32m    839\u001b[0m                     delayed(_fit_and_score)(\n\u001b[1;32m    840\u001b[0m                         \u001b[0mclone\u001b[0m\u001b[0;34m(\u001b[0m\u001b[0mbase_estimator\u001b[0m\u001b[0;34m)\u001b[0m\u001b[0;34m,\u001b[0m\u001b[0;34m\u001b[0m\u001b[0;34m\u001b[0m\u001b[0m\n",
      "\u001b[0;32m/Applications/anaconda3/lib/python3.8/site-packages/joblib/parallel.py\u001b[0m in \u001b[0;36m__call__\u001b[0;34m(self, iterable)\u001b[0m\n\u001b[1;32m   1054\u001b[0m \u001b[0;34m\u001b[0m\u001b[0m\n\u001b[1;32m   1055\u001b[0m             \u001b[0;32mwith\u001b[0m \u001b[0mself\u001b[0m\u001b[0;34m.\u001b[0m\u001b[0m_backend\u001b[0m\u001b[0;34m.\u001b[0m\u001b[0mretrieval_context\u001b[0m\u001b[0;34m(\u001b[0m\u001b[0;34m)\u001b[0m\u001b[0;34m:\u001b[0m\u001b[0;34m\u001b[0m\u001b[0;34m\u001b[0m\u001b[0m\n\u001b[0;32m-> 1056\u001b[0;31m                 \u001b[0mself\u001b[0m\u001b[0;34m.\u001b[0m\u001b[0mretrieve\u001b[0m\u001b[0;34m(\u001b[0m\u001b[0;34m)\u001b[0m\u001b[0;34m\u001b[0m\u001b[0;34m\u001b[0m\u001b[0m\n\u001b[0m\u001b[1;32m   1057\u001b[0m             \u001b[0;31m# Make sure that we get a last message telling us we are done\u001b[0m\u001b[0;34m\u001b[0m\u001b[0;34m\u001b[0m\u001b[0;34m\u001b[0m\u001b[0m\n\u001b[1;32m   1058\u001b[0m             \u001b[0melapsed_time\u001b[0m \u001b[0;34m=\u001b[0m \u001b[0mtime\u001b[0m\u001b[0;34m.\u001b[0m\u001b[0mtime\u001b[0m\u001b[0;34m(\u001b[0m\u001b[0;34m)\u001b[0m \u001b[0;34m-\u001b[0m \u001b[0mself\u001b[0m\u001b[0;34m.\u001b[0m\u001b[0m_start_time\u001b[0m\u001b[0;34m\u001b[0m\u001b[0;34m\u001b[0m\u001b[0m\n",
      "\u001b[0;32m/Applications/anaconda3/lib/python3.8/site-packages/joblib/parallel.py\u001b[0m in \u001b[0;36mretrieve\u001b[0;34m(self)\u001b[0m\n\u001b[1;32m    933\u001b[0m             \u001b[0;32mtry\u001b[0m\u001b[0;34m:\u001b[0m\u001b[0;34m\u001b[0m\u001b[0;34m\u001b[0m\u001b[0m\n\u001b[1;32m    934\u001b[0m                 \u001b[0;32mif\u001b[0m \u001b[0mgetattr\u001b[0m\u001b[0;34m(\u001b[0m\u001b[0mself\u001b[0m\u001b[0;34m.\u001b[0m\u001b[0m_backend\u001b[0m\u001b[0;34m,\u001b[0m \u001b[0;34m'supports_timeout'\u001b[0m\u001b[0;34m,\u001b[0m \u001b[0;32mFalse\u001b[0m\u001b[0;34m)\u001b[0m\u001b[0;34m:\u001b[0m\u001b[0;34m\u001b[0m\u001b[0;34m\u001b[0m\u001b[0m\n\u001b[0;32m--> 935\u001b[0;31m                     \u001b[0mself\u001b[0m\u001b[0;34m.\u001b[0m\u001b[0m_output\u001b[0m\u001b[0;34m.\u001b[0m\u001b[0mextend\u001b[0m\u001b[0;34m(\u001b[0m\u001b[0mjob\u001b[0m\u001b[0;34m.\u001b[0m\u001b[0mget\u001b[0m\u001b[0;34m(\u001b[0m\u001b[0mtimeout\u001b[0m\u001b[0;34m=\u001b[0m\u001b[0mself\u001b[0m\u001b[0;34m.\u001b[0m\u001b[0mtimeout\u001b[0m\u001b[0;34m)\u001b[0m\u001b[0;34m)\u001b[0m\u001b[0;34m\u001b[0m\u001b[0;34m\u001b[0m\u001b[0m\n\u001b[0m\u001b[1;32m    936\u001b[0m                 \u001b[0;32melse\u001b[0m\u001b[0;34m:\u001b[0m\u001b[0;34m\u001b[0m\u001b[0;34m\u001b[0m\u001b[0m\n\u001b[1;32m    937\u001b[0m                     \u001b[0mself\u001b[0m\u001b[0;34m.\u001b[0m\u001b[0m_output\u001b[0m\u001b[0;34m.\u001b[0m\u001b[0mextend\u001b[0m\u001b[0;34m(\u001b[0m\u001b[0mjob\u001b[0m\u001b[0;34m.\u001b[0m\u001b[0mget\u001b[0m\u001b[0;34m(\u001b[0m\u001b[0;34m)\u001b[0m\u001b[0;34m)\u001b[0m\u001b[0;34m\u001b[0m\u001b[0;34m\u001b[0m\u001b[0m\n",
      "\u001b[0;32m/Applications/anaconda3/lib/python3.8/site-packages/joblib/_parallel_backends.py\u001b[0m in \u001b[0;36mwrap_future_result\u001b[0;34m(future, timeout)\u001b[0m\n\u001b[1;32m    540\u001b[0m         AsyncResults.get from multiprocessing.\"\"\"\n\u001b[1;32m    541\u001b[0m         \u001b[0;32mtry\u001b[0m\u001b[0;34m:\u001b[0m\u001b[0;34m\u001b[0m\u001b[0;34m\u001b[0m\u001b[0m\n\u001b[0;32m--> 542\u001b[0;31m             \u001b[0;32mreturn\u001b[0m \u001b[0mfuture\u001b[0m\u001b[0;34m.\u001b[0m\u001b[0mresult\u001b[0m\u001b[0;34m(\u001b[0m\u001b[0mtimeout\u001b[0m\u001b[0;34m=\u001b[0m\u001b[0mtimeout\u001b[0m\u001b[0;34m)\u001b[0m\u001b[0;34m\u001b[0m\u001b[0;34m\u001b[0m\u001b[0m\n\u001b[0m\u001b[1;32m    543\u001b[0m         \u001b[0;32mexcept\u001b[0m \u001b[0mCfTimeoutError\u001b[0m \u001b[0;32mas\u001b[0m \u001b[0me\u001b[0m\u001b[0;34m:\u001b[0m\u001b[0;34m\u001b[0m\u001b[0;34m\u001b[0m\u001b[0m\n\u001b[1;32m    544\u001b[0m             \u001b[0;32mraise\u001b[0m \u001b[0mTimeoutError\u001b[0m \u001b[0;32mfrom\u001b[0m \u001b[0me\u001b[0m\u001b[0;34m\u001b[0m\u001b[0;34m\u001b[0m\u001b[0m\n",
      "\u001b[0;32m/Applications/anaconda3/lib/python3.8/concurrent/futures/_base.py\u001b[0m in \u001b[0;36mresult\u001b[0;34m(self, timeout)\u001b[0m\n\u001b[1;32m    432\u001b[0m                 \u001b[0;32mreturn\u001b[0m \u001b[0mself\u001b[0m\u001b[0;34m.\u001b[0m\u001b[0m__get_result\u001b[0m\u001b[0;34m(\u001b[0m\u001b[0;34m)\u001b[0m\u001b[0;34m\u001b[0m\u001b[0;34m\u001b[0m\u001b[0m\n\u001b[1;32m    433\u001b[0m \u001b[0;34m\u001b[0m\u001b[0m\n\u001b[0;32m--> 434\u001b[0;31m             \u001b[0mself\u001b[0m\u001b[0;34m.\u001b[0m\u001b[0m_condition\u001b[0m\u001b[0;34m.\u001b[0m\u001b[0mwait\u001b[0m\u001b[0;34m(\u001b[0m\u001b[0mtimeout\u001b[0m\u001b[0;34m)\u001b[0m\u001b[0;34m\u001b[0m\u001b[0;34m\u001b[0m\u001b[0m\n\u001b[0m\u001b[1;32m    435\u001b[0m \u001b[0;34m\u001b[0m\u001b[0m\n\u001b[1;32m    436\u001b[0m             \u001b[0;32mif\u001b[0m \u001b[0mself\u001b[0m\u001b[0;34m.\u001b[0m\u001b[0m_state\u001b[0m \u001b[0;32min\u001b[0m \u001b[0;34m[\u001b[0m\u001b[0mCANCELLED\u001b[0m\u001b[0;34m,\u001b[0m \u001b[0mCANCELLED_AND_NOTIFIED\u001b[0m\u001b[0;34m]\u001b[0m\u001b[0;34m:\u001b[0m\u001b[0;34m\u001b[0m\u001b[0;34m\u001b[0m\u001b[0m\n",
      "\u001b[0;32m/Applications/anaconda3/lib/python3.8/threading.py\u001b[0m in \u001b[0;36mwait\u001b[0;34m(self, timeout)\u001b[0m\n\u001b[1;32m    300\u001b[0m         \u001b[0;32mtry\u001b[0m\u001b[0;34m:\u001b[0m    \u001b[0;31m# restore state no matter what (e.g., KeyboardInterrupt)\u001b[0m\u001b[0;34m\u001b[0m\u001b[0;34m\u001b[0m\u001b[0m\n\u001b[1;32m    301\u001b[0m             \u001b[0;32mif\u001b[0m \u001b[0mtimeout\u001b[0m \u001b[0;32mis\u001b[0m \u001b[0;32mNone\u001b[0m\u001b[0;34m:\u001b[0m\u001b[0;34m\u001b[0m\u001b[0;34m\u001b[0m\u001b[0m\n\u001b[0;32m--> 302\u001b[0;31m                 \u001b[0mwaiter\u001b[0m\u001b[0;34m.\u001b[0m\u001b[0macquire\u001b[0m\u001b[0;34m(\u001b[0m\u001b[0;34m)\u001b[0m\u001b[0;34m\u001b[0m\u001b[0;34m\u001b[0m\u001b[0m\n\u001b[0m\u001b[1;32m    303\u001b[0m                 \u001b[0mgotit\u001b[0m \u001b[0;34m=\u001b[0m \u001b[0;32mTrue\u001b[0m\u001b[0;34m\u001b[0m\u001b[0;34m\u001b[0m\u001b[0m\n\u001b[1;32m    304\u001b[0m             \u001b[0;32melse\u001b[0m\u001b[0;34m:\u001b[0m\u001b[0;34m\u001b[0m\u001b[0;34m\u001b[0m\u001b[0m\n",
      "\u001b[0;31mKeyboardInterrupt\u001b[0m: "
     ]
    }
   ],
   "source": [
    "# Fit the grid search to the data\n",
    "rf_result = search_rf.fit(X_train, y_train)\n",
    "best_grid = search_rf.best_estimator_"
   ]
  },
  {
   "cell_type": "code",
   "execution_count": null,
   "id": "6196ca04-fe26-4959-9ee4-6d3edd5ac5b4",
   "metadata": {
    "tags": []
   },
   "outputs": [],
   "source": [
    "# summarize result\n",
    "evaluate(rf_result, X_test, y_test)"
   ]
  },
  {
   "cell_type": "code",
   "execution_count": 182,
   "id": "435ea2b4-3758-4d41-85c5-dc53029d420e",
   "metadata": {
    "tags": []
   },
   "outputs": [],
   "source": [
    "# Testing!\n",
    "model_trans = TransformedTargetRegressor(\n",
    "    regressor=rf_result,\n",
    "    transformer=QuantileTransformer(n_quantiles=500, output_distribution=\"normal\"),\n",
    ")\n",
    "test_model_SVR = rf_result.fit(X_train, y_train)\n",
    "y_pred = rf_result.predict(X_test)\n"
   ]
  },
  {
   "cell_type": "code",
   "execution_count": 183,
   "id": "d28ad0b0-38b5-4c66-81d7-d6edb1c4cd5c",
   "metadata": {
    "tags": []
   },
   "outputs": [
    {
     "name": "stdout",
     "output_type": "stream",
     "text": [
      "\n",
      " Model Performance\n",
      "Mean Absolute Error =  0.2160 .\n",
      "Residual sum of squares: 0.13\n",
      "Mean Absolute Error Improvement of 10.33%.\n",
      "R2 score = 0.0310.\n"
     ]
    }
   ],
   "source": [
    "# summarize result\n",
    "evaluateTTR(test_model_SVR, X_test, y_test)"
   ]
  },
  {
   "cell_type": "code",
   "execution_count": null,
   "id": "08c3dfc9-66ba-4eea-aaa1-eefb29fe26fc",
   "metadata": {
    "tags": []
   },
   "outputs": [],
   "source": []
  },
  {
   "cell_type": "markdown",
   "id": "9319b382-f8f6-4a5d-85d9-f76745f0f4e9",
   "metadata": {
    "jp-MarkdownHeadingCollapsed": true,
    "tags": []
   },
   "source": [
    "## KNN"
   ]
  },
  {
   "cell_type": "code",
   "execution_count": 117,
   "id": "c52c3318-1142-480e-bf94-90d9729003da",
   "metadata": {
    "tags": []
   },
   "outputs": [
    {
     "name": "stdout",
     "output_type": "stream",
     "text": [
      "{'model__leaf_size': 5, 'model__n_neighbors': 10}\n",
      "Pipeline(steps=[('standardize', StandardScaler()),\n",
      "                ('model', KNeighborsRegressor(leaf_size=5, n_neighbors=10))])\n"
     ]
    }
   ],
   "source": [
    "search_KNN = KNNmodel('r2')\n",
    "# fitting the model for grid search\n",
    "KNN_result=search_KNN.fit(X_train, y_train)\n",
    "\n",
    "# print best parameter after tuning\n",
    "print(search_KNN.best_params_)\n",
    " \n",
    "# print how our model looks after hyper-parameter tuning\n",
    "print(search_KNN.best_estimator_)\n",
    "\n",
    "search_predictions = search_KNN.predict(X_test)"
   ]
  },
  {
   "cell_type": "code",
   "execution_count": 118,
   "id": "438b3aef-b436-400b-be01-a573b19a22f1",
   "metadata": {
    "tags": []
   },
   "outputs": [
    {
     "name": "stdout",
     "output_type": "stream",
     "text": [
      "Best Score: 0.014850114367432962\n",
      "Best Hyperparameters: {'model__leaf_size': 5, 'model__n_neighbors': 10}\n",
      "\n",
      " Model Performance\n",
      "Mean Absolute Error =  0.2555 .\n",
      "Residual sum of squares: 0.16\n",
      "Mean Absolute Error Improvement of -4.75%.\n",
      "R2 score = -0.1006.\n"
     ]
    }
   ],
   "source": [
    "# summarize result\n",
    "evaluate(KNN_result, X_test, y_test)"
   ]
  },
  {
   "cell_type": "code",
   "execution_count": 122,
   "id": "6c38ce4d-c363-4d1b-b315-4693766f2f7a",
   "metadata": {
    "tags": []
   },
   "outputs": [],
   "source": [
    "# Testing!\n",
    "model_trans = modelTTR(search_KNN)\n",
    "test_model = model_trans.fit(X_train, y_train)\n",
    "y_pred = test_model.predict(X_test)"
   ]
  },
  {
   "cell_type": "code",
   "execution_count": 123,
   "id": "80a903a8-54e9-458b-a1f5-b3315e71d0d8",
   "metadata": {
    "tags": []
   },
   "outputs": [
    {
     "name": "stdout",
     "output_type": "stream",
     "text": [
      "\n",
      " Model Performance\n",
      "Mean Absolute Error =  0.3350 .\n",
      "Residual sum of squares: 0.25\n",
      "Mean Absolute Error Improvement of -37.35%.\n",
      "R2 score = -0.6760.\n"
     ]
    }
   ],
   "source": [
    "# summarize result\n",
    "evaluateTTR(test_model, X_test, y_test)"
   ]
  },
  {
   "cell_type": "code",
   "execution_count": null,
   "id": "58bf1076-ffad-4db4-956e-7af87b9ffc38",
   "metadata": {},
   "outputs": [],
   "source": []
  }
 ],
 "metadata": {
  "kernelspec": {
   "display_name": "Python 3",
   "language": "python",
   "name": "python3"
  },
  "language_info": {
   "codemirror_mode": {
    "name": "ipython",
    "version": 3
   },
   "file_extension": ".py",
   "mimetype": "text/x-python",
   "name": "python",
   "nbconvert_exporter": "python",
   "pygments_lexer": "ipython3",
   "version": "3.8.8"
  }
 },
 "nbformat": 4,
 "nbformat_minor": 5
}
