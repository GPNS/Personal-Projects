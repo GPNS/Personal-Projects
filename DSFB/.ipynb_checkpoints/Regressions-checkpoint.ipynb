{
 "cells": [
  {
   "cell_type": "code",
   "execution_count": 1,
   "id": "d544af05",
   "metadata": {},
   "outputs": [],
   "source": [
    "# Import library\n",
    "import seaborn as sns\n",
    "import pandas_profiling\n",
    "import ipywidgets\n",
    "from IPython.display import display, HTML\n",
    "import scipy.stats as stats\n",
    "import pandas as pd\n",
    "import numpy as np\n",
    "import warnings\n",
    "\n",
    "import matplotlib.pyplot as plt\n",
    "from matplotlib import style\n",
    "import matplotlib\n",
    "import seaborn as sns\n",
    "%matplotlib inline\n",
    "import itertools\n",
    "\n",
    "#For sentiment analysis\n",
    "from textblob import TextBlob\n",
    "\n",
    "#Regression\n",
    "from sklearn import preprocessing\n",
    "from pprint import pprint\n",
    "from sklearn.decomposition import PCA\n",
    "from sklearn.metrics         import roc_curve\n",
    "from sklearn.metrics         import roc_auc_score\n",
    "from sklearn.metrics         import accuracy_score\n",
    "from sklearn.metrics         import mean_squared_error\n",
    "from sklearn.metrics         import r2_score\n",
    "from sklearn.metrics         import classification_report\n",
    "from sklearn.metrics import mean_absolute_error\n",
    "from pprint import pprint\n",
    "\n",
    "from sklearn.pipeline        import Pipeline\n",
    "\n",
    "\n",
    "from sklearn.model_selection import GridSearchCV\n",
    "from sklearn.neighbors import KNeighborsClassifier\n",
    "from sklearn.pipeline import Pipeline\n",
    "from sklearn.preprocessing import MinMaxScaler\n",
    "\n",
    "\n",
    "from sklearn.model_selection import train_test_split\n",
    "from sklearn.model_selection import KFold\n",
    "from sklearn.linear_model    import LinearRegression\n",
    "from sklearn.svm             import SVC\n",
    "from sklearn.svm             import SVR\n",
    "from sklearn.preprocessing   import StandardScaler\n",
    "from sklearn.ensemble import RandomForestRegressor\n",
    "\n",
    "\n",
    "from sklearn.model_selection import RandomizedSearchCV\n",
    "from sklearn.linear_model import Ridge\n",
    "from sklearn.linear_model import Lasso\n",
    "from sklearn.neighbors import KNeighborsRegressor\n",
    "\n",
    "from sklearn.preprocessing import QuantileTransformer, quantile_transform\n",
    "from sklearn.compose import TransformedTargetRegressor\n",
    "\n",
    "import texthero as hero\n",
    "\n",
    "SEED = 123"
   ]
  },
  {
   "cell_type": "markdown",
   "id": "d0dcf6fc",
   "metadata": {
    "jp-MarkdownHeadingCollapsed": true,
    "tags": []
   },
   "source": [
    "## Loading Data"
   ]
  },
  {
   "cell_type": "code",
   "execution_count": 2,
   "id": "c2b2fcb0-7fcb-4240-8b91-9cf947e32495",
   "metadata": {},
   "outputs": [],
   "source": [
    "#df = pd.read_csv('Audible_data_updated.csv')\n",
    "df = pd.read_csv('cleaned_data.csv')"
   ]
  },
  {
   "cell_type": "code",
   "execution_count": 3,
   "id": "c7454cdd-17c4-4df7-9388-c5f90f66449f",
   "metadata": {},
   "outputs": [
    {
     "data": {
      "text/html": [
       "<div>\n",
       "<style scoped>\n",
       "    .dataframe tbody tr th:only-of-type {\n",
       "        vertical-align: middle;\n",
       "    }\n",
       "\n",
       "    .dataframe tbody tr th {\n",
       "        vertical-align: top;\n",
       "    }\n",
       "\n",
       "    .dataframe thead th {\n",
       "        text-align: right;\n",
       "    }\n",
       "</style>\n",
       "<table border=\"1\" class=\"dataframe\">\n",
       "  <thead>\n",
       "    <tr style=\"text-align: right;\">\n",
       "      <th></th>\n",
       "      <th>Unnamed: 0</th>\n",
       "      <th>Book Title</th>\n",
       "      <th>Book Subtitle</th>\n",
       "      <th>Book Author</th>\n",
       "      <th>Book Narrator</th>\n",
       "      <th>Audio Runtime</th>\n",
       "      <th>Audiobook_Type</th>\n",
       "      <th>Categories</th>\n",
       "      <th>Language</th>\n",
       "      <th>Date</th>\n",
       "      <th>...</th>\n",
       "      <th>Review 94</th>\n",
       "      <th>Review 95</th>\n",
       "      <th>Review 96</th>\n",
       "      <th>Review 97</th>\n",
       "      <th>Review 98</th>\n",
       "      <th>Review 99</th>\n",
       "      <th>Review 100</th>\n",
       "      <th>Rating</th>\n",
       "      <th>nbr_reviews</th>\n",
       "      <th>releaseyear</th>\n",
       "    </tr>\n",
       "  </thead>\n",
       "  <tbody>\n",
       "    <tr>\n",
       "      <th>0</th>\n",
       "      <td>0</td>\n",
       "      <td>Bamboozled by Jesus</td>\n",
       "      <td>How God Tricked Me into the Life of My Dreams</td>\n",
       "      <td>Yvonne Orji</td>\n",
       "      <td>Yvonne Orji</td>\n",
       "      <td>391</td>\n",
       "      <td>Unabridged Audiobook</td>\n",
       "      <td>Biographies &amp; Memoirs</td>\n",
       "      <td>English</td>\n",
       "      <td>05/25/2021</td>\n",
       "      <td>...</td>\n",
       "      <td>NaN</td>\n",
       "      <td>NaN</td>\n",
       "      <td>NaN</td>\n",
       "      <td>NaN</td>\n",
       "      <td>NaN</td>\n",
       "      <td>NaN</td>\n",
       "      <td>NaN</td>\n",
       "      <td>5.0</td>\n",
       "      <td>40.0</td>\n",
       "      <td>2021</td>\n",
       "    </tr>\n",
       "    <tr>\n",
       "      <th>1</th>\n",
       "      <td>1</td>\n",
       "      <td>Sixth Realm Part 1</td>\n",
       "      <td>A LitRPG Fantasy Series (The Ten Realms, Book 6)</td>\n",
       "      <td>Michael Chatfield</td>\n",
       "      <td>Neil Hellegers</td>\n",
       "      <td>813</td>\n",
       "      <td>Unabridged Audiobook</td>\n",
       "      <td>Science Fiction &amp; Fantasy</td>\n",
       "      <td>English</td>\n",
       "      <td>05/26/2021</td>\n",
       "      <td>...</td>\n",
       "      <td>NaN</td>\n",
       "      <td>NaN</td>\n",
       "      <td>NaN</td>\n",
       "      <td>NaN</td>\n",
       "      <td>NaN</td>\n",
       "      <td>NaN</td>\n",
       "      <td>NaN</td>\n",
       "      <td>4.5</td>\n",
       "      <td>30.0</td>\n",
       "      <td>2021</td>\n",
       "    </tr>\n",
       "    <tr>\n",
       "      <th>2</th>\n",
       "      <td>4</td>\n",
       "      <td>The Devil May Dance</td>\n",
       "      <td>A Novel</td>\n",
       "      <td>Jake Tapper</td>\n",
       "      <td>Rob Shapiro</td>\n",
       "      <td>612</td>\n",
       "      <td>Unabridged Audiobook</td>\n",
       "      <td>Mystery, Thriller &amp; Suspense</td>\n",
       "      <td>English</td>\n",
       "      <td>05/11/2021</td>\n",
       "      <td>...</td>\n",
       "      <td>NaN</td>\n",
       "      <td>NaN</td>\n",
       "      <td>NaN</td>\n",
       "      <td>NaN</td>\n",
       "      <td>NaN</td>\n",
       "      <td>NaN</td>\n",
       "      <td>NaN</td>\n",
       "      <td>4.5</td>\n",
       "      <td>40.0</td>\n",
       "      <td>2021</td>\n",
       "    </tr>\n",
       "    <tr>\n",
       "      <th>3</th>\n",
       "      <td>5</td>\n",
       "      <td>Shadow Storm</td>\n",
       "      <td>Shadow Rider, Book 6</td>\n",
       "      <td>Christine Feehan</td>\n",
       "      <td>Jim Frangione</td>\n",
       "      <td>822</td>\n",
       "      <td>Unabridged Audiobook</td>\n",
       "      <td>Mystery, Thriller &amp; Suspense</td>\n",
       "      <td>English</td>\n",
       "      <td>05/25/2021</td>\n",
       "      <td>...</td>\n",
       "      <td>NaN</td>\n",
       "      <td>NaN</td>\n",
       "      <td>NaN</td>\n",
       "      <td>NaN</td>\n",
       "      <td>NaN</td>\n",
       "      <td>NaN</td>\n",
       "      <td>NaN</td>\n",
       "      <td>4.8</td>\n",
       "      <td>40.0</td>\n",
       "      <td>2021</td>\n",
       "    </tr>\n",
       "    <tr>\n",
       "      <th>4</th>\n",
       "      <td>8</td>\n",
       "      <td>Dream Spinner</td>\n",
       "      <td>NaN</td>\n",
       "      <td>Kristen Ashley</td>\n",
       "      <td>Susannah Jones</td>\n",
       "      <td>765</td>\n",
       "      <td>Unabridged Audiobook</td>\n",
       "      <td>Romance</td>\n",
       "      <td>English</td>\n",
       "      <td>05/25/2021</td>\n",
       "      <td>...</td>\n",
       "      <td>NaN</td>\n",
       "      <td>NaN</td>\n",
       "      <td>NaN</td>\n",
       "      <td>NaN</td>\n",
       "      <td>NaN</td>\n",
       "      <td>NaN</td>\n",
       "      <td>NaN</td>\n",
       "      <td>4.6</td>\n",
       "      <td>29.0</td>\n",
       "      <td>2021</td>\n",
       "    </tr>\n",
       "  </tbody>\n",
       "</table>\n",
       "<p>5 rows × 115 columns</p>\n",
       "</div>"
      ],
      "text/plain": [
       "   Unnamed: 0           Book Title  \\\n",
       "0           0  Bamboozled by Jesus   \n",
       "1           1   Sixth Realm Part 1   \n",
       "2           4  The Devil May Dance   \n",
       "3           5         Shadow Storm   \n",
       "4           8        Dream Spinner   \n",
       "\n",
       "                                      Book Subtitle        Book Author  \\\n",
       "0     How God Tricked Me into the Life of My Dreams        Yvonne Orji   \n",
       "1  A LitRPG Fantasy Series (The Ten Realms, Book 6)  Michael Chatfield   \n",
       "2                                           A Novel        Jake Tapper   \n",
       "3                              Shadow Rider, Book 6   Christine Feehan   \n",
       "4                                               NaN     Kristen Ashley   \n",
       "\n",
       "    Book Narrator  Audio Runtime        Audiobook_Type  \\\n",
       "0     Yvonne Orji            391  Unabridged Audiobook   \n",
       "1  Neil Hellegers            813  Unabridged Audiobook   \n",
       "2     Rob Shapiro            612  Unabridged Audiobook   \n",
       "3   Jim Frangione            822  Unabridged Audiobook   \n",
       "4  Susannah Jones            765  Unabridged Audiobook   \n",
       "\n",
       "                     Categories Language        Date  ...  Review 94  \\\n",
       "0         Biographies & Memoirs  English  05/25/2021  ...        NaN   \n",
       "1     Science Fiction & Fantasy  English  05/26/2021  ...        NaN   \n",
       "2  Mystery, Thriller & Suspense  English  05/11/2021  ...        NaN   \n",
       "3  Mystery, Thriller & Suspense  English  05/25/2021  ...        NaN   \n",
       "4                       Romance  English  05/25/2021  ...        NaN   \n",
       "\n",
       "   Review 95 Review 96 Review 97 Review 98 Review 99 Review 100 Rating  \\\n",
       "0        NaN       NaN       NaN       NaN       NaN        NaN    5.0   \n",
       "1        NaN       NaN       NaN       NaN       NaN        NaN    4.5   \n",
       "2        NaN       NaN       NaN       NaN       NaN        NaN    4.5   \n",
       "3        NaN       NaN       NaN       NaN       NaN        NaN    4.8   \n",
       "4        NaN       NaN       NaN       NaN       NaN        NaN    4.6   \n",
       "\n",
       "  nbr_reviews releaseyear  \n",
       "0        40.0        2021  \n",
       "1        30.0        2021  \n",
       "2        40.0        2021  \n",
       "3        40.0        2021  \n",
       "4        29.0        2021  \n",
       "\n",
       "[5 rows x 115 columns]"
      ]
     },
     "execution_count": 3,
     "metadata": {},
     "output_type": "execute_result"
    }
   ],
   "source": [
    "df.head()"
   ]
  },
  {
   "cell_type": "markdown",
   "id": "00ae7437-113d-40e2-848a-bc73a04d256d",
   "metadata": {
    "jp-MarkdownHeadingCollapsed": true,
    "tags": []
   },
   "source": [
    "## Sentiment analysis  -- RETIRE SI COMBINE AVEC MAHDI"
   ]
  },
  {
   "cell_type": "code",
   "execution_count": 4,
   "id": "4fe194b1-ae97-4bb2-8572-7911908db571",
   "metadata": {},
   "outputs": [],
   "source": [
    "#Function assigning polarity to a Review\n",
    "def polarity_to_text(blob):\n",
    "    if (blob.sentiment.polarity > 0.1):\n",
    "        #'Polarity is positive 😊'\n",
    "        return 'postive'\n",
    "    elif(blob.sentiment.polarity <= 0.1 and  blob.sentiment.polarity >= -0.1):\n",
    "          # 'Polarity is neutral 😐'\n",
    "        return 'neutral'\n",
    "    else:\n",
    "        # 'Polarity is negative 😡' \n",
    "        return 'negative'"
   ]
  },
  {
   "cell_type": "code",
   "execution_count": 5,
   "id": "53a37a3d-4115-4473-b46b-2ec0a467373b",
   "metadata": {},
   "outputs": [],
   "source": [
    "#Function assigning polarity to just a score\n",
    "def score_to_text(score):\n",
    "    if (score > 0.1):\n",
    "        #'Polarity is positive 😊'\n",
    "        return 'postive'\n",
    "    elif(score <= 0.1 and  score >= -0.1):\n",
    "          # 'Polarity is neutral 😐'\n",
    "        return 'neutral'\n",
    "    else:\n",
    "        # 'Polarity is negative 😡' \n",
    "        return 'negative'"
   ]
  },
  {
   "cell_type": "code",
   "execution_count": 6,
   "id": "1f659639-8d8f-4654-979b-18ff62938615",
   "metadata": {
    "scrolled": true
   },
   "outputs": [
    {
     "name": "stderr",
     "output_type": "stream",
     "text": [
      "/Applications/anaconda3/lib/python3.8/site-packages/IPython/core/interactiveshell.py:3364: PerformanceWarning: DataFrame is highly fragmented.  This is usually the result of calling `frame.insert` many times, which has poor performance.  Consider joining all columns at once using pd.concat(axis=1) instead.  To get a de-fragmented frame, use `newframe = frame.copy()`\n",
      "  if (await self.run_code(code, result,  async_=asy)):\n"
     ]
    }
   ],
   "source": [
    "#Adding polarity and score columns\n",
    "for i in range(1, 101):\n",
    "    df.insert(df.shape[1], 'polarity and score '+str(i),'0')\n",
    "    \n",
    "#Creating a column that will contain a list of all Reviews score\n",
    "df.insert(df.shape[1], 'all scores', '0')"
   ]
  },
  {
   "cell_type": "markdown",
   "id": "19ab716b-bf4b-4454-aba4-174b46eb8cb6",
   "metadata": {},
   "source": [
    "### Computing polarity scores"
   ]
  },
  {
   "cell_type": "code",
   "execution_count": 7,
   "id": "17de92d1-d51f-4ebe-8082-d096a42521e9",
   "metadata": {},
   "outputs": [],
   "source": [
    "for index, row in df.iterrows():\n",
    "    all_scores = []\n",
    "    for review_j in range(1, 100):\n",
    "        #Verifying if it's not a nan value\n",
    "        if(row['Review '+str(review_j)] == row['Review '+str(review_j)]):\n",
    "            blob = TextBlob(row['Review '+str(review_j)])\n",
    "            emotion = polarity_to_text(blob)\n",
    "            score = blob.sentiment.polarity\n",
    "            # df.set_value(i,'polarity',emotion)\n",
    "            df.at[index,'polarity and score '+str(review_j)] = [round(score, 2), emotion]\n",
    "            all_scores.append(round(score, 2))\n",
    "        else: \n",
    "            df.at[index,'polarity and score '+str(review_j)] = [0, '']\n",
    "            all_scores.append(0)\n",
    "        df.at[index,'all scores'] = all_scores "
   ]
  },
  {
   "cell_type": "markdown",
   "id": "e5a5f169-79ba-42d0-a09a-ff4159166a7a",
   "metadata": {},
   "source": [
    "### Computing mean score of all reviews and clustering "
   ]
  },
  {
   "cell_type": "code",
   "execution_count": 8,
   "id": "83f1a823-ff7a-47ce-93d4-a8d5395b21bb",
   "metadata": {},
   "outputs": [],
   "source": [
    "#Creating a column mean_score\n",
    "df.insert(df.shape[1], 'mean_score', '0')"
   ]
  },
  {
   "cell_type": "code",
   "execution_count": 9,
   "id": "f0d39d19-ee9f-4e3a-8df3-329f66c1afc0",
   "metadata": {},
   "outputs": [],
   "source": [
    "df['mean_score'] = df.apply(lambda x: round(sum(x['all scores']) / x['nbr_reviews'], 2) if x['nbr_reviews'] !=0 else x['nbr_reviews'], axis=1)"
   ]
  },
  {
   "cell_type": "code",
   "execution_count": 10,
   "id": "0614c8a5-c900-4b95-8441-b2d7fbbd87be",
   "metadata": {},
   "outputs": [],
   "source": [
    "#Creating a column mean_polarity\n",
    "df.insert(df.shape[1], 'mean_polarity', '')"
   ]
  },
  {
   "cell_type": "code",
   "execution_count": 11,
   "id": "c28d4e6c-418e-4e57-9de2-4c3499182295",
   "metadata": {},
   "outputs": [],
   "source": [
    "df['mean_polarity'] = df['mean_score'].apply(lambda x: score_to_text(x))"
   ]
  },
  {
   "cell_type": "code",
   "execution_count": 12,
   "id": "8ec61fb3-807a-45fc-815b-5bd04894f486",
   "metadata": {},
   "outputs": [
    {
     "data": {
      "text/html": [
       "<div>\n",
       "<style scoped>\n",
       "    .dataframe tbody tr th:only-of-type {\n",
       "        vertical-align: middle;\n",
       "    }\n",
       "\n",
       "    .dataframe tbody tr th {\n",
       "        vertical-align: top;\n",
       "    }\n",
       "\n",
       "    .dataframe thead th {\n",
       "        text-align: right;\n",
       "    }\n",
       "</style>\n",
       "<table border=\"1\" class=\"dataframe\">\n",
       "  <thead>\n",
       "    <tr style=\"text-align: right;\">\n",
       "      <th></th>\n",
       "      <th>Unnamed: 0</th>\n",
       "      <th>Book Title</th>\n",
       "      <th>Book Subtitle</th>\n",
       "      <th>Book Author</th>\n",
       "      <th>Book Narrator</th>\n",
       "      <th>Audio Runtime</th>\n",
       "      <th>Audiobook_Type</th>\n",
       "      <th>Categories</th>\n",
       "      <th>Language</th>\n",
       "      <th>Date</th>\n",
       "      <th>...</th>\n",
       "      <th>polarity and score 94</th>\n",
       "      <th>polarity and score 95</th>\n",
       "      <th>polarity and score 96</th>\n",
       "      <th>polarity and score 97</th>\n",
       "      <th>polarity and score 98</th>\n",
       "      <th>polarity and score 99</th>\n",
       "      <th>polarity and score 100</th>\n",
       "      <th>all scores</th>\n",
       "      <th>mean_score</th>\n",
       "      <th>mean_polarity</th>\n",
       "    </tr>\n",
       "  </thead>\n",
       "  <tbody>\n",
       "    <tr>\n",
       "      <th>0</th>\n",
       "      <td>0</td>\n",
       "      <td>Bamboozled by Jesus</td>\n",
       "      <td>How God Tricked Me into the Life of My Dreams</td>\n",
       "      <td>Yvonne Orji</td>\n",
       "      <td>Yvonne Orji</td>\n",
       "      <td>391</td>\n",
       "      <td>Unabridged Audiobook</td>\n",
       "      <td>Biographies &amp; Memoirs</td>\n",
       "      <td>English</td>\n",
       "      <td>05/25/2021</td>\n",
       "      <td>...</td>\n",
       "      <td>[0, ]</td>\n",
       "      <td>[0, ]</td>\n",
       "      <td>[0, ]</td>\n",
       "      <td>[0, ]</td>\n",
       "      <td>[0, ]</td>\n",
       "      <td>[0, ]</td>\n",
       "      <td>0</td>\n",
       "      <td>[0.17, 0.24, 0.19, 0.4, 0.2, 0.28, 0.26, -0.06...</td>\n",
       "      <td>0.37</td>\n",
       "      <td>postive</td>\n",
       "    </tr>\n",
       "    <tr>\n",
       "      <th>1</th>\n",
       "      <td>1</td>\n",
       "      <td>Sixth Realm Part 1</td>\n",
       "      <td>A LitRPG Fantasy Series (The Ten Realms, Book 6)</td>\n",
       "      <td>Michael Chatfield</td>\n",
       "      <td>Neil Hellegers</td>\n",
       "      <td>813</td>\n",
       "      <td>Unabridged Audiobook</td>\n",
       "      <td>Science Fiction &amp; Fantasy</td>\n",
       "      <td>English</td>\n",
       "      <td>05/26/2021</td>\n",
       "      <td>...</td>\n",
       "      <td>[0, ]</td>\n",
       "      <td>[0, ]</td>\n",
       "      <td>[0, ]</td>\n",
       "      <td>[0, ]</td>\n",
       "      <td>[0, ]</td>\n",
       "      <td>[0, ]</td>\n",
       "      <td>0</td>\n",
       "      <td>[0.6, -0.2, 0.06, -0.05, 0.06, -0.2, 0.17, 0.1...</td>\n",
       "      <td>0.06</td>\n",
       "      <td>neutral</td>\n",
       "    </tr>\n",
       "    <tr>\n",
       "      <th>2</th>\n",
       "      <td>4</td>\n",
       "      <td>The Devil May Dance</td>\n",
       "      <td>A Novel</td>\n",
       "      <td>Jake Tapper</td>\n",
       "      <td>Rob Shapiro</td>\n",
       "      <td>612</td>\n",
       "      <td>Unabridged Audiobook</td>\n",
       "      <td>Mystery, Thriller &amp; Suspense</td>\n",
       "      <td>English</td>\n",
       "      <td>05/11/2021</td>\n",
       "      <td>...</td>\n",
       "      <td>[0, ]</td>\n",
       "      <td>[0, ]</td>\n",
       "      <td>[0, ]</td>\n",
       "      <td>[0, ]</td>\n",
       "      <td>[0, ]</td>\n",
       "      <td>[0, ]</td>\n",
       "      <td>0</td>\n",
       "      <td>[-0.3, 0.4, 0.09, -0.0, 0.44, 0.07, 0.26, -0.2...</td>\n",
       "      <td>0.18</td>\n",
       "      <td>postive</td>\n",
       "    </tr>\n",
       "    <tr>\n",
       "      <th>3</th>\n",
       "      <td>5</td>\n",
       "      <td>Shadow Storm</td>\n",
       "      <td>Shadow Rider, Book 6</td>\n",
       "      <td>Christine Feehan</td>\n",
       "      <td>Jim Frangione</td>\n",
       "      <td>822</td>\n",
       "      <td>Unabridged Audiobook</td>\n",
       "      <td>Mystery, Thriller &amp; Suspense</td>\n",
       "      <td>English</td>\n",
       "      <td>05/25/2021</td>\n",
       "      <td>...</td>\n",
       "      <td>[0, ]</td>\n",
       "      <td>[0, ]</td>\n",
       "      <td>[0, ]</td>\n",
       "      <td>[0, ]</td>\n",
       "      <td>[0, ]</td>\n",
       "      <td>[0, ]</td>\n",
       "      <td>0</td>\n",
       "      <td>[-0.03, 0.2, 0.32, 0.3, -0.12, -0.03, 0.43, 0....</td>\n",
       "      <td>0.32</td>\n",
       "      <td>postive</td>\n",
       "    </tr>\n",
       "    <tr>\n",
       "      <th>4</th>\n",
       "      <td>8</td>\n",
       "      <td>Dream Spinner</td>\n",
       "      <td>NaN</td>\n",
       "      <td>Kristen Ashley</td>\n",
       "      <td>Susannah Jones</td>\n",
       "      <td>765</td>\n",
       "      <td>Unabridged Audiobook</td>\n",
       "      <td>Romance</td>\n",
       "      <td>English</td>\n",
       "      <td>05/25/2021</td>\n",
       "      <td>...</td>\n",
       "      <td>[0, ]</td>\n",
       "      <td>[0, ]</td>\n",
       "      <td>[0, ]</td>\n",
       "      <td>[0, ]</td>\n",
       "      <td>[0, ]</td>\n",
       "      <td>[0, ]</td>\n",
       "      <td>0</td>\n",
       "      <td>[0.4, 0.22, 0.26, 0.33, 0.38, 0.38, 0.35, 0.22...</td>\n",
       "      <td>0.33</td>\n",
       "      <td>postive</td>\n",
       "    </tr>\n",
       "  </tbody>\n",
       "</table>\n",
       "<p>5 rows × 218 columns</p>\n",
       "</div>"
      ],
      "text/plain": [
       "   Unnamed: 0           Book Title  \\\n",
       "0           0  Bamboozled by Jesus   \n",
       "1           1   Sixth Realm Part 1   \n",
       "2           4  The Devil May Dance   \n",
       "3           5         Shadow Storm   \n",
       "4           8        Dream Spinner   \n",
       "\n",
       "                                      Book Subtitle        Book Author  \\\n",
       "0     How God Tricked Me into the Life of My Dreams        Yvonne Orji   \n",
       "1  A LitRPG Fantasy Series (The Ten Realms, Book 6)  Michael Chatfield   \n",
       "2                                           A Novel        Jake Tapper   \n",
       "3                              Shadow Rider, Book 6   Christine Feehan   \n",
       "4                                               NaN     Kristen Ashley   \n",
       "\n",
       "    Book Narrator  Audio Runtime        Audiobook_Type  \\\n",
       "0     Yvonne Orji            391  Unabridged Audiobook   \n",
       "1  Neil Hellegers            813  Unabridged Audiobook   \n",
       "2     Rob Shapiro            612  Unabridged Audiobook   \n",
       "3   Jim Frangione            822  Unabridged Audiobook   \n",
       "4  Susannah Jones            765  Unabridged Audiobook   \n",
       "\n",
       "                     Categories Language        Date  ...  \\\n",
       "0         Biographies & Memoirs  English  05/25/2021  ...   \n",
       "1     Science Fiction & Fantasy  English  05/26/2021  ...   \n",
       "2  Mystery, Thriller & Suspense  English  05/11/2021  ...   \n",
       "3  Mystery, Thriller & Suspense  English  05/25/2021  ...   \n",
       "4                       Romance  English  05/25/2021  ...   \n",
       "\n",
       "   polarity and score 94  polarity and score 95 polarity and score 96  \\\n",
       "0                  [0, ]                  [0, ]                 [0, ]   \n",
       "1                  [0, ]                  [0, ]                 [0, ]   \n",
       "2                  [0, ]                  [0, ]                 [0, ]   \n",
       "3                  [0, ]                  [0, ]                 [0, ]   \n",
       "4                  [0, ]                  [0, ]                 [0, ]   \n",
       "\n",
       "  polarity and score 97 polarity and score 98 polarity and score 99  \\\n",
       "0                 [0, ]                 [0, ]                 [0, ]   \n",
       "1                 [0, ]                 [0, ]                 [0, ]   \n",
       "2                 [0, ]                 [0, ]                 [0, ]   \n",
       "3                 [0, ]                 [0, ]                 [0, ]   \n",
       "4                 [0, ]                 [0, ]                 [0, ]   \n",
       "\n",
       "  polarity and score 100                                         all scores  \\\n",
       "0                      0  [0.17, 0.24, 0.19, 0.4, 0.2, 0.28, 0.26, -0.06...   \n",
       "1                      0  [0.6, -0.2, 0.06, -0.05, 0.06, -0.2, 0.17, 0.1...   \n",
       "2                      0  [-0.3, 0.4, 0.09, -0.0, 0.44, 0.07, 0.26, -0.2...   \n",
       "3                      0  [-0.03, 0.2, 0.32, 0.3, -0.12, -0.03, 0.43, 0....   \n",
       "4                      0  [0.4, 0.22, 0.26, 0.33, 0.38, 0.38, 0.35, 0.22...   \n",
       "\n",
       "  mean_score mean_polarity  \n",
       "0       0.37       postive  \n",
       "1       0.06       neutral  \n",
       "2       0.18       postive  \n",
       "3       0.32       postive  \n",
       "4       0.33       postive  \n",
       "\n",
       "[5 rows x 218 columns]"
      ]
     },
     "execution_count": 12,
     "metadata": {},
     "output_type": "execute_result"
    }
   ],
   "source": [
    "df.head()"
   ]
  },
  {
   "cell_type": "markdown",
   "id": "3f93809e-ec66-4158-85df-a25fb8f07b3d",
   "metadata": {
    "tags": []
   },
   "source": [
    "# Regression Models"
   ]
  },
  {
   "cell_type": "markdown",
   "id": "86b6469f-4b31-407a-b03a-00d4aa8ae94e",
   "metadata": {},
   "source": [
    "We will implement multiple regression models to try and predict the rating from the available data. Each model will be compared to the baseline prediction"
   ]
  },
  {
   "cell_type": "code",
   "execution_count": 13,
   "id": "a6b06ec0-90d9-41e5-8dbb-420674709845",
   "metadata": {
    "tags": []
   },
   "outputs": [],
   "source": [
    "def Pipelining(model): \n",
    "    #Basic piepline to standardize and implement model before get to gridsearch\n",
    "    estimators = []\n",
    "    estimators.append(('standardize', StandardScaler()))         # tell it to standardize features\n",
    "    estimators.append(('model', model()))  # tell it to use a linear reg model\n",
    "    model = Pipeline(estimators) \n",
    "    return model\n"
   ]
  },
  {
   "cell_type": "code",
   "execution_count": 14,
   "id": "dd411ec3-e7bf-41da-b7a9-eca78c3e9716",
   "metadata": {
    "tags": []
   },
   "outputs": [],
   "source": [
    "def LinModel():\n",
    "    #estimators = []\n",
    "    #estimators.append(('standardize', StandardScaler()))         # tell it to standardize features\n",
    "    #estimators.append(('Linear', LinearRegression()))  # tell it to use a linear reg model\n",
    "    model = Pipelining(LinearRegression) \n",
    "    space = {'model__fit_intercept':[True,False], \n",
    "                  'model__copy_X':[True, False],\n",
    "                 'model__positive': [True, False]}\n",
    "    search_lin_reg = GridSearchCV(model,space, cv=Nb_cv, scoring='r2')\n",
    "    \n",
    "    return search_lin_reg\n"
   ]
  },
  {
   "cell_type": "code",
   "execution_count": 15,
   "id": "203824be-e04f-424f-af11-1ff10120cd5d",
   "metadata": {
    "tags": []
   },
   "outputs": [],
   "source": [
    "def RidgeModel(scoring):\n",
    "    model = Pipelining(Ridge)\n",
    "    # define search space\n",
    "    space = dict()\n",
    "    space['model__solver'] = ['svd', 'cholesky', 'lsqr', 'sag']\n",
    "    space['model__alpha'] = [1e-5, 1e-4, 1e-3, 1e-2, 1e-1, 1, 10, 100]\n",
    "    space['model__fit_intercept'] = [True, False]\n",
    "    search_ridge = GridSearchCV(model,space, cv=Nb_cv, scoring=scoring,n_jobs=-1,)\n",
    "    \n",
    "    return search_ridge\n"
   ]
  },
  {
   "cell_type": "code",
   "execution_count": 16,
   "id": "0aa0a214-a5c8-4a80-b8c2-f3fcdf40e976",
   "metadata": {
    "tags": []
   },
   "outputs": [],
   "source": [
    "def LassoModel(scoring):\n",
    "    model_lasso = Pipelining(Lasso)\n",
    "    # define search space\n",
    "    space_las = dict()\n",
    "    #space_las['Lasso__solver'] = ['svd', 'cholesky', 'lsqr', 'sag']\n",
    "    space_las['model__alpha'] = [1e-5, 1e-4, 1e-3, 1e-2, 1e-1, 1, 10, 100]\n",
    "    space_las['model__fit_intercept'] = [True, False]\n",
    "    # define search\n",
    "    search_lasso = GridSearchCV(model_lasso, space_las, scoring=scoring, n_jobs=-1, cv=Nb_cv)\n",
    "    return search_lasso\n",
    "\n"
   ]
  },
  {
   "cell_type": "code",
   "execution_count": 17,
   "id": "afbb6206-12e0-43fe-ab53-910d521ff3a3",
   "metadata": {
    "tags": []
   },
   "outputs": [],
   "source": [
    "def SVRModel(scoring):\n",
    "    model_SVR = Pipelining(SVR) \n",
    "    # defining parameter range\n",
    "    param_grid = {'model__C': [0.1, 1, 10, 100],\n",
    "                  'model__gamma': [1, 0.1, 0.01, 0.001],\n",
    "                  }\n",
    "    #Define search\n",
    "    SVR_GridSearch = GridSearchCV(model_SVR, param_grid, scoring='neg_mean_absolute_error', n_jobs=-1, cv=Nb_cv)\n",
    "    return SVR_GridSearch"
   ]
  },
  {
   "cell_type": "code",
   "execution_count": 76,
   "id": "85f6194e-c976-45fe-bb2f-9431fec997b4",
   "metadata": {
    "tags": []
   },
   "outputs": [],
   "source": [
    "def RFModel(scoring):\n",
    "    # Create the parameter grid based on the results of random search \n",
    "    param_grid = {\n",
    "        'max_depth': [110, 120, 130],\n",
    "        'min_samples_leaf': [2, 3, 4],\n",
    "        'min_samples_split': [0.75, 2, 3],\n",
    "        'n_estimators': [550, 650, 700]\n",
    "    }\n",
    "    # Create a based model\n",
    "    rf = RandomForestRegressor(random_state = SEED)\n",
    "    # Instantiate the grid search model\n",
    "    search_rf = GridSearchCV(estimator = rf, param_grid = param_grid, \n",
    "                              scoring=scoring, n_jobs=-1, cv=Nb_cv)\n",
    "    return search_rf"
   ]
  },
  {
   "cell_type": "code",
   "execution_count": 75,
   "id": "7e4664d6-3171-4659-91af-1f6675a4c3be",
   "metadata": {
    "tags": []
   },
   "outputs": [],
   "source": [
    "def KNNmodel(scoring):\n",
    "    model_KNN = Pipelining(KNeighborsRegressor)\n",
    "    k_range = list(range(1, 31))\n",
    "    space = dict()\n",
    "    space['model__n_neighbors']=k_range\n",
    "    space['model__leaf_size']=[5, 10, 20, 30, 40, 50]\n",
    "    # defining parameter range\n",
    "    search_KNN = GridSearchCV(model_KNN, space, scoring=scoring, n_jobs=-1, cv=Nb_cv)\n",
    "    return search_KNN\n"
   ]
  },
  {
   "cell_type": "code",
   "execution_count": 20,
   "id": "5b5bd5e4-817d-4b90-9e4d-35358f16902d",
   "metadata": {
    "tags": []
   },
   "outputs": [],
   "source": [
    "def evaluate(model, test_features, test_labels):\n",
    "    predictions = model.predict(test_features)\n",
    "    #accuracy = 100 - mape\n",
    "    mae = mean_absolute_error(test_labels,model.predict(test_features))\n",
    "    r2score = r2_score(test_labels, predictions)\n",
    "    print('For' model, ':')\n",
    "    print('Best Score: %s' % model.best_score_)\n",
    "    print('Best Hyperparameters: %s' % model.best_params_)\n",
    "    \n",
    "    print('\\n', 'Model Performance')\n",
    "    #print('Average Error: {:0.4f} .'.format(np.mean(errors)))\n",
    "    #print('Accuracy = {:0.2f}%.'.format(accuracy))\n",
    "    print('Mean Absolute Error =  {:0.4f} .'.format(mae))\n",
    "    print(\"Residual sum of squares: %.2f\"\n",
    "              % np.mean((model.predict(X_test) - y_test) ** 2))\n",
    "    print('Mean Absolute Error Improvement of {:0.2f}%.'.format( -(mae - mae_baseline)*100/mae_baseline))\n",
    "    print('R2 score = {:0.4f}.'.format(r2score))\n",
    "\n",
    "    return "
   ]
  },
  {
   "cell_type": "code",
   "execution_count": 21,
   "id": "9f032c7f-5ea1-4f1f-8090-822c5d324e25",
   "metadata": {
    "tags": []
   },
   "outputs": [],
   "source": [
    "def evaluateTTR(model, test_features, test_labels):\n",
    "    predictions = model.predict(test_features)\n",
    "    #accuracy = 100 - mape\n",
    "    mae = mean_absolute_error(test_labels,model.predict(test_features))\n",
    "    r2score = r2_score(test_labels, predictions)\n",
    "    #print('Best Score: %s' % model.best_score_)\n",
    "    #print('Best Hyperparameters: %s' % model.best_params_)\n",
    "    \n",
    "    print('\\n', 'Model Performance')\n",
    "    #print('Average Error: {:0.4f} .'.format(np.mean(errors)))\n",
    "    #print('Accuracy = {:0.2f}%.'.format(accuracy))\n",
    "    print('Mean Absolute Error =  {:0.4f} .'.format(mae))\n",
    "    print(\"Residual sum of squares: %.2f\"\n",
    "              % np.mean((model.predict(X_test) - y_test) ** 2))\n",
    "    print('Mean Absolute Error Improvement of {:0.2f}%.'.format( -(mae - mae_baseline)*100/mae_baseline))\n",
    "    print('R2 score = {:0.4f}.'.format(r2score))\n",
    "\n",
    "    return "
   ]
  },
  {
   "cell_type": "code",
   "execution_count": 22,
   "id": "64283b99-7931-41b3-a63e-9b3dacae77ca",
   "metadata": {
    "tags": []
   },
   "outputs": [],
   "source": [
    "def modelTTR(model):\n",
    "    model_trans = TransformedTargetRegressor(\n",
    "    regressor=model,\n",
    "    transformer=QuantileTransformer(n_quantiles=500, output_distribution=\"normal\"),\n",
    "    )\n",
    "    test_model = model_trans.fit(X_train, y_train)\n",
    "    y_pred = test_model.predict(X_test)\n",
    "    return test_model\n"
   ]
  },
  {
   "cell_type": "code",
   "execution_count": 54,
   "id": "fef5b047-311d-495c-aae3-3c9bba8b50a6",
   "metadata": {
    "tags": []
   },
   "outputs": [],
   "source": [
    "Nb_cv = 3 #Number of cross validation for GridSearchCV"
   ]
  },
  {
   "cell_type": "markdown",
   "id": "2fc57a28-51b6-4e7f-a219-4545ef5a8db8",
   "metadata": {
    "jp-MarkdownHeadingCollapsed": true,
    "tags": []
   },
   "source": [
    "# Data cleaning for regressions - After Mahdi + Full data"
   ]
  },
  {
   "cell_type": "markdown",
   "id": "2638dea9-7d65-4275-85ac-08bd38e82b2c",
   "metadata": {},
   "source": [
    "We won't be using the reviews as they were utilised in the NLP and sentiment analysis."
   ]
  },
  {
   "cell_type": "code",
   "execution_count": 47,
   "id": "48ad975c-d24c-4a06-b883-d2c31954bd6f",
   "metadata": {},
   "outputs": [
    {
     "data": {
      "text/html": [
       "<div>\n",
       "<style scoped>\n",
       "    .dataframe tbody tr th:only-of-type {\n",
       "        vertical-align: middle;\n",
       "    }\n",
       "\n",
       "    .dataframe tbody tr th {\n",
       "        vertical-align: top;\n",
       "    }\n",
       "\n",
       "    .dataframe thead th {\n",
       "        text-align: right;\n",
       "    }\n",
       "</style>\n",
       "<table border=\"1\" class=\"dataframe\">\n",
       "  <thead>\n",
       "    <tr style=\"text-align: right;\">\n",
       "      <th></th>\n",
       "      <th>Book Title</th>\n",
       "      <th>Book Subtitle</th>\n",
       "      <th>Book Author</th>\n",
       "      <th>Book Narrator</th>\n",
       "      <th>Audio Runtime</th>\n",
       "      <th>Audiobook_Type</th>\n",
       "      <th>Categories</th>\n",
       "      <th>Language</th>\n",
       "      <th>Total No. of Ratings</th>\n",
       "      <th>Price</th>\n",
       "      <th>nbr_reviews</th>\n",
       "      <th>mean_score</th>\n",
       "      <th>mean_polarity</th>\n",
       "      <th>releaseyear</th>\n",
       "      <th>Rating</th>\n",
       "    </tr>\n",
       "  </thead>\n",
       "  <tbody>\n",
       "    <tr>\n",
       "      <th>1627</th>\n",
       "      <td>Learn Korean with Innovative Language's Proven...</td>\n",
       "      <td>Absolute Beginner Korean #4</td>\n",
       "      <td>Innovative Language Learning</td>\n",
       "      <td>KoreanClass101.com</td>\n",
       "      <td>21</td>\n",
       "      <td>Original Recording Audiobook</td>\n",
       "      <td>Education &amp; Learning</td>\n",
       "      <td>English</td>\n",
       "      <td>106.0</td>\n",
       "      <td>0.00</td>\n",
       "      <td>5.0</td>\n",
       "      <td>0.13</td>\n",
       "      <td>postive</td>\n",
       "      <td>2011</td>\n",
       "      <td>4.0</td>\n",
       "    </tr>\n",
       "    <tr>\n",
       "      <th>713</th>\n",
       "      <td>Anxiety in Relationship</td>\n",
       "      <td>How to Overcome Anxiety, Jealousy, Negative Th...</td>\n",
       "      <td>Melanie White</td>\n",
       "      <td>Kate Keating</td>\n",
       "      <td>313</td>\n",
       "      <td>Unabridged Audiobook</td>\n",
       "      <td>Health &amp; Wellness</td>\n",
       "      <td>English</td>\n",
       "      <td>442.0</td>\n",
       "      <td>19.95</td>\n",
       "      <td>30.0</td>\n",
       "      <td>0.18</td>\n",
       "      <td>postive</td>\n",
       "      <td>2020</td>\n",
       "      <td>4.4</td>\n",
       "    </tr>\n",
       "    <tr>\n",
       "      <th>954</th>\n",
       "      <td>Empire of Storms</td>\n",
       "      <td>NaN</td>\n",
       "      <td>Sarah J. Maas</td>\n",
       "      <td>Elizabeth Evans</td>\n",
       "      <td>1518</td>\n",
       "      <td>Unabridged Audiobook</td>\n",
       "      <td>Teen</td>\n",
       "      <td>English</td>\n",
       "      <td>11612.0</td>\n",
       "      <td>39.95</td>\n",
       "      <td>99.0</td>\n",
       "      <td>0.14</td>\n",
       "      <td>postive</td>\n",
       "      <td>2016</td>\n",
       "      <td>4.8</td>\n",
       "    </tr>\n",
       "    <tr>\n",
       "      <th>1342</th>\n",
       "      <td>Shelter in Place</td>\n",
       "      <td>NaN</td>\n",
       "      <td>Nora Roberts</td>\n",
       "      <td>January LaVoy</td>\n",
       "      <td>922</td>\n",
       "      <td>Unabridged Audiobook</td>\n",
       "      <td>Literature &amp; Fiction</td>\n",
       "      <td>English</td>\n",
       "      <td>16385.0</td>\n",
       "      <td>34.99</td>\n",
       "      <td>99.0</td>\n",
       "      <td>0.12</td>\n",
       "      <td>postive</td>\n",
       "      <td>2018</td>\n",
       "      <td>4.6</td>\n",
       "    </tr>\n",
       "    <tr>\n",
       "      <th>433</th>\n",
       "      <td>Year of Yes</td>\n",
       "      <td>How to Dance It Out, Stand in the Sun and Be Y...</td>\n",
       "      <td>Shonda Rhimes</td>\n",
       "      <td>Shonda Rhimes</td>\n",
       "      <td>424</td>\n",
       "      <td>Unabridged Audiobook</td>\n",
       "      <td>Biographies &amp; Memoirs</td>\n",
       "      <td>English</td>\n",
       "      <td>22445.0</td>\n",
       "      <td>20.99</td>\n",
       "      <td>99.0</td>\n",
       "      <td>0.27</td>\n",
       "      <td>postive</td>\n",
       "      <td>2015</td>\n",
       "      <td>4.7</td>\n",
       "    </tr>\n",
       "  </tbody>\n",
       "</table>\n",
       "</div>"
      ],
      "text/plain": [
       "                                             Book Title  \\\n",
       "1627  Learn Korean with Innovative Language's Proven...   \n",
       "713                             Anxiety in Relationship   \n",
       "954                                    Empire of Storms   \n",
       "1342                                   Shelter in Place   \n",
       "433                                         Year of Yes   \n",
       "\n",
       "                                          Book Subtitle  \\\n",
       "1627                        Absolute Beginner Korean #4   \n",
       "713   How to Overcome Anxiety, Jealousy, Negative Th...   \n",
       "954                                                 NaN   \n",
       "1342                                                NaN   \n",
       "433   How to Dance It Out, Stand in the Sun and Be Y...   \n",
       "\n",
       "                       Book Author       Book Narrator  Audio Runtime  \\\n",
       "1627  Innovative Language Learning  KoreanClass101.com             21   \n",
       "713                  Melanie White        Kate Keating            313   \n",
       "954                  Sarah J. Maas     Elizabeth Evans           1518   \n",
       "1342                  Nora Roberts       January LaVoy            922   \n",
       "433                  Shonda Rhimes       Shonda Rhimes            424   \n",
       "\n",
       "                    Audiobook_Type             Categories Language  \\\n",
       "1627  Original Recording Audiobook   Education & Learning  English   \n",
       "713           Unabridged Audiobook      Health & Wellness  English   \n",
       "954           Unabridged Audiobook                   Teen  English   \n",
       "1342          Unabridged Audiobook   Literature & Fiction  English   \n",
       "433           Unabridged Audiobook  Biographies & Memoirs  English   \n",
       "\n",
       "      Total No. of Ratings  Price  nbr_reviews  mean_score mean_polarity  \\\n",
       "1627                 106.0   0.00          5.0        0.13       postive   \n",
       "713                  442.0  19.95         30.0        0.18       postive   \n",
       "954                11612.0  39.95         99.0        0.14       postive   \n",
       "1342               16385.0  34.99         99.0        0.12       postive   \n",
       "433                22445.0  20.99         99.0        0.27       postive   \n",
       "\n",
       "      releaseyear  Rating  \n",
       "1627         2011     4.0  \n",
       "713          2020     4.4  \n",
       "954          2016     4.8  \n",
       "1342         2018     4.6  \n",
       "433          2015     4.7  "
      ]
     },
     "execution_count": 47,
     "metadata": {},
     "output_type": "execute_result"
    }
   ],
   "source": [
    "\n",
    "data=[]\n",
    "data = pd.concat([df.iloc[:, 1:12].copy(), df.nbr_reviews.copy(), df.mean_score.copy(), df.mean_polarity.copy(), df.releaseyear.copy(), df.Rating.copy()],axis = 1)  # To avoid the case where changing data also changes df\n",
    "data = data.drop('Date', axis =1)\n",
    "data.sample(5)\n"
   ]
  },
  {
   "cell_type": "code",
   "execution_count": 48,
   "id": "b01b69d1-e5ef-4b6f-a70f-3739a26df9eb",
   "metadata": {
    "tags": []
   },
   "outputs": [
    {
     "data": {
      "text/plain": [
       "(1750, 2482)"
      ]
     },
     "execution_count": 48,
     "metadata": {},
     "output_type": "execute_result"
    }
   ],
   "source": [
    "data = pd.get_dummies(data = data, columns = ['Book Author', 'Book Narrator', 'Audiobook_Type', 'Categories', 'mean_polarity', 'Language'])\n",
    "features = list(set(list(data.columns)) - set([\"Rating\", \"Book Subtitle\", \"Book Title\"]))\n",
    "X = data.loc[:, features]\n",
    "Y = data.loc[:, 'Rating']\n",
    "#Don't know how to use Book Subtitle in a usefull way - NLP stuff\n",
    "data.shape"
   ]
  },
  {
   "cell_type": "code",
   "execution_count": 49,
   "id": "84107c65-5b8b-4943-bd36-6da1310a6e9f",
   "metadata": {
    "tags": []
   },
   "outputs": [
    {
     "data": {
      "text/plain": [
       "<seaborn.axisgrid.FacetGrid at 0x7fc4e77255b0>"
      ]
     },
     "execution_count": 49,
     "metadata": {},
     "output_type": "execute_result"
    },
    {
     "data": {
      "image/png": "[encoded data removed]",
      "text/plain": [
       "<Figure size 360x360 with 1 Axes>"
      ]
     },
     "metadata": {
      "needs_background": "light"
     },
     "output_type": "display_data"
    }
   ],
   "source": [
    "sns.displot(data, x=\"Rating\")\n",
    "#Observe a few outliers which are stopping me from creating a model."
   ]
  },
  {
   "cell_type": "markdown",
   "id": "952f584c-c9d8-48eb-9992-4ded9cc64a3b",
   "metadata": {},
   "source": [
    "The rating distribution is highly skewed and we have a few outliers. TO be able to use these outliers we combined them at specific values."
   ]
  },
  {
   "cell_type": "code",
   "execution_count": 50,
   "id": "3f6847ce-e5cc-40b4-9d7c-be099064a557",
   "metadata": {
    "tags": []
   },
   "outputs": [],
   "source": [
    "#having an issue with singular target values on the models. Grouping for value lower then 2, lower than 3\n",
    "for value in Y:\n",
    "    if value <=1:\n",
    "        Y.replace([value],1)\n",
    "    if 1<value<=2 :\n",
    "        Y = Y.replace([value],2)\n",
    "    if 2<value <= 2.5:\n",
    "        Y = Y.replace([value],2.5)\n",
    "    if 2.5<value <= 3:\n",
    "        Y = Y.replace([value],3)\n",
    "    if 3<value <=3.5:\n",
    "        Y = Y.replace([value],3.5)\n",
    "    if 3.5< value <= 3.75:\n",
    "        Y = Y.replace([value],3.75)"
   ]
  },
  {
   "cell_type": "code",
   "execution_count": 51,
   "id": "94fdc441-a64e-45c0-a233-4139750d4b2d",
   "metadata": {
    "tags": []
   },
   "outputs": [
    {
     "data": {
      "text/plain": [
       "<seaborn.axisgrid.FacetGrid at 0x7fc4d40f4be0>"
      ]
     },
     "execution_count": 51,
     "metadata": {},
     "output_type": "execute_result"
    },
    {
     "data": {
      "image/png": "[encoded data removed]",
      "text/plain": [
       "<Figure size 360x360 with 1 Axes>"
      ]
     },
     "metadata": {
      "needs_background": "light"
     },
     "output_type": "display_data"
    }
   ],
   "source": [
    "sns.displot(Y)\n",
    "#Sanity check that previous code worked and we don't have any singular outlier"
   ]
  },
  {
   "cell_type": "markdown",
   "id": "65f13526-3568-4c7b-ba83-6cadd2433165",
   "metadata": {},
   "source": [
    "The rating distribution is highly skewed and we have a few outliers. To adress the skewness of the data we will transform the target varaible to a more 'normal' distribution."
   ]
  },
  {
   "cell_type": "code",
   "execution_count": 52,
   "id": "de69f65a-c532-438a-a7e5-d1baa17e82e3",
   "metadata": {
    "tags": []
   },
   "outputs": [
    {
     "data": {
      "text/plain": [
       "<seaborn.axisgrid.FacetGrid at 0x7fc4d0cc7cd0>"
      ]
     },
     "execution_count": 52,
     "metadata": {},
     "output_type": "execute_result"
    },
    {
     "data": {
      "image/png": "[encoded data removed]",
      "text/plain": [
       "<Figure size 360x360 with 1 Axes>"
      ]
     },
     "metadata": {
      "needs_background": "light"
     },
     "output_type": "display_data"
    }
   ],
   "source": [
    "#Changing distribution as data is very skewed\n",
    "Y_trans = quantile_transform(Y.to_frame(), \n",
    "                             n_quantiles=500, \n",
    "                             output_distribution='normal', \n",
    "                             copy=True\n",
    "                            ).squeeze()\n",
    "sns.displot(Y_trans)"
   ]
  },
  {
   "cell_type": "code",
   "execution_count": 53,
   "id": "85cf8aba-f46d-44f5-a20b-8a0e9cef7f8c",
   "metadata": {
    "tags": []
   },
   "outputs": [],
   "source": [
    "X_train, X_test, y_train, y_test = train_test_split(X, Y, test_size=0.20, stratify=Y, random_state = SEED)"
   ]
  },
  {
   "cell_type": "markdown",
   "id": "4aaf2c2d-1590-44f2-84ba-b195371ecad7",
   "metadata": {
    "tags": []
   },
   "source": [
    "# Models after Mahdi + Full data"
   ]
  },
  {
   "cell_type": "markdown",
   "id": "92fd87a2-6de6-4fee-b42a-df76bf9de63a",
   "metadata": {
    "jp-MarkdownHeadingCollapsed": true,
    "tags": []
   },
   "source": [
    "## Baseline Model"
   ]
  },
  {
   "cell_type": "code",
   "execution_count": 56,
   "id": "c88751ad-061f-45ac-a936-03a7996a4de0",
   "metadata": {
    "tags": []
   },
   "outputs": [
    {
     "name": "stdout",
     "output_type": "stream",
     "text": [
      "Average rating 4.6\n",
      "Baseline mean absolute error: 0.2102.\n",
      "Baseline r2 score: -0.0.\n"
     ]
    }
   ],
   "source": [
    "y_pred = [np.mean(y_train)]*len(y_test)\n",
    "print(\"Average rating\", np.round(np.mean(y_train), decimals = 2))\n",
    "mae_baseline = mean_absolute_error(y_test, y_pred)\n",
    "print(\"Baseline mean absolute error: {:0.4f}.\".format(mae_baseline))\n",
    "r2_baseline = r2_score(y_test, y_pred)\n",
    "print(\"Baseline r2 score: {:0.1f}.\".format(r2_baseline))"
   ]
  },
  {
   "cell_type": "markdown",
   "id": "2a59b93c-663f-446b-9409-5716fb196c4d",
   "metadata": {
    "jp-MarkdownHeadingCollapsed": true,
    "tags": []
   },
   "source": [
    "## Linear Model"
   ]
  },
  {
   "cell_type": "code",
   "execution_count": 57,
   "id": "d063cad7-4aad-4892-93e2-fe217ab48f73",
   "metadata": {
    "tags": []
   },
   "outputs": [],
   "source": [
    "# Finding the best model\n",
    "Search_linreg =LinModel()\n",
    "lin_reg_result = Search_linreg.fit(X_train, y_train)"
   ]
  },
  {
   "cell_type": "code",
   "execution_count": 58,
   "id": "af40cea8-7e09-4794-a185-6a631da1cbeb",
   "metadata": {
    "tags": []
   },
   "outputs": [
    {
     "name": "stdout",
     "output_type": "stream",
     "text": [
      "Best Score: -1.5199511806316314e+26\n",
      "Best Hyperparameters: {'model__copy_X': True, 'model__fit_intercept': True, 'model__positive': True}\n",
      "\n",
      " Model Performance\n",
      "Mean Absolute Error =  1.3300 .\n",
      "Residual sum of squares: 2.70\n",
      "Mean Absolute Error Improvement of -532.65%.\n",
      "R2 score = -28.7278.\n"
     ]
    }
   ],
   "source": [
    "# summarize result\n",
    "evaluate(lin_reg_result, X_test, y_test)"
   ]
  },
  {
   "cell_type": "code",
   "execution_count": 59,
   "id": "46d7ce64-2ff4-4ffa-ba9a-0f329d3f546d",
   "metadata": {
    "tags": []
   },
   "outputs": [],
   "source": [
    "test_model_lin = modelTTR(Search_linreg)"
   ]
  },
  {
   "cell_type": "code",
   "execution_count": 60,
   "id": "3d3be60c-305c-4640-9465-bef58a292440",
   "metadata": {
    "tags": []
   },
   "outputs": [
    {
     "name": "stdout",
     "output_type": "stream",
     "text": [
      "\n",
      " Model Performance\n",
      "Mean Absolute Error =  1.3502 .\n",
      "Residual sum of squares: 2.78\n",
      "Mean Absolute Error Improvement of -542.23%.\n",
      "R2 score = -29.6937.\n"
     ]
    }
   ],
   "source": [
    "# summarize result\n",
    "evaluateTTR(test_model_lin, X_test, y_test)"
   ]
  },
  {
   "cell_type": "markdown",
   "id": "db3209b9-b2dc-49aa-a5a7-faf794ff2b52",
   "metadata": {
    "jp-MarkdownHeadingCollapsed": true,
    "tags": []
   },
   "source": [
    "## Ridge Model"
   ]
  },
  {
   "cell_type": "code",
   "execution_count": 61,
   "id": "b07e0862-d0bb-49d6-9e4f-c09c7de48c47",
   "metadata": {
    "tags": []
   },
   "outputs": [],
   "source": [
    "Search_ridge = RidgeModel('r2')\n",
    "# execute search\n",
    "Ridge_result = Search_ridge.fit(X_train, y_train)"
   ]
  },
  {
   "cell_type": "code",
   "execution_count": 62,
   "id": "5a2ae37e-2a9b-4f70-b415-1addfbad6b3e",
   "metadata": {
    "tags": []
   },
   "outputs": [
    {
     "name": "stdout",
     "output_type": "stream",
     "text": [
      "Best Score: 0.40920709006227085\n",
      "Best Hyperparameters: {'model__alpha': 100, 'model__fit_intercept': True, 'model__solver': 'cholesky'}\n",
      "\n",
      " Model Performance\n",
      "Mean Absolute Error =  0.1807 .\n",
      "Residual sum of squares: 0.06\n",
      "Mean Absolute Error Improvement of 14.07%.\n",
      "R2 score = 0.2963.\n"
     ]
    }
   ],
   "source": [
    "# summarize result\n",
    "evaluate(Ridge_result, X_test, y_test)"
   ]
  },
  {
   "cell_type": "code",
   "execution_count": 63,
   "id": "5c05ff42-6518-4278-bb30-ebba098b2c21",
   "metadata": {
    "tags": []
   },
   "outputs": [],
   "source": [
    "test_model_ridge = modelTTR(Search_ridge)"
   ]
  },
  {
   "cell_type": "code",
   "execution_count": 64,
   "id": "21988712-9836-4c74-835d-28b7cacba818",
   "metadata": {
    "tags": []
   },
   "outputs": [
    {
     "name": "stdout",
     "output_type": "stream",
     "text": [
      "\n",
      " Model Performance\n",
      "Mean Absolute Error =  0.1814 .\n",
      "Residual sum of squares: 0.07\n",
      "Mean Absolute Error Improvement of 13.71%.\n",
      "R2 score = 0.2240.\n"
     ]
    }
   ],
   "source": [
    "# summarize result\n",
    "evaluateTTR(test_model_ridge, X_test, y_test)"
   ]
  },
  {
   "cell_type": "markdown",
   "id": "40e2a27b-eb45-4375-aaea-64042b608799",
   "metadata": {
    "jp-MarkdownHeadingCollapsed": true,
    "tags": []
   },
   "source": [
    "## Lasso Model"
   ]
  },
  {
   "cell_type": "code",
   "execution_count": 65,
   "id": "7b7c52bd-a8b8-40e7-a327-ed787b12f09a",
   "metadata": {
    "tags": []
   },
   "outputs": [
    {
     "name": "stdout",
     "output_type": "stream",
     "text": [
      "Best Score: 0.458254693812364\n",
      "Best Hyperparameters: {'model__alpha': 0.01, 'model__fit_intercept': True}\n",
      "\n",
      " Model Performance\n",
      "Mean Absolute Error =  0.1715 .\n",
      "Residual sum of squares: 0.06\n",
      "Mean Absolute Error Improvement of 18.44%.\n",
      "R2 score = 0.3589.\n"
     ]
    }
   ],
   "source": [
    "# execute search\n",
    "search_lasso = LassoModel('r2')\n",
    "Lasso_result = search_lasso.fit(X_train, y_train)\n",
    "# summarize result\n",
    "evaluate(Lasso_result, X_test, y_test)"
   ]
  },
  {
   "cell_type": "code",
   "execution_count": 66,
   "id": "8f163e6c-f7fe-4e1e-864f-18839cd77bca",
   "metadata": {
    "tags": []
   },
   "outputs": [],
   "source": [
    "# Testing!\n",
    "test_model_lasso = modelTTR(search_lasso)"
   ]
  },
  {
   "cell_type": "code",
   "execution_count": 67,
   "id": "a03c2875-6156-4b9c-9101-7b44bb3bae04",
   "metadata": {
    "tags": []
   },
   "outputs": [
    {
     "name": "stdout",
     "output_type": "stream",
     "text": [
      "\n",
      " Model Performance\n",
      "Mean Absolute Error =  0.1618 .\n",
      "Residual sum of squares: 0.06\n",
      "Mean Absolute Error Improvement of 23.02%.\n",
      "R2 score = 0.3578.\n"
     ]
    }
   ],
   "source": [
    "# summarize result\n",
    "evaluateTTR(test_model_lasso, X_test, y_test)"
   ]
  },
  {
   "cell_type": "markdown",
   "id": "9152e30e-8d7e-454c-a711-51fc33189487",
   "metadata": {
    "jp-MarkdownHeadingCollapsed": true,
    "tags": []
   },
   "source": [
    "## SVR Model"
   ]
  },
  {
   "cell_type": "code",
   "execution_count": 68,
   "id": "181afa7a-b1e8-4d1d-bf35-b6518d1e0459",
   "metadata": {
    "tags": []
   },
   "outputs": [
    {
     "name": "stdout",
     "output_type": "stream",
     "text": [
      "{'model__C': 10, 'model__gamma': 0.001}\n",
      "Pipeline(steps=[('standardize', StandardScaler()),\n",
      "                ('model', SVR(C=10, gamma=0.001))])\n"
     ]
    }
   ],
   "source": [
    "#Execute search\n",
    "search_SVR = SVRModel('r2')\n",
    "SVR_result = search_SVR.fit(X_train, y_train)\n",
    "\n",
    "# print best parameter after tuning\n",
    "print(search_SVR.best_params_)\n",
    " \n",
    "# print how our model looks after hyper-parameter tuning\n",
    "print(search_SVR.best_estimator_)\n",
    "\n",
    "search_predictions = search_SVR.predict(X_test)"
   ]
  },
  {
   "cell_type": "code",
   "execution_count": 69,
   "id": "b9aee564-cd6a-4893-8fe3-50121ead7e9b",
   "metadata": {
    "tags": []
   },
   "outputs": [
    {
     "name": "stdout",
     "output_type": "stream",
     "text": [
      "Best Score: -0.18873200722107988\n",
      "Best Hyperparameters: {'model__C': 10, 'model__gamma': 0.001}\n",
      "\n",
      " Model Performance\n",
      "Mean Absolute Error =  0.1950 .\n",
      "Residual sum of squares: 0.07\n",
      "Mean Absolute Error Improvement of 7.25%.\n",
      "R2 score = 0.2317.\n"
     ]
    }
   ],
   "source": [
    "# summarize result\n",
    "evaluate(SVR_result, X_test, y_test)"
   ]
  },
  {
   "cell_type": "code",
   "execution_count": 70,
   "id": "86bed96d-ffb6-4eb3-82f4-b7c78d2d295b",
   "metadata": {
    "tags": []
   },
   "outputs": [],
   "source": [
    "\n",
    "test_model_SVR = modelTTR(search_SVR)\n",
    "y_pred = SVR_result.predict(X_test)\n"
   ]
  },
  {
   "cell_type": "code",
   "execution_count": 71,
   "id": "a1392874-b656-4b4c-9fb7-32904ac078ee",
   "metadata": {
    "tags": []
   },
   "outputs": [
    {
     "name": "stdout",
     "output_type": "stream",
     "text": [
      "\n",
      " Model Performance\n",
      "Mean Absolute Error =  0.1872 .\n",
      "Residual sum of squares: 0.07\n",
      "Mean Absolute Error Improvement of 10.96%.\n",
      "R2 score = 0.2530.\n"
     ]
    }
   ],
   "source": [
    "# summarize result\n",
    "evaluateTTR(test_model_SVR, X_test, y_test)"
   ]
  },
  {
   "cell_type": "markdown",
   "id": "6bf5d832-fbbc-4a26-95f0-0b7c5c1e14ef",
   "metadata": {
    "tags": []
   },
   "source": [
    "## Random Forest Model"
   ]
  },
  {
   "cell_type": "code",
   "execution_count": 77,
   "id": "73be6e1a-fe9f-407e-a822-8cf07d213190",
   "metadata": {
    "tags": []
   },
   "outputs": [],
   "source": [
    "Search_rf = RFModel('r2')\n",
    "# Fit the grid search to the data\n",
    "rf_result = Search_rf.fit(X_train, y_train)\n"
   ]
  },
  {
   "cell_type": "code",
   "execution_count": 78,
   "id": "6196ca04-fe26-4959-9ee4-6d3edd5ac5b4",
   "metadata": {
    "tags": []
   },
   "outputs": [
    {
     "name": "stdout",
     "output_type": "stream",
     "text": [
      "Best Score: 0.46884404965583165\n",
      "Best Hyperparameters: {'max_depth': 110, 'min_samples_leaf': 2, 'min_samples_split': 2, 'n_estimators': 550}\n",
      "\n",
      " Model Performance\n",
      "Mean Absolute Error =  0.1678 .\n",
      "Residual sum of squares: 0.05\n",
      "Mean Absolute Error Improvement of 20.18%.\n",
      "R2 score = 0.4185.\n"
     ]
    }
   ],
   "source": [
    "# summarize result\n",
    "evaluate(rf_result, X_test, y_test)"
   ]
  },
  {
   "cell_type": "code",
   "execution_count": null,
   "id": "c969dcd6-d2ec-4bce-8cd6-48879641b460",
   "metadata": {
    "tags": []
   },
   "outputs": [],
   "source": [
    "#Testing\n",
    "test_model_KNN = modelTTR(rf_result)\n",
    "y_pred = rf_result.predict(X_test)\n"
   ]
  },
  {
   "cell_type": "code",
   "execution_count": null,
   "id": "1b0fbb9e-3bbf-40db-be86-c71a08d026b3",
   "metadata": {
    "tags": []
   },
   "outputs": [],
   "source": [
    "# summarize result\n",
    "evaluateTTR(test_model_KNN, X_test, y_test)"
   ]
  },
  {
   "cell_type": "code",
   "execution_count": null,
   "id": "08c3dfc9-66ba-4eea-aaa1-eefb29fe26fc",
   "metadata": {
    "tags": []
   },
   "outputs": [],
   "source": []
  },
  {
   "cell_type": "markdown",
   "id": "9319b382-f8f6-4a5d-85d9-f76745f0f4e9",
   "metadata": {
    "tags": []
   },
   "source": [
    "## KNN"
   ]
  },
  {
   "cell_type": "code",
   "execution_count": null,
   "id": "c52c3318-1142-480e-bf94-90d9729003da",
   "metadata": {
    "tags": []
   },
   "outputs": [],
   "source": [
    "search_KNN = KNNmodel('r2')\n",
    "# fitting the model for grid search\n",
    "KNN_result=search_KNN.fit(X_train, y_train)\n",
    "\n",
    "# print best parameter after tuning\n",
    "print(search_KNN.best_params_)\n",
    " \n",
    "# print how our model looks after hyper-parameter tuning\n",
    "print(search_KNN.best_estimator_)\n",
    "\n",
    "search_predictions = search_KNN.predict(X_test)"
   ]
  },
  {
   "cell_type": "code",
   "execution_count": null,
   "id": "438b3aef-b436-400b-be01-a573b19a22f1",
   "metadata": {
    "tags": []
   },
   "outputs": [],
   "source": [
    "# summarize result\n",
    "evaluate(KNN_result, X_test, y_test)"
   ]
  },
  {
   "cell_type": "code",
   "execution_count": null,
   "id": "6c38ce4d-c363-4d1b-b315-4693766f2f7a",
   "metadata": {
    "tags": []
   },
   "outputs": [],
   "source": [
    "# Testing!\n",
    "model_trans = modelTTR(search_KNN)\n",
    "test_model = model_trans.fit(X_train, y_train)\n",
    "y_pred = test_model.predict(X_test)"
   ]
  },
  {
   "cell_type": "code",
   "execution_count": null,
   "id": "80a903a8-54e9-458b-a1f5-b3315e71d0d8",
   "metadata": {
    "tags": []
   },
   "outputs": [],
   "source": [
    "# summarize result\n",
    "evaluateTTR(test_model, X_test, y_test)"
   ]
  },
  {
   "cell_type": "code",
   "execution_count": null,
   "id": "58bf1076-ffad-4db4-956e-7af87b9ffc38",
   "metadata": {},
   "outputs": [],
   "source": []
  },
  {
   "cell_type": "code",
   "execution_count": null,
   "id": "3b6a7f33-4d12-4f42-8a93-835f3ee64611",
   "metadata": {},
   "outputs": [],
   "source": []
  },
  {
   "cell_type": "code",
   "execution_count": null,
   "id": "012784bb-fbb9-4fa6-add1-d6ec39d9f69e",
   "metadata": {},
   "outputs": [],
   "source": []
  },
  {
   "cell_type": "markdown",
   "id": "bbfe896b-eaac-4c40-867f-e1227103efc5",
   "metadata": {
    "jp-MarkdownHeadingCollapsed": true,
    "tags": []
   },
   "source": [
    "# Before Mahdi - Data Treatment for Regressions - Faut juste copy/paste la section 'Models after Mahdi + Full data' et ça run"
   ]
  },
  {
   "cell_type": "markdown",
   "id": "49b6be7b-1a08-491e-a244-f3a70309500a",
   "metadata": {},
   "source": [
    "We won't be using the reviews as they were utilised in the NLP and sentiment analysis."
   ]
  },
  {
   "cell_type": "code",
   "execution_count": 2,
   "id": "77b29535-3db2-48c8-a183-314bb1c2dd4f",
   "metadata": {},
   "outputs": [],
   "source": [
    "#df = pd.read_csv('Audible_data_updated.csv')\n",
    "df = pd.read_csv('cleaned_data.csv')"
   ]
  },
  {
   "cell_type": "code",
   "execution_count": 47,
   "id": "48b29026-81f0-4a7e-9483-c52ff3650f1f",
   "metadata": {},
   "outputs": [
    {
     "data": {
      "text/html": [
       "<div>\n",
       "<style scoped>\n",
       "    .dataframe tbody tr th:only-of-type {\n",
       "        vertical-align: middle;\n",
       "    }\n",
       "\n",
       "    .dataframe tbody tr th {\n",
       "        vertical-align: top;\n",
       "    }\n",
       "\n",
       "    .dataframe thead th {\n",
       "        text-align: right;\n",
       "    }\n",
       "</style>\n",
       "<table border=\"1\" class=\"dataframe\">\n",
       "  <thead>\n",
       "    <tr style=\"text-align: right;\">\n",
       "      <th></th>\n",
       "      <th>Book Title</th>\n",
       "      <th>Book Subtitle</th>\n",
       "      <th>Book Author</th>\n",
       "      <th>Book Narrator</th>\n",
       "      <th>Audio Runtime</th>\n",
       "      <th>Audiobook_Type</th>\n",
       "      <th>Categories</th>\n",
       "      <th>Language</th>\n",
       "      <th>Total No. of Ratings</th>\n",
       "      <th>Price</th>\n",
       "      <th>nbr_reviews</th>\n",
       "      <th>mean_score</th>\n",
       "      <th>mean_polarity</th>\n",
       "      <th>releaseyear</th>\n",
       "      <th>Rating</th>\n",
       "    </tr>\n",
       "  </thead>\n",
       "  <tbody>\n",
       "    <tr>\n",
       "      <th>1627</th>\n",
       "      <td>Learn Korean with Innovative Language's Proven...</td>\n",
       "      <td>Absolute Beginner Korean #4</td>\n",
       "      <td>Innovative Language Learning</td>\n",
       "      <td>KoreanClass101.com</td>\n",
       "      <td>21</td>\n",
       "      <td>Original Recording Audiobook</td>\n",
       "      <td>Education &amp; Learning</td>\n",
       "      <td>English</td>\n",
       "      <td>106.0</td>\n",
       "      <td>0.00</td>\n",
       "      <td>5.0</td>\n",
       "      <td>0.13</td>\n",
       "      <td>postive</td>\n",
       "      <td>2011</td>\n",
       "      <td>4.0</td>\n",
       "    </tr>\n",
       "    <tr>\n",
       "      <th>713</th>\n",
       "      <td>Anxiety in Relationship</td>\n",
       "      <td>How to Overcome Anxiety, Jealousy, Negative Th...</td>\n",
       "      <td>Melanie White</td>\n",
       "      <td>Kate Keating</td>\n",
       "      <td>313</td>\n",
       "      <td>Unabridged Audiobook</td>\n",
       "      <td>Health &amp; Wellness</td>\n",
       "      <td>English</td>\n",
       "      <td>442.0</td>\n",
       "      <td>19.95</td>\n",
       "      <td>30.0</td>\n",
       "      <td>0.18</td>\n",
       "      <td>postive</td>\n",
       "      <td>2020</td>\n",
       "      <td>4.4</td>\n",
       "    </tr>\n",
       "    <tr>\n",
       "      <th>954</th>\n",
       "      <td>Empire of Storms</td>\n",
       "      <td>NaN</td>\n",
       "      <td>Sarah J. Maas</td>\n",
       "      <td>Elizabeth Evans</td>\n",
       "      <td>1518</td>\n",
       "      <td>Unabridged Audiobook</td>\n",
       "      <td>Teen</td>\n",
       "      <td>English</td>\n",
       "      <td>11612.0</td>\n",
       "      <td>39.95</td>\n",
       "      <td>99.0</td>\n",
       "      <td>0.14</td>\n",
       "      <td>postive</td>\n",
       "      <td>2016</td>\n",
       "      <td>4.8</td>\n",
       "    </tr>\n",
       "    <tr>\n",
       "      <th>1342</th>\n",
       "      <td>Shelter in Place</td>\n",
       "      <td>NaN</td>\n",
       "      <td>Nora Roberts</td>\n",
       "      <td>January LaVoy</td>\n",
       "      <td>922</td>\n",
       "      <td>Unabridged Audiobook</td>\n",
       "      <td>Literature &amp; Fiction</td>\n",
       "      <td>English</td>\n",
       "      <td>16385.0</td>\n",
       "      <td>34.99</td>\n",
       "      <td>99.0</td>\n",
       "      <td>0.12</td>\n",
       "      <td>postive</td>\n",
       "      <td>2018</td>\n",
       "      <td>4.6</td>\n",
       "    </tr>\n",
       "    <tr>\n",
       "      <th>433</th>\n",
       "      <td>Year of Yes</td>\n",
       "      <td>How to Dance It Out, Stand in the Sun and Be Y...</td>\n",
       "      <td>Shonda Rhimes</td>\n",
       "      <td>Shonda Rhimes</td>\n",
       "      <td>424</td>\n",
       "      <td>Unabridged Audiobook</td>\n",
       "      <td>Biographies &amp; Memoirs</td>\n",
       "      <td>English</td>\n",
       "      <td>22445.0</td>\n",
       "      <td>20.99</td>\n",
       "      <td>99.0</td>\n",
       "      <td>0.27</td>\n",
       "      <td>postive</td>\n",
       "      <td>2015</td>\n",
       "      <td>4.7</td>\n",
       "    </tr>\n",
       "  </tbody>\n",
       "</table>\n",
       "</div>"
      ],
      "text/plain": [
       "                                             Book Title  \\\n",
       "1627  Learn Korean with Innovative Language's Proven...   \n",
       "713                             Anxiety in Relationship   \n",
       "954                                    Empire of Storms   \n",
       "1342                                   Shelter in Place   \n",
       "433                                         Year of Yes   \n",
       "\n",
       "                                          Book Subtitle  \\\n",
       "1627                        Absolute Beginner Korean #4   \n",
       "713   How to Overcome Anxiety, Jealousy, Negative Th...   \n",
       "954                                                 NaN   \n",
       "1342                                                NaN   \n",
       "433   How to Dance It Out, Stand in the Sun and Be Y...   \n",
       "\n",
       "                       Book Author       Book Narrator  Audio Runtime  \\\n",
       "1627  Innovative Language Learning  KoreanClass101.com             21   \n",
       "713                  Melanie White        Kate Keating            313   \n",
       "954                  Sarah J. Maas     Elizabeth Evans           1518   \n",
       "1342                  Nora Roberts       January LaVoy            922   \n",
       "433                  Shonda Rhimes       Shonda Rhimes            424   \n",
       "\n",
       "                    Audiobook_Type             Categories Language  \\\n",
       "1627  Original Recording Audiobook   Education & Learning  English   \n",
       "713           Unabridged Audiobook      Health & Wellness  English   \n",
       "954           Unabridged Audiobook                   Teen  English   \n",
       "1342          Unabridged Audiobook   Literature & Fiction  English   \n",
       "433           Unabridged Audiobook  Biographies & Memoirs  English   \n",
       "\n",
       "      Total No. of Ratings  Price  nbr_reviews  mean_score mean_polarity  \\\n",
       "1627                 106.0   0.00          5.0        0.13       postive   \n",
       "713                  442.0  19.95         30.0        0.18       postive   \n",
       "954                11612.0  39.95         99.0        0.14       postive   \n",
       "1342               16385.0  34.99         99.0        0.12       postive   \n",
       "433                22445.0  20.99         99.0        0.27       postive   \n",
       "\n",
       "      releaseyear  Rating  \n",
       "1627         2011     4.0  \n",
       "713          2020     4.4  \n",
       "954          2016     4.8  \n",
       "1342         2018     4.6  \n",
       "433          2015     4.7  "
      ]
     },
     "execution_count": 47,
     "metadata": {},
     "output_type": "execute_result"
    }
   ],
   "source": [
    "\n",
    "data=[]\n",
    "data = pd.concat([df.iloc[:, 1:12].copy(), df.nbr_reviews.copy(), df.Rating.copy()],axis = 1)  # To avoid the case where changing data also changes df\n",
    "data = data.drop('Date', axis =1)\n",
    "data.sample(5)\n"
   ]
  },
  {
   "cell_type": "code",
   "execution_count": 48,
   "id": "4ca222a6-a637-434d-9ace-1d3db61018dd",
   "metadata": {
    "tags": []
   },
   "outputs": [
    {
     "data": {
      "text/plain": [
       "(1750, 2482)"
      ]
     },
     "execution_count": 48,
     "metadata": {},
     "output_type": "execute_result"
    }
   ],
   "source": [
    "data = pd.get_dummies(data = data, columns = ['Book Author', 'Book Narrator', 'Audiobook_Type', 'Categories', 'Language'])\n",
    "features = list(set(list(data.columns)) - set([\"Rating\", \"Book Subtitle\", \"Book Title\"]))\n",
    "X = data.loc[:, features]\n",
    "Y = data.loc[:, 'Rating']\n",
    "#Don't know how to use Book Subtitle in a usefull way - NLP stuff\n",
    "data.shape"
   ]
  },
  {
   "cell_type": "code",
   "execution_count": 49,
   "id": "5beaf9ed-b008-4b42-98c3-cbd3e763623c",
   "metadata": {
    "tags": []
   },
   "outputs": [
    {
     "data": {
      "text/plain": [
       "<seaborn.axisgrid.FacetGrid at 0x7fc4e77255b0>"
      ]
     },
     "execution_count": 49,
     "metadata": {},
     "output_type": "execute_result"
    },
    {
     "data": {
      "image/png": "[encoded data removed]",
      "text/plain": [
       "<Figure size 360x360 with 1 Axes>"
      ]
     },
     "metadata": {
      "needs_background": "light"
     },
     "output_type": "display_data"
    }
   ],
   "source": [
    "sns.displot(data, x=\"Rating\")\n",
    "#Observe a few outliers which are stopping me from creating a model."
   ]
  },
  {
   "cell_type": "markdown",
   "id": "245a11ef-368c-4418-8c28-f9b0fb1bb997",
   "metadata": {},
   "source": [
    "The rating distribution is highly skewed and we have a few outliers. TO be able to use these outliers we combined them at specific values."
   ]
  },
  {
   "cell_type": "code",
   "execution_count": 50,
   "id": "22fcc97f-2878-4200-b7bb-87c05c5d6dfc",
   "metadata": {
    "tags": []
   },
   "outputs": [],
   "source": [
    "#having an issue with singular target values on the models. Grouping for value lower then 2, lower than 3\n",
    "for value in Y:\n",
    "    if value <=1:\n",
    "        Y.replace([value],1)\n",
    "    if 1<value<=2 :\n",
    "        Y = Y.replace([value],2)\n",
    "    if 2<value <= 2.5:\n",
    "        Y = Y.replace([value],2.5)\n",
    "    if 2.5<value <= 3:\n",
    "        Y = Y.replace([value],3)\n",
    "    if 3<value <=3.5:\n",
    "        Y = Y.replace([value],3.5)\n",
    "    if 3.5< value <= 3.75:\n",
    "        Y = Y.replace([value],3.75)"
   ]
  },
  {
   "cell_type": "code",
   "execution_count": 51,
   "id": "93a4cae8-1727-4705-a500-fed91d14dcc2",
   "metadata": {
    "tags": []
   },
   "outputs": [
    {
     "data": {
      "text/plain": [
       "<seaborn.axisgrid.FacetGrid at 0x7fc4d40f4be0>"
      ]
     },
     "execution_count": 51,
     "metadata": {},
     "output_type": "execute_result"
    },
    {
     "data": {
      "image/png": "[encoded data removed]",
      "text/plain": [
       "<Figure size 360x360 with 1 Axes>"
      ]
     },
     "metadata": {
      "needs_background": "light"
     },
     "output_type": "display_data"
    }
   ],
   "source": [
    "sns.displot(Y)\n",
    "#Sanity check that previous code worked and we don't have any singular outlier"
   ]
  },
  {
   "cell_type": "markdown",
   "id": "f257ebea-cb16-4916-9a25-c7762a5ce50d",
   "metadata": {},
   "source": [
    "The rating distribution is highly skewed and we have a few outliers. To adress the skewness of the data we will transform the target varaible to a more 'normal' distribution."
   ]
  },
  {
   "cell_type": "code",
   "execution_count": 52,
   "id": "6d6bcab3-b75a-4962-ad02-c8df409d3c51",
   "metadata": {
    "tags": []
   },
   "outputs": [
    {
     "data": {
      "text/plain": [
       "<seaborn.axisgrid.FacetGrid at 0x7fc4d0cc7cd0>"
      ]
     },
     "execution_count": 52,
     "metadata": {},
     "output_type": "execute_result"
    },
    {
     "data": {
      "image/png": "[encoded data removed]",
      "text/plain": [
       "<Figure size 360x360 with 1 Axes>"
      ]
     },
     "metadata": {
      "needs_background": "light"
     },
     "output_type": "display_data"
    }
   ],
   "source": [
    "#Changing distribution as data is very skewed\n",
    "Y_trans = quantile_transform(Y.to_frame(), \n",
    "                             n_quantiles=500, \n",
    "                             output_distribution='normal', \n",
    "                             copy=True\n",
    "                            ).squeeze()\n",
    "sns.displot(Y_trans)"
   ]
  },
  {
   "cell_type": "code",
   "execution_count": 53,
   "id": "f6af2339-5ae5-466b-9b9d-ca0852dbef1e",
   "metadata": {
    "tags": []
   },
   "outputs": [],
   "source": [
    "X_train, X_test, y_train, y_test = train_test_split(X, Y, test_size=0.20, stratify=Y, random_state = SEED)"
   ]
  }
 ],
 "metadata": {
  "kernelspec": {
   "display_name": "Python 3",
   "language": "python",
   "name": "python3"
  },
  "language_info": {
   "codemirror_mode": {
    "name": "ipython",
    "version": 3
   },
   "file_extension": ".py",
   "mimetype": "text/x-python",
   "name": "python",
   "nbconvert_exporter": "python",
   "pygments_lexer": "ipython3",
   "version": "3.8.8"
  }
 },
 "nbformat": 4,
 "nbformat_minor": 5
}
