{
 "cells": [
  {
   "cell_type": "code",
   "execution_count": 1,
   "id": "d544af05",
   "metadata": {},
   "outputs": [],
   "source": [
    "# Import library\n",
    "import seaborn as sns\n",
    "import pandas_profiling\n",
    "import ipywidgets\n",
    "from IPython.display import display, HTML\n",
    "import scipy.stats as stats\n",
    "import pandas as pd\n",
    "import numpy as np\n",
    "import warnings\n",
    "\n",
    "import matplotlib.pyplot as plt\n",
    "from matplotlib import style\n",
    "import matplotlib\n",
    "import seaborn as sns\n",
    "%matplotlib inline\n",
    "import itertools\n",
    "\n",
    "#For sentiment analysis\n",
    "from textblob import TextBlob\n",
    "\n",
    "#Regression\n",
    "from sklearn import preprocessing\n",
    "from pprint import pprint\n",
    "from sklearn.decomposition import PCA\n",
    "from sklearn.metrics         import roc_curve\n",
    "from sklearn.metrics         import roc_auc_score\n",
    "from sklearn.metrics         import accuracy_score\n",
    "from sklearn.metrics         import mean_squared_error\n",
    "from sklearn.metrics         import r2_score\n",
    "from sklearn.metrics         import classification_report\n",
    "from sklearn.metrics import mean_absolute_error\n",
    "from pprint import pprint\n",
    "\n",
    "from sklearn.pipeline        import Pipeline\n",
    "\n",
    "\n",
    "from sklearn.model_selection import GridSearchCV\n",
    "from sklearn.neighbors import KNeighborsClassifier\n",
    "from sklearn.pipeline import Pipeline\n",
    "from sklearn.preprocessing import MinMaxScaler\n",
    "\n",
    "\n",
    "from sklearn.model_selection import train_test_split\n",
    "from sklearn.model_selection import KFold\n",
    "from sklearn.linear_model    import LinearRegression\n",
    "from sklearn.svm             import SVC\n",
    "from sklearn.svm             import SVR\n",
    "from sklearn.preprocessing   import StandardScaler\n",
    "from sklearn.ensemble import RandomForestRegressor\n",
    "\n",
    "\n",
    "from sklearn.model_selection import RandomizedSearchCV\n",
    "from sklearn.linear_model import Ridge\n",
    "from sklearn.linear_model import Lasso\n",
    "from sklearn.neighbors import KNeighborsRegressor\n",
    "\n",
    "from sklearn.preprocessing import QuantileTransformer, quantile_transform\n",
    "from sklearn.compose import TransformedTargetRegressor\n",
    "\n",
    "SEED = 123"
   ]
  },
  {
   "cell_type": "markdown",
   "id": "d0dcf6fc",
   "metadata": {},
   "source": [
    "## Loading Data"
   ]
  },
  {
   "cell_type": "code",
   "execution_count": 2,
   "id": "706a5191",
   "metadata": {},
   "outputs": [],
   "source": [
    "#df = pd.read_csv('Audible_data_updated.csv')\n",
    "df = pd.read_csv('Audible_Dataset_final.csv')"
   ]
  },
  {
   "cell_type": "code",
   "execution_count": 3,
   "id": "f73807af",
   "metadata": {},
   "outputs": [],
   "source": [
    "#Changing column name of the last column to make it in format of the other Reviews\n",
    "df = df.rename(columns={'Review100': 'Review 100'})"
   ]
  },
  {
   "cell_type": "code",
   "execution_count": 4,
   "id": "d576f59b",
   "metadata": {},
   "outputs": [
    {
     "name": "stdout",
     "output_type": "stream",
     "text": [
      "The shape of our dataset is:(2269, 110)\n"
     ]
    }
   ],
   "source": [
    "print('The shape of our dataset is:{}'.format(df.shape))"
   ]
  },
  {
   "cell_type": "markdown",
   "id": "b96e9215",
   "metadata": {},
   "source": [
    "### Adding number of reviews column"
   ]
  },
  {
   "cell_type": "code",
   "execution_count": 5,
   "id": "a21bbaec",
   "metadata": {},
   "outputs": [],
   "source": [
    "#Creating a column that will contain the number of reviews in this dataset\n",
    "df.insert(df.shape[1], 'nbr_reviews', '0')"
   ]
  },
  {
   "cell_type": "code",
   "execution_count": 6,
   "id": "7e5b9499",
   "metadata": {},
   "outputs": [],
   "source": [
    "#Counting the number of reviews\n",
    "for index, row in df.iterrows():\n",
    "    nbr_reviews = 0\n",
    "    for review_j in range(1, 100):\n",
    "        #Verifying if it's not a nan value\n",
    "        if(row['Review '+str(review_j)] == row['Review '+str(review_j)]):\n",
    "            nbr_reviews +=1\n",
    "        df.at[index,'nbr_reviews'] = nbr_reviews"
   ]
  },
  {
   "cell_type": "markdown",
   "id": "eed42349",
   "metadata": {},
   "source": [
    "#### Checking the columns and their type of variables"
   ]
  },
  {
   "cell_type": "code",
   "execution_count": 7,
   "id": "b7085e9e",
   "metadata": {},
   "outputs": [
    {
     "data": {
      "text/plain": [
       "Index(['Book Title', 'Book Subtitle', 'Book Author', 'Book Narrator',\n",
       "       'Audio Runtime', 'Audiobook_Type', 'Categories', 'Rating',\n",
       "       'Total No. of Ratings', 'Price',\n",
       "       ...\n",
       "       'Review 92', 'Review 93', 'Review 94', 'Review 95', 'Review 96',\n",
       "       'Review 97', 'Review 98', 'Review 99', 'Review 100', 'nbr_reviews'],\n",
       "      dtype='object', length=111)"
      ]
     },
     "execution_count": 7,
     "metadata": {},
     "output_type": "execute_result"
    }
   ],
   "source": [
    "df.columns"
   ]
  },
  {
   "cell_type": "code",
   "execution_count": 8,
   "id": "354a5719",
   "metadata": {},
   "outputs": [
    {
     "data": {
      "text/plain": [
       "Book Title       object\n",
       "Book Subtitle    object\n",
       "Book Author      object\n",
       "Book Narrator    object\n",
       "Audio Runtime    object\n",
       "                  ...  \n",
       "Review 97        object\n",
       "Review 98        object\n",
       "Review 99        object\n",
       "Review 100       object\n",
       "nbr_reviews      object\n",
       "Length: 111, dtype: object"
      ]
     },
     "execution_count": 8,
     "metadata": {},
     "output_type": "execute_result"
    }
   ],
   "source": [
    "df.dtypes"
   ]
  },
  {
   "cell_type": "markdown",
   "id": "d53a0a83",
   "metadata": {
    "tags": []
   },
   "source": [
    "## Data cleaning for sentiment analysis of the reviews"
   ]
  },
  {
   "cell_type": "markdown",
   "id": "c0a490f9",
   "metadata": {},
   "source": [
    "#### Keeping only books with  rating number (betwwen 0 and 5)"
   ]
  },
  {
   "cell_type": "code",
   "execution_count": 9,
   "id": "e350bfcc",
   "metadata": {},
   "outputs": [],
   "source": [
    "#df.profile_report()"
   ]
  },
  {
   "cell_type": "code",
   "execution_count": 10,
   "id": "29987fd7",
   "metadata": {},
   "outputs": [
    {
     "data": {
      "text/plain": [
       "array(['5', '4.5', '4.8', 'Not rated yet', '4.6', '4.9', '4.7', '4.3',\n",
       "       '4.2', '4.4', '4', '4.1', '5 out of 5 stars', '3.3', '3.9', '3.6',\n",
       "       '3.8', '4.5 out of 5 stars', '2.3', '3', '1', '3.5', '2.5', '3.2',\n",
       "       '1.8', '3.1', '2.8', '2.7', '3.4', '2.2', '2.9',\n",
       "       '4 out of 5 stars', '3.7', '1.5'], dtype=object)"
      ]
     },
     "execution_count": 10,
     "metadata": {},
     "output_type": "execute_result"
    }
   ],
   "source": [
    "df[df['Rating'].notnull()]['Rating'].unique()"
   ]
  },
  {
   "cell_type": "markdown",
   "id": "c4843ad9",
   "metadata": {},
   "source": [
    "#### Cleaning the Rating column\n",
    "- Removing null values\n",
    "- Removing the one with label 'Not rated yet'\n",
    "- Assign 5 to '5 out of 5 stars'\n",
    "- Assign 4.5 to '4.5 out of 5 stars'\n",
    "- Assign 4 to '4 out of 5 stars'"
   ]
  },
  {
   "cell_type": "code",
   "execution_count": 11,
   "id": "8e196d07",
   "metadata": {},
   "outputs": [],
   "source": [
    "#Removing the one with label 'Not rated yet'\n",
    "df = df[df['Rating'] != 'Not rated yet']"
   ]
  },
  {
   "cell_type": "code",
   "execution_count": 12,
   "id": "b1040027",
   "metadata": {},
   "outputs": [],
   "source": [
    "#Removing null values\n",
    "df = df[df['Rating'].notnull()]"
   ]
  },
  {
   "cell_type": "code",
   "execution_count": 13,
   "id": "f8ee391b",
   "metadata": {},
   "outputs": [],
   "source": [
    "df['Rating'] = df['Rating'].apply(lambda x: '5' if(x=='5 out of 5 stars') else (x))\n",
    "df['Rating'] = df['Rating'].apply(lambda x: '4.5' if(x=='4.5 out of 5 stars') else (x))\n",
    "df['Rating'] = df['Rating'].apply(lambda x: '4' if(x=='4 out of 5 stars') else (x))\n",
    "#df['Rating'] = df['Rating'].apply(lambda x: '5' if(x==19.95) else (x))\n",
    "#df['Rating'] = df['Rating'].apply(lambda x: '5' if(x==14.95) else (x))\n",
    "#converting Rating column to float\n",
    "df['Rating'] = df['Rating'].astype(float)"
   ]
  },
  {
   "cell_type": "code",
   "execution_count": 14,
   "id": "56a88b7b",
   "metadata": {},
   "outputs": [
    {
     "data": {
      "text/plain": [
       "array([5. , 4.5, 4.8, 4.6, 4.9, 4.7, 4.3, 4.2, 4.4, 4. , 4.1, 3.3, 3.9,\n",
       "       3.6, 3.8, 2.3, 3. , 1. , 3.5, 2.5, 3.2, 1.8, 3.1, 2.8, 2.7, 3.4,\n",
       "       2.2, 2.9, 3.7, 1.5])"
      ]
     },
     "execution_count": 14,
     "metadata": {},
     "output_type": "execute_result"
    }
   ],
   "source": [
    "df['Rating'].unique()"
   ]
  },
  {
   "cell_type": "markdown",
   "id": "92909c32",
   "metadata": {
    "tags": []
   },
   "source": [
    "#### Converting Audio Runtime column to int"
   ]
  },
  {
   "cell_type": "code",
   "execution_count": 15,
   "id": "37dcf5dd",
   "metadata": {
    "tags": []
   },
   "outputs": [],
   "source": [
    "#Splitting time string \n",
    "df['Audio Runtime'] = df['Audio Runtime'].apply(lambda x: x.split( ))"
   ]
  },
  {
   "cell_type": "code",
   "execution_count": 16,
   "id": "20818b97",
   "metadata": {},
   "outputs": [],
   "source": [
    "#Computing the number of minutes\n",
    "df['Audio Runtime'] = df['Audio Runtime'].apply(lambda x: int(x[0])*60 + int(x[3]) if(len(x)==5) else (int(x[0])))"
   ]
  },
  {
   "cell_type": "markdown",
   "id": "a02534a9",
   "metadata": {},
   "source": [
    "#### converting price column into in"
   ]
  },
  {
   "cell_type": "code",
   "execution_count": 17,
   "id": "7cff367f",
   "metadata": {},
   "outputs": [],
   "source": [
    "df['Price'] = df['Price'].apply(lambda x: float(x[1:]))\n",
    "#1285"
   ]
  },
  {
   "cell_type": "code",
   "execution_count": 18,
   "id": "0d7a0232",
   "metadata": {},
   "outputs": [],
   "source": [
    "df['nbr_reviews'] = df['nbr_reviews'].astype(int)"
   ]
  },
  {
   "cell_type": "code",
   "execution_count": 19,
   "id": "3b20ecee",
   "metadata": {},
   "outputs": [
    {
     "data": {
      "text/plain": [
       "Book Title       object\n",
       "Book Subtitle    object\n",
       "Book Author      object\n",
       "Book Narrator    object\n",
       "Audio Runtime     int64\n",
       "                  ...  \n",
       "Review 97        object\n",
       "Review 98        object\n",
       "Review 99        object\n",
       "Review 100       object\n",
       "nbr_reviews       int64\n",
       "Length: 111, dtype: object"
      ]
     },
     "execution_count": 19,
     "metadata": {},
     "output_type": "execute_result"
    }
   ],
   "source": [
    "df.dtypes"
   ]
  },
  {
   "cell_type": "code",
   "execution_count": 20,
   "id": "dfa6f2f5-99e8-49fa-8051-8db3438f32d1",
   "metadata": {},
   "outputs": [
    {
     "data": {
      "text/plain": [
       "Index(['Book Title', 'Book Subtitle', 'Book Author', 'Book Narrator',\n",
       "       'Audio Runtime', 'Audiobook_Type', 'Categories', 'Rating',\n",
       "       'Total No. of Ratings', 'Price',\n",
       "       ...\n",
       "       'Review 92', 'Review 93', 'Review 94', 'Review 95', 'Review 96',\n",
       "       'Review 97', 'Review 98', 'Review 99', 'Review 100', 'nbr_reviews'],\n",
       "      dtype='object', length=111)"
      ]
     },
     "execution_count": 20,
     "metadata": {},
     "output_type": "execute_result"
    }
   ],
   "source": [
    "df.columns"
   ]
  },
  {
   "cell_type": "code",
   "execution_count": 21,
   "id": "2ce8b1c0-ec26-47ec-8ac7-710c30e5c322",
   "metadata": {},
   "outputs": [
    {
     "name": "stdout",
     "output_type": "stream",
     "text": [
      "229\n"
     ]
    },
    {
     "data": {
      "text/plain": [
       "<seaborn.axisgrid.FacetGrid at 0x7fc9fe242d00>"
      ]
     },
     "execution_count": 21,
     "metadata": {},
     "output_type": "execute_result"
    },
    {
     "data": {
      "image/png": "[encoded data removed]",
      "text/plain": [
       "<Figure size 360x360 with 1 Axes>"
      ]
     },
     "metadata": {
      "needs_background": "light"
     },
     "output_type": "display_data"
    }
   ],
   "source": [
    "i=0\n",
    "for nb in df.nbr_reviews:\n",
    "    if nb == 0:\n",
    "        i=i+1\n",
    "print(i)\n",
    "\n",
    "sns.displot(df, x=\"Rating\")"
   ]
  },
  {
   "cell_type": "markdown",
   "id": "5b45be40-0b44-48d8-8ee5-c35d72b3926f",
   "metadata": {
    "tags": []
   },
   "source": [
    "## Sentiment analysis "
   ]
  },
  {
   "cell_type": "code",
   "execution_count": 22,
   "id": "775b7d5d-c900-4f57-8e2a-88c067883e3c",
   "metadata": {},
   "outputs": [],
   "source": [
    "#Function assigning polarity to a Review\n",
    "def polarity_to_text(blob):\n",
    "    if (blob.sentiment.polarity > 0.1):\n",
    "        #'Polarity is positive 😊'\n",
    "        return 'postive'\n",
    "    elif(blob.sentiment.polarity <= 0.1 and  blob.sentiment.polarity >= -0.1):\n",
    "          # 'Polarity is neutral 😐'\n",
    "        return 'neutral'\n",
    "    else:\n",
    "        # 'Polarity is negative 😡' \n",
    "        return 'negative'"
   ]
  },
  {
   "cell_type": "code",
   "execution_count": 23,
   "id": "299188d7-f48f-4312-b1e0-2d126eb1e9f2",
   "metadata": {},
   "outputs": [],
   "source": [
    "#Function assigning polarity to just a score\n",
    "def score_to_text(score):\n",
    "    if (score > 0.1):\n",
    "        #'Polarity is positive 😊'\n",
    "        return 'postive'\n",
    "    elif(score <= 0.1 and  score >= -0.1):\n",
    "          # 'Polarity is neutral 😐'\n",
    "        return 'neutral'\n",
    "    else:\n",
    "        # 'Polarity is negative 😡' \n",
    "        return 'negative'"
   ]
  },
  {
   "cell_type": "code",
   "execution_count": 24,
   "id": "5ba914e7-7bf3-4338-8148-43b1bea3b535",
   "metadata": {
    "scrolled": true
   },
   "outputs": [
    {
     "name": "stderr",
     "output_type": "stream",
     "text": [
      "/Applications/anaconda3/lib/python3.8/site-packages/IPython/core/interactiveshell.py:3364: PerformanceWarning: DataFrame is highly fragmented.  This is usually the result of calling `frame.insert` many times, which has poor performance.  Consider joining all columns at once using pd.concat(axis=1) instead.  To get a de-fragmented frame, use `newframe = frame.copy()`\n",
      "  if (await self.run_code(code, result,  async_=asy)):\n"
     ]
    }
   ],
   "source": [
    "#Adding polarity and score columns\n",
    "for i in range(1, 101):\n",
    "    df.insert(df.shape[1], 'polarity and score '+str(i),'0')\n",
    "    \n",
    "#Creating a column that will contain a list of all Reviews score\n",
    "df.insert(df.shape[1], 'all scores', '0')"
   ]
  },
  {
   "cell_type": "markdown",
   "id": "1f12d12e-3c05-4c41-8d9a-cfb337063601",
   "metadata": {},
   "source": [
    "### Computing polarity scores"
   ]
  },
  {
   "cell_type": "code",
   "execution_count": 25,
   "id": "afa1e5bf-a6f3-4d66-87a6-faa494ba0661",
   "metadata": {},
   "outputs": [],
   "source": [
    "for index, row in df.iterrows():\n",
    "    all_scores = []\n",
    "    for review_j in range(1, 100):\n",
    "        #Verifying if it's not a nan value\n",
    "        if(row['Review '+str(review_j)] == row['Review '+str(review_j)]):\n",
    "            blob = TextBlob(row['Review '+str(review_j)])\n",
    "            emotion = polarity_to_text(blob)\n",
    "            score = blob.sentiment.polarity\n",
    "            # df.set_value(i,'polarity',emotion)\n",
    "            df.at[index,'polarity and score '+str(review_j)] = [round(score, 2), emotion]\n",
    "            all_scores.append(round(score, 2))\n",
    "        else: \n",
    "            df.at[index,'polarity and score '+str(review_j)] = [0, '']\n",
    "            all_scores.append(0)\n",
    "        df.at[index,'all scores'] = all_scores "
   ]
  },
  {
   "cell_type": "markdown",
   "id": "47dc8dd0-18fc-4e91-b80d-3ac016c43bb1",
   "metadata": {},
   "source": [
    "### Computing mean score of all reviews and clustering "
   ]
  },
  {
   "cell_type": "code",
   "execution_count": 26,
   "id": "a593792a-5d38-4144-ad07-0714ade7f3a5",
   "metadata": {},
   "outputs": [],
   "source": [
    "#Creating a column mean_score\n",
    "df.insert(df.shape[1], 'mean_score', '0')"
   ]
  },
  {
   "cell_type": "code",
   "execution_count": 27,
   "id": "8abe4c38-6074-4803-b34d-1fad8e324a0b",
   "metadata": {},
   "outputs": [],
   "source": [
    "df['mean_score'] = df.apply(lambda x: round(sum(x['all scores']) / x['nbr_reviews'], 2) if x['nbr_reviews'] !=0 else x['nbr_reviews'], axis=1)"
   ]
  },
  {
   "cell_type": "code",
   "execution_count": 28,
   "id": "801953a4-5c13-4b3b-9be5-ace46a06e610",
   "metadata": {},
   "outputs": [],
   "source": [
    "#Creating a column mean_polarity\n",
    "df.insert(df.shape[1], 'mean_polarity', '')"
   ]
  },
  {
   "cell_type": "code",
   "execution_count": 29,
   "id": "3be78dac-faf9-4f08-acb2-3c689547e132",
   "metadata": {},
   "outputs": [],
   "source": [
    "df['mean_polarity'] = df['mean_score'].apply(lambda x: score_to_text(x))"
   ]
  },
  {
   "cell_type": "markdown",
   "id": "3f93809e-ec66-4158-85df-a25fb8f07b3d",
   "metadata": {
    "tags": []
   },
   "source": [
    "# Regressions"
   ]
  },
  {
   "cell_type": "code",
   "execution_count": 30,
   "id": "5b5bd5e4-817d-4b90-9e4d-35358f16902d",
   "metadata": {
    "tags": []
   },
   "outputs": [],
   "source": [
    "def evaluate(model, test_features, test_labels):\n",
    "    predictions = model.predict(test_features)\n",
    "    #accuracy = 100 - mape\n",
    "    mae = mean_absolute_error(test_labels,model.predict(test_features))\n",
    "    r2score = r2_score(test_labels, predictions)\n",
    "    print('Best Score: %s' % model.best_score_)\n",
    "    print('Best Hyperparameters: %s' % model.best_params_)\n",
    "    \n",
    "    print('\\n', 'Model Performance')\n",
    "    #print('Average Error: {:0.4f} .'.format(np.mean(errors)))\n",
    "    #print('Accuracy = {:0.2f}%.'.format(accuracy))\n",
    "    print('Mean Absolute Error =  {:0.4f} .'.format(mae))\n",
    "    print(\"Residual sum of squares: %.2f\"\n",
    "              % np.mean((model.predict(X_test) - y_test) ** 2))\n",
    "    print('Mean Absolute Error Improvement of {:0.2f}%.'.format( -(mae - mae_baseline)*100/mae_baseline))\n",
    "    print('R2 score = {:0.4f}.'.format(r2score))\n",
    "\n",
    "    return "
   ]
  },
  {
   "cell_type": "code",
   "execution_count": 31,
   "id": "9f032c7f-5ea1-4f1f-8090-822c5d324e25",
   "metadata": {
    "tags": []
   },
   "outputs": [],
   "source": [
    "def evaluateTTR(model, test_features, test_labels):\n",
    "    predictions = model.predict(test_features)\n",
    "    #accuracy = 100 - mape\n",
    "    mae = mean_absolute_error(test_labels,model.predict(test_features))\n",
    "    r2score = r2_score(test_labels, predictions)\n",
    "    #print('Best Score: %s' % model.best_score_)\n",
    "    #print('Best Hyperparameters: %s' % model.best_params_)\n",
    "    \n",
    "    print('\\n', 'Model Performance')\n",
    "    #print('Average Error: {:0.4f} .'.format(np.mean(errors)))\n",
    "    #print('Accuracy = {:0.2f}%.'.format(accuracy))\n",
    "    print('Mean Absolute Error =  {:0.4f} .'.format(mae))\n",
    "    print(\"Residual sum of squares: %.2f\"\n",
    "              % np.mean((model.predict(X_test) - y_test) ** 2))\n",
    "    print('Mean Absolute Error Improvement of {:0.2f}%.'.format( -(mae - mae_baseline)*100/mae_baseline))\n",
    "    print('R2 score = {:0.4f}.'.format(r2score))\n",
    "\n",
    "    return "
   ]
  },
  {
   "cell_type": "markdown",
   "id": "2fc57a28-51b6-4e7f-a219-4545ef5a8db8",
   "metadata": {
    "tags": []
   },
   "source": [
    "## Data cleaning for regressions"
   ]
  },
  {
   "cell_type": "code",
   "execution_count": 32,
   "id": "48ad975c-d24c-4a06-b883-d2c31954bd6f",
   "metadata": {},
   "outputs": [
    {
     "data": {
      "text/html": [
       "<div>\n",
       "<style scoped>\n",
       "    .dataframe tbody tr th:only-of-type {\n",
       "        vertical-align: middle;\n",
       "    }\n",
       "\n",
       "    .dataframe tbody tr th {\n",
       "        vertical-align: top;\n",
       "    }\n",
       "\n",
       "    .dataframe thead th {\n",
       "        text-align: right;\n",
       "    }\n",
       "</style>\n",
       "<table border=\"1\" class=\"dataframe\">\n",
       "  <thead>\n",
       "    <tr style=\"text-align: right;\">\n",
       "      <th></th>\n",
       "      <th>Book Title</th>\n",
       "      <th>Book Subtitle</th>\n",
       "      <th>Book Author</th>\n",
       "      <th>Book Narrator</th>\n",
       "      <th>Audio Runtime</th>\n",
       "      <th>Audiobook_Type</th>\n",
       "      <th>Categories</th>\n",
       "      <th>Rating</th>\n",
       "      <th>Total No. of Ratings</th>\n",
       "      <th>Price</th>\n",
       "      <th>nbr_reviews</th>\n",
       "      <th>mean_score</th>\n",
       "      <th>mean_polarity</th>\n",
       "    </tr>\n",
       "  </thead>\n",
       "  <tbody>\n",
       "    <tr>\n",
       "      <th>751</th>\n",
       "      <td>The Son of Neptune</td>\n",
       "      <td>The Heroes of Olympus, Book Two</td>\n",
       "      <td>Rick Riordan</td>\n",
       "      <td>Joshua Swanson</td>\n",
       "      <td>807</td>\n",
       "      <td>Unabridged Audiobook</td>\n",
       "      <td>Children's Audiobooks</td>\n",
       "      <td>4.8</td>\n",
       "      <td>8870.0</td>\n",
       "      <td>31.5</td>\n",
       "      <td>99</td>\n",
       "      <td>0.33</td>\n",
       "      <td>postive</td>\n",
       "    </tr>\n",
       "  </tbody>\n",
       "</table>\n",
       "</div>"
      ],
      "text/plain": [
       "             Book Title                    Book Subtitle   Book Author  \\\n",
       "751  The Son of Neptune  The Heroes of Olympus, Book Two  Rick Riordan   \n",
       "\n",
       "      Book Narrator  Audio Runtime        Audiobook_Type  \\\n",
       "751  Joshua Swanson            807  Unabridged Audiobook   \n",
       "\n",
       "                Categories  Rating  Total No. of Ratings  Price  nbr_reviews  \\\n",
       "751  Children's Audiobooks     4.8                8870.0   31.5           99   \n",
       "\n",
       "     mean_score mean_polarity  \n",
       "751        0.33       postive  "
      ]
     },
     "execution_count": 32,
     "metadata": {},
     "output_type": "execute_result"
    }
   ],
   "source": [
    "data = pd.concat([df.iloc[:, 0:10].copy(), df.nbr_reviews, df.mean_score, df.mean_polarity],axis = 1)  # To avoid the case where changing data also changes df\n",
    "\n",
    "data.sample()\n"
   ]
  },
  {
   "cell_type": "code",
   "execution_count": 33,
   "id": "b01b69d1-e5ef-4b6f-a70f-3739a26df9eb",
   "metadata": {},
   "outputs": [
    {
     "data": {
      "text/plain": [
       "(1975, 2810)"
      ]
     },
     "execution_count": 33,
     "metadata": {},
     "output_type": "execute_result"
    }
   ],
   "source": [
    "data = pd.get_dummies(data = data, columns = ['Book Author', 'Book Narrator', 'Audiobook_Type', 'Categories','mean_score','mean_polarity'])\n",
    "features = list(set(list(data.columns)) - set([\"Rating\", \"Book Subtitle\", \"Book Title\"]))\n",
    "X = data.loc[:, features]\n",
    "Y = data.loc[:, 'Rating']\n",
    "#Don't know how to use Book Subtitle in a usefull way - NLP stuff\n",
    "data.shape"
   ]
  },
  {
   "cell_type": "code",
   "execution_count": 34,
   "id": "84107c65-5b8b-4943-bd36-6da1310a6e9f",
   "metadata": {
    "tags": []
   },
   "outputs": [
    {
     "data": {
      "text/plain": [
       "<seaborn.axisgrid.FacetGrid at 0x7fc9ffe1bbb0>"
      ]
     },
     "execution_count": 34,
     "metadata": {},
     "output_type": "execute_result"
    },
    {
     "data": {
      "image/png": "[encoded data removed]",
      "text/plain": [
       "<Figure size 360x360 with 1 Axes>"
      ]
     },
     "metadata": {
      "needs_background": "light"
     },
     "output_type": "display_data"
    }
   ],
   "source": [
    "sns.displot(data, x=\"Rating\")\n",
    "#Observe a few outliers which are stopping me from creating a model."
   ]
  },
  {
   "cell_type": "code",
   "execution_count": 35,
   "id": "3f6847ce-e5cc-40b4-9d7c-be099064a557",
   "metadata": {
    "tags": []
   },
   "outputs": [],
   "source": [
    "#having an issue with singular target values on the models. Grouping for value lower then 2, lower than 3\n",
    "for value in Y:\n",
    "    if value <=1:\n",
    "        Y.replace([value],1)\n",
    "    if 1<value<=2 :\n",
    "        Y = Y.replace([value],2)\n",
    "    if 2<value <= 2.5:\n",
    "        Y = Y.replace([value],2.5)\n",
    "    if 2.5<value <= 3:\n",
    "        Y = Y.replace([value],3)\n",
    "    if 3<value <=3.5:\n",
    "        Y = Y.replace([value],3.5)\n",
    "    if 3.5< value <= 3.75:\n",
    "        Y = Y.replace([value],3.75)"
   ]
  },
  {
   "cell_type": "code",
   "execution_count": 36,
   "id": "94fdc441-a64e-45c0-a233-4139750d4b2d",
   "metadata": {
    "tags": []
   },
   "outputs": [
    {
     "data": {
      "text/plain": [
       "<seaborn.axisgrid.FacetGrid at 0x7fc9fe3076d0>"
      ]
     },
     "execution_count": 36,
     "metadata": {},
     "output_type": "execute_result"
    },
    {
     "data": {
      "image/png": "[encoded data removed]",
      "text/plain": [
       "<Figure size 360x360 with 1 Axes>"
      ]
     },
     "metadata": {
      "needs_background": "light"
     },
     "output_type": "display_data"
    }
   ],
   "source": [
    "sns.displot(Y)\n",
    "#Sanity check that previous code worked and we don't have any singular outlier"
   ]
  },
  {
   "cell_type": "code",
   "execution_count": 37,
   "id": "de69f65a-c532-438a-a7e5-d1baa17e82e3",
   "metadata": {
    "tags": []
   },
   "outputs": [
    {
     "data": {
      "text/plain": [
       "<seaborn.axisgrid.FacetGrid at 0x7fca0072ea90>"
      ]
     },
     "execution_count": 37,
     "metadata": {},
     "output_type": "execute_result"
    },
    {
     "data": {
      "image/png": "[encoded data removed]",
      "text/plain": [
       "<Figure size 360x360 with 1 Axes>"
      ]
     },
     "metadata": {
      "needs_background": "light"
     },
     "output_type": "display_data"
    }
   ],
   "source": [
    "#Changing distribution as data is very skewed\n",
    "Y_trans = quantile_transform(Y.to_frame(), \n",
    "                             n_quantiles=500, \n",
    "                             output_distribution='normal', \n",
    "                             copy=True\n",
    "                            ).squeeze()\n",
    "sns.displot(Y_trans)"
   ]
  },
  {
   "cell_type": "code",
   "execution_count": 38,
   "id": "85cf8aba-f46d-44f5-a20b-8a0e9cef7f8c",
   "metadata": {
    "tags": []
   },
   "outputs": [],
   "source": [
    "X_train, X_test, y_train, y_test = train_test_split(X, Y, test_size=0.20, stratify=Y, random_state = SEED)\n",
    "#Could not use stratify due to low counts of some variables"
   ]
  },
  {
   "cell_type": "code",
   "execution_count": 39,
   "id": "4ec4fac2-9e6c-41f8-bb0f-f919541509fe",
   "metadata": {
    "tags": []
   },
   "outputs": [],
   "source": [
    "#lab_enc = preprocessing.LabelEncoder()\n",
    "#for name in X.columns:\n",
    "#    X[name] = lab_enc.fit_transform(X[name])\n",
    "#Y = lab_enc.fit_transform(Y)"
   ]
  },
  {
   "cell_type": "code",
   "execution_count": 40,
   "id": "fef5b047-311d-495c-aae3-3c9bba8b50a6",
   "metadata": {
    "tags": []
   },
   "outputs": [],
   "source": [
    "Nb_cv = 3"
   ]
  },
  {
   "cell_type": "code",
   "execution_count": 41,
   "id": "e2d8b19e-cc9d-4c45-a86f-883797468690",
   "metadata": {
    "tags": []
   },
   "outputs": [],
   "source": [
    "# define standard scaler\n",
    "scaler = StandardScaler()"
   ]
  },
  {
   "cell_type": "markdown",
   "id": "92fd87a2-6de6-4fee-b42a-df76bf9de63a",
   "metadata": {
    "tags": []
   },
   "source": [
    "## Baseline Model"
   ]
  },
  {
   "cell_type": "code",
   "execution_count": 42,
   "id": "c88751ad-061f-45ac-a936-03a7996a4de0",
   "metadata": {
    "tags": []
   },
   "outputs": [
    {
     "name": "stdout",
     "output_type": "stream",
     "text": [
      "Average rating 4.59\n",
      "Baseline mean absolute error: 0.2439.\n",
      "Baseline r2 score: -0.0.\n"
     ]
    }
   ],
   "source": [
    "y_pred = [np.mean(y_train)]*len(y_test)\n",
    "print(\"Average rating\", np.round(np.mean(y_train), decimals = 2))\n",
    "mae_baseline = mean_absolute_error(y_test, y_pred)\n",
    "print(\"Baseline mean absolute error: {:0.4f}.\".format(mae_baseline))\n",
    "r2_baseline = r2_score(y_test, y_pred)\n",
    "print(\"Baseline r2 score: {:0.1f}.\".format(r2_baseline))"
   ]
  },
  {
   "cell_type": "markdown",
   "id": "2a59b93c-663f-446b-9409-5716fb196c4d",
   "metadata": {
    "tags": []
   },
   "source": [
    "## Linear Model"
   ]
  },
  {
   "cell_type": "code",
   "execution_count": 43,
   "id": "a9732f1a-5409-4096-b78c-a41a045b9488",
   "metadata": {
    "tags": []
   },
   "outputs": [],
   "source": [
    "estimators = []\n",
    "estimators.append(('standardize', StandardScaler()))         # tell it to standardize features\n",
    "estimators.append(('Linear', LinearRegression()))  # tell it to use a linear reg model\n",
    "model = Pipeline(estimators) \n",
    "space = {'Linear__fit_intercept':[True,False], \n",
    "              'Linear__copy_X':[True, False],\n",
    "             'Linear__positive': [True, False]}\n",
    "search_lin_reg = GridSearchCV(model,space, cv=Nb_cv, scoring='r2')\n"
   ]
  },
  {
   "cell_type": "code",
   "execution_count": 44,
   "id": "d063cad7-4aad-4892-93e2-fe217ab48f73",
   "metadata": {
    "tags": []
   },
   "outputs": [],
   "source": [
    "# Finding the best model\n",
    "lin_reg_result = search_lin_reg.fit(X_train, y_train)"
   ]
  },
  {
   "cell_type": "code",
   "execution_count": 45,
   "id": "af40cea8-7e09-4794-a185-6a631da1cbeb",
   "metadata": {
    "tags": []
   },
   "outputs": [
    {
     "name": "stdout",
     "output_type": "stream",
     "text": [
      "Best Score: -1.0209761901303733e+26\n",
      "Best Hyperparameters: {'Linear__copy_X': True, 'Linear__fit_intercept': True, 'Linear__positive': True}\n",
      "\n",
      " Model Performance\n",
      "Mean Absolute Error =  2.3966 .\n",
      "Residual sum of squares: 8.74\n",
      "Mean Absolute Error Improvement of -882.68%.\n",
      "R2 score = -57.5829.\n"
     ]
    }
   ],
   "source": [
    "# summarize result\n",
    "evaluate(lin_reg_result, X_test, y_test)"
   ]
  },
  {
   "cell_type": "code",
   "execution_count": 46,
   "id": "c310c605-e064-475e-88e8-4bf586ffea6b",
   "metadata": {
    "tags": []
   },
   "outputs": [],
   "source": [
    "# Testing!\n",
    "model_trans_lin = TransformedTargetRegressor(\n",
    "    regressor=search_lin_reg,\n",
    "    transformer=QuantileTransformer(n_quantiles=500, output_distribution=\"normal\"),\n",
    ")\n",
    "test_model_lin = model_trans_lin.fit(X_train, y_train)\n",
    "y_pred = test_model_lin.predict(X_test)\n"
   ]
  },
  {
   "cell_type": "code",
   "execution_count": 47,
   "id": "3d3be60c-305c-4640-9465-bef58a292440",
   "metadata": {
    "tags": []
   },
   "outputs": [
    {
     "name": "stdout",
     "output_type": "stream",
     "text": [
      "\n",
      " Model Performance\n",
      "Mean Absolute Error =  2.3484 .\n",
      "Residual sum of squares: 8.27\n",
      "Mean Absolute Error Improvement of -862.92%.\n",
      "R2 score = -54.4389.\n"
     ]
    }
   ],
   "source": [
    "# summarize result\n",
    "evaluateTTR(test_model_lin, X_test, y_test)"
   ]
  },
  {
   "cell_type": "markdown",
   "id": "db3209b9-b2dc-49aa-a5a7-faf794ff2b52",
   "metadata": {
    "tags": []
   },
   "source": [
    "## Ridge Model"
   ]
  },
  {
   "cell_type": "code",
   "execution_count": 48,
   "id": "b07e0862-d0bb-49d6-9e4f-c09c7de48c47",
   "metadata": {
    "tags": []
   },
   "outputs": [],
   "source": [
    "# define model\n",
    "estimators = []\n",
    "estimators.append(('standardize', StandardScaler()))         # tell it to standardize features\n",
    "estimators.append(('Ridge', Ridge()))  # tell it to use a ridge model\n",
    "model_ridge = Pipeline(estimators) \n",
    "# define search space\n",
    "space = dict()\n",
    "space['Ridge__solver'] = ['svd', 'cholesky', 'lsqr', 'sag']\n",
    "space['Ridge__alpha'] = [1e-5, 1e-4, 1e-3, 1e-2, 1e-1, 1, 10, 100]\n",
    "space['Ridge__fit_intercept'] = [True, False]\n",
    "# define search\n",
    "search_ridge = GridSearchCV(model_ridge, space, scoring='r2', n_jobs=-1, cv=Nb_cv)\n",
    "#Chose what scoring we want to use\n"
   ]
  },
  {
   "cell_type": "code",
   "execution_count": 49,
   "id": "5a2ae37e-2a9b-4f70-b415-1addfbad6b3e",
   "metadata": {
    "tags": []
   },
   "outputs": [
    {
     "name": "stdout",
     "output_type": "stream",
     "text": [
      "Best Score: 0.1711510038910272\n",
      "Best Hyperparameters: {'Ridge__alpha': 100, 'Ridge__fit_intercept': True, 'Ridge__solver': 'sag'}\n",
      "\n",
      " Model Performance\n",
      "Mean Absolute Error =  0.2221 .\n",
      "Residual sum of squares: 0.14\n",
      "Mean Absolute Error Improvement of 8.94%.\n",
      "R2 score = 0.0950.\n"
     ]
    }
   ],
   "source": [
    "# execute search\n",
    "Ridge_result = search_ridge.fit(X_train, y_train)\n",
    "# summarize result\n",
    "evaluate(Ridge_result, X_test, y_test)"
   ]
  },
  {
   "cell_type": "code",
   "execution_count": 50,
   "id": "44605318-2180-477b-b66b-e759af6b230f",
   "metadata": {
    "collapsed": true,
    "jupyter": {
     "outputs_hidden": true
    },
    "tags": []
   },
   "outputs": [
    {
     "ename": "KeyboardInterrupt",
     "evalue": "",
     "output_type": "error",
     "traceback": [
      "\u001b[0;31m---------------------------------------------------------------------------\u001b[0m",
      "\u001b[0;31mKeyboardInterrupt\u001b[0m                         Traceback (most recent call last)",
      "\u001b[0;32m/Applications/anaconda3/lib/python3.8/site-packages/joblib/parallel.py\u001b[0m in \u001b[0;36mretrieve\u001b[0;34m(self)\u001b[0m\n\u001b[1;32m    934\u001b[0m                 \u001b[0;32mif\u001b[0m \u001b[0mgetattr\u001b[0m\u001b[0;34m(\u001b[0m\u001b[0mself\u001b[0m\u001b[0;34m.\u001b[0m\u001b[0m_backend\u001b[0m\u001b[0;34m,\u001b[0m \u001b[0;34m'supports_timeout'\u001b[0m\u001b[0;34m,\u001b[0m \u001b[0;32mFalse\u001b[0m\u001b[0;34m)\u001b[0m\u001b[0;34m:\u001b[0m\u001b[0;34m\u001b[0m\u001b[0;34m\u001b[0m\u001b[0m\n\u001b[0;32m--> 935\u001b[0;31m                     \u001b[0mself\u001b[0m\u001b[0;34m.\u001b[0m\u001b[0m_output\u001b[0m\u001b[0;34m.\u001b[0m\u001b[0mextend\u001b[0m\u001b[0;34m(\u001b[0m\u001b[0mjob\u001b[0m\u001b[0;34m.\u001b[0m\u001b[0mget\u001b[0m\u001b[0;34m(\u001b[0m\u001b[0mtimeout\u001b[0m\u001b[0;34m=\u001b[0m\u001b[0mself\u001b[0m\u001b[0;34m.\u001b[0m\u001b[0mtimeout\u001b[0m\u001b[0;34m)\u001b[0m\u001b[0;34m)\u001b[0m\u001b[0;34m\u001b[0m\u001b[0;34m\u001b[0m\u001b[0m\n\u001b[0m\u001b[1;32m    936\u001b[0m                 \u001b[0;32melse\u001b[0m\u001b[0;34m:\u001b[0m\u001b[0;34m\u001b[0m\u001b[0;34m\u001b[0m\u001b[0m\n",
      "\u001b[0;32m/Applications/anaconda3/lib/python3.8/site-packages/joblib/_parallel_backends.py\u001b[0m in \u001b[0;36mwrap_future_result\u001b[0;34m(future, timeout)\u001b[0m\n\u001b[1;32m    541\u001b[0m         \u001b[0;32mtry\u001b[0m\u001b[0;34m:\u001b[0m\u001b[0;34m\u001b[0m\u001b[0;34m\u001b[0m\u001b[0m\n\u001b[0;32m--> 542\u001b[0;31m             \u001b[0;32mreturn\u001b[0m \u001b[0mfuture\u001b[0m\u001b[0;34m.\u001b[0m\u001b[0mresult\u001b[0m\u001b[0;34m(\u001b[0m\u001b[0mtimeout\u001b[0m\u001b[0;34m=\u001b[0m\u001b[0mtimeout\u001b[0m\u001b[0;34m)\u001b[0m\u001b[0;34m\u001b[0m\u001b[0;34m\u001b[0m\u001b[0m\n\u001b[0m\u001b[1;32m    543\u001b[0m         \u001b[0;32mexcept\u001b[0m \u001b[0mCfTimeoutError\u001b[0m \u001b[0;32mas\u001b[0m \u001b[0me\u001b[0m\u001b[0;34m:\u001b[0m\u001b[0;34m\u001b[0m\u001b[0;34m\u001b[0m\u001b[0m\n",
      "\u001b[0;32m/Applications/anaconda3/lib/python3.8/concurrent/futures/_base.py\u001b[0m in \u001b[0;36mresult\u001b[0;34m(self, timeout)\u001b[0m\n\u001b[1;32m    433\u001b[0m \u001b[0;34m\u001b[0m\u001b[0m\n\u001b[0;32m--> 434\u001b[0;31m             \u001b[0mself\u001b[0m\u001b[0;34m.\u001b[0m\u001b[0m_condition\u001b[0m\u001b[0;34m.\u001b[0m\u001b[0mwait\u001b[0m\u001b[0;34m(\u001b[0m\u001b[0mtimeout\u001b[0m\u001b[0;34m)\u001b[0m\u001b[0;34m\u001b[0m\u001b[0;34m\u001b[0m\u001b[0m\n\u001b[0m\u001b[1;32m    435\u001b[0m \u001b[0;34m\u001b[0m\u001b[0m\n",
      "\u001b[0;32m/Applications/anaconda3/lib/python3.8/threading.py\u001b[0m in \u001b[0;36mwait\u001b[0;34m(self, timeout)\u001b[0m\n\u001b[1;32m    301\u001b[0m             \u001b[0;32mif\u001b[0m \u001b[0mtimeout\u001b[0m \u001b[0;32mis\u001b[0m \u001b[0;32mNone\u001b[0m\u001b[0;34m:\u001b[0m\u001b[0;34m\u001b[0m\u001b[0;34m\u001b[0m\u001b[0m\n\u001b[0;32m--> 302\u001b[0;31m                 \u001b[0mwaiter\u001b[0m\u001b[0;34m.\u001b[0m\u001b[0macquire\u001b[0m\u001b[0;34m(\u001b[0m\u001b[0;34m)\u001b[0m\u001b[0;34m\u001b[0m\u001b[0;34m\u001b[0m\u001b[0m\n\u001b[0m\u001b[1;32m    303\u001b[0m                 \u001b[0mgotit\u001b[0m \u001b[0;34m=\u001b[0m \u001b[0;32mTrue\u001b[0m\u001b[0;34m\u001b[0m\u001b[0;34m\u001b[0m\u001b[0m\n",
      "\u001b[0;31mKeyboardInterrupt\u001b[0m: ",
      "\nDuring handling of the above exception, another exception occurred:\n",
      "\u001b[0;31mKeyboardInterrupt\u001b[0m                         Traceback (most recent call last)",
      "\u001b[0;32m<ipython-input-50-419b26d35770>\u001b[0m in \u001b[0;36m<module>\u001b[0;34m\u001b[0m\n\u001b[1;32m      4\u001b[0m     \u001b[0mtransformer\u001b[0m\u001b[0;34m=\u001b[0m\u001b[0mQuantileTransformer\u001b[0m\u001b[0;34m(\u001b[0m\u001b[0mn_quantiles\u001b[0m\u001b[0;34m=\u001b[0m\u001b[0;36m500\u001b[0m\u001b[0;34m,\u001b[0m \u001b[0moutput_distribution\u001b[0m\u001b[0;34m=\u001b[0m\u001b[0;34m\"normal\"\u001b[0m\u001b[0;34m)\u001b[0m\u001b[0;34m,\u001b[0m\u001b[0;34m\u001b[0m\u001b[0;34m\u001b[0m\u001b[0m\n\u001b[1;32m      5\u001b[0m )\n\u001b[0;32m----> 6\u001b[0;31m \u001b[0mtest_model_ridge\u001b[0m \u001b[0;34m=\u001b[0m \u001b[0mmodel_trans\u001b[0m\u001b[0;34m.\u001b[0m\u001b[0mfit\u001b[0m\u001b[0;34m(\u001b[0m\u001b[0mX_train\u001b[0m\u001b[0;34m,\u001b[0m \u001b[0my_train\u001b[0m\u001b[0;34m)\u001b[0m\u001b[0;34m\u001b[0m\u001b[0;34m\u001b[0m\u001b[0m\n\u001b[0m\u001b[1;32m      7\u001b[0m \u001b[0my_pred\u001b[0m \u001b[0;34m=\u001b[0m \u001b[0mtest_model_ridge\u001b[0m\u001b[0;34m.\u001b[0m\u001b[0mpredict\u001b[0m\u001b[0;34m(\u001b[0m\u001b[0mX_test\u001b[0m\u001b[0;34m)\u001b[0m\u001b[0;34m\u001b[0m\u001b[0;34m\u001b[0m\u001b[0m\n",
      "\u001b[0;32m/Applications/anaconda3/lib/python3.8/site-packages/sklearn/compose/_target.py\u001b[0m in \u001b[0;36mfit\u001b[0;34m(self, X, y, **fit_params)\u001b[0m\n\u001b[1;32m    244\u001b[0m             \u001b[0mself\u001b[0m\u001b[0;34m.\u001b[0m\u001b[0mregressor_\u001b[0m \u001b[0;34m=\u001b[0m \u001b[0mclone\u001b[0m\u001b[0;34m(\u001b[0m\u001b[0mself\u001b[0m\u001b[0;34m.\u001b[0m\u001b[0mregressor\u001b[0m\u001b[0;34m)\u001b[0m\u001b[0;34m\u001b[0m\u001b[0;34m\u001b[0m\u001b[0m\n\u001b[1;32m    245\u001b[0m \u001b[0;34m\u001b[0m\u001b[0m\n\u001b[0;32m--> 246\u001b[0;31m         \u001b[0mself\u001b[0m\u001b[0;34m.\u001b[0m\u001b[0mregressor_\u001b[0m\u001b[0;34m.\u001b[0m\u001b[0mfit\u001b[0m\u001b[0;34m(\u001b[0m\u001b[0mX\u001b[0m\u001b[0;34m,\u001b[0m \u001b[0my_trans\u001b[0m\u001b[0;34m,\u001b[0m \u001b[0;34m**\u001b[0m\u001b[0mfit_params\u001b[0m\u001b[0;34m)\u001b[0m\u001b[0;34m\u001b[0m\u001b[0;34m\u001b[0m\u001b[0m\n\u001b[0m\u001b[1;32m    247\u001b[0m \u001b[0;34m\u001b[0m\u001b[0m\n\u001b[1;32m    248\u001b[0m         \u001b[0;32mif\u001b[0m \u001b[0mhasattr\u001b[0m\u001b[0;34m(\u001b[0m\u001b[0mself\u001b[0m\u001b[0;34m.\u001b[0m\u001b[0mregressor_\u001b[0m\u001b[0;34m,\u001b[0m \u001b[0;34m\"feature_names_in_\"\u001b[0m\u001b[0;34m)\u001b[0m\u001b[0;34m:\u001b[0m\u001b[0;34m\u001b[0m\u001b[0;34m\u001b[0m\u001b[0m\n",
      "\u001b[0;32m/Applications/anaconda3/lib/python3.8/site-packages/sklearn/model_selection/_search.py\u001b[0m in \u001b[0;36mfit\u001b[0;34m(self, X, y, groups, **fit_params)\u001b[0m\n\u001b[1;32m    889\u001b[0m                 \u001b[0;32mreturn\u001b[0m \u001b[0mresults\u001b[0m\u001b[0;34m\u001b[0m\u001b[0;34m\u001b[0m\u001b[0m\n\u001b[1;32m    890\u001b[0m \u001b[0;34m\u001b[0m\u001b[0m\n\u001b[0;32m--> 891\u001b[0;31m             \u001b[0mself\u001b[0m\u001b[0;34m.\u001b[0m\u001b[0m_run_search\u001b[0m\u001b[0;34m(\u001b[0m\u001b[0mevaluate_candidates\u001b[0m\u001b[0;34m)\u001b[0m\u001b[0;34m\u001b[0m\u001b[0;34m\u001b[0m\u001b[0m\n\u001b[0m\u001b[1;32m    892\u001b[0m \u001b[0;34m\u001b[0m\u001b[0m\n\u001b[1;32m    893\u001b[0m             \u001b[0;31m# multimetric is determined here because in the case of a callable\u001b[0m\u001b[0;34m\u001b[0m\u001b[0;34m\u001b[0m\u001b[0;34m\u001b[0m\u001b[0m\n",
      "\u001b[0;32m/Applications/anaconda3/lib/python3.8/site-packages/sklearn/model_selection/_search.py\u001b[0m in \u001b[0;36m_run_search\u001b[0;34m(self, evaluate_candidates)\u001b[0m\n\u001b[1;32m   1390\u001b[0m     \u001b[0;32mdef\u001b[0m \u001b[0m_run_search\u001b[0m\u001b[0;34m(\u001b[0m\u001b[0mself\u001b[0m\u001b[0;34m,\u001b[0m \u001b[0mevaluate_candidates\u001b[0m\u001b[0;34m)\u001b[0m\u001b[0;34m:\u001b[0m\u001b[0;34m\u001b[0m\u001b[0;34m\u001b[0m\u001b[0m\n\u001b[1;32m   1391\u001b[0m         \u001b[0;34m\"\"\"Search all candidates in param_grid\"\"\"\u001b[0m\u001b[0;34m\u001b[0m\u001b[0;34m\u001b[0m\u001b[0m\n\u001b[0;32m-> 1392\u001b[0;31m         \u001b[0mevaluate_candidates\u001b[0m\u001b[0;34m(\u001b[0m\u001b[0mParameterGrid\u001b[0m\u001b[0;34m(\u001b[0m\u001b[0mself\u001b[0m\u001b[0;34m.\u001b[0m\u001b[0mparam_grid\u001b[0m\u001b[0;34m)\u001b[0m\u001b[0;34m)\u001b[0m\u001b[0;34m\u001b[0m\u001b[0;34m\u001b[0m\u001b[0m\n\u001b[0m\u001b[1;32m   1393\u001b[0m \u001b[0;34m\u001b[0m\u001b[0m\n\u001b[1;32m   1394\u001b[0m \u001b[0;34m\u001b[0m\u001b[0m\n",
      "\u001b[0;32m/Applications/anaconda3/lib/python3.8/site-packages/sklearn/model_selection/_search.py\u001b[0m in \u001b[0;36mevaluate_candidates\u001b[0;34m(candidate_params, cv, more_results)\u001b[0m\n\u001b[1;32m    836\u001b[0m                     )\n\u001b[1;32m    837\u001b[0m \u001b[0;34m\u001b[0m\u001b[0m\n\u001b[0;32m--> 838\u001b[0;31m                 out = parallel(\n\u001b[0m\u001b[1;32m    839\u001b[0m                     delayed(_fit_and_score)(\n\u001b[1;32m    840\u001b[0m                         \u001b[0mclone\u001b[0m\u001b[0;34m(\u001b[0m\u001b[0mbase_estimator\u001b[0m\u001b[0;34m)\u001b[0m\u001b[0;34m,\u001b[0m\u001b[0;34m\u001b[0m\u001b[0;34m\u001b[0m\u001b[0m\n",
      "\u001b[0;32m/Applications/anaconda3/lib/python3.8/site-packages/joblib/parallel.py\u001b[0m in \u001b[0;36m__call__\u001b[0;34m(self, iterable)\u001b[0m\n\u001b[1;32m   1054\u001b[0m \u001b[0;34m\u001b[0m\u001b[0m\n\u001b[1;32m   1055\u001b[0m             \u001b[0;32mwith\u001b[0m \u001b[0mself\u001b[0m\u001b[0;34m.\u001b[0m\u001b[0m_backend\u001b[0m\u001b[0;34m.\u001b[0m\u001b[0mretrieval_context\u001b[0m\u001b[0;34m(\u001b[0m\u001b[0;34m)\u001b[0m\u001b[0;34m:\u001b[0m\u001b[0;34m\u001b[0m\u001b[0;34m\u001b[0m\u001b[0m\n\u001b[0;32m-> 1056\u001b[0;31m                 \u001b[0mself\u001b[0m\u001b[0;34m.\u001b[0m\u001b[0mretrieve\u001b[0m\u001b[0;34m(\u001b[0m\u001b[0;34m)\u001b[0m\u001b[0;34m\u001b[0m\u001b[0;34m\u001b[0m\u001b[0m\n\u001b[0m\u001b[1;32m   1057\u001b[0m             \u001b[0;31m# Make sure that we get a last message telling us we are done\u001b[0m\u001b[0;34m\u001b[0m\u001b[0;34m\u001b[0m\u001b[0;34m\u001b[0m\u001b[0m\n\u001b[1;32m   1058\u001b[0m             \u001b[0melapsed_time\u001b[0m \u001b[0;34m=\u001b[0m \u001b[0mtime\u001b[0m\u001b[0;34m.\u001b[0m\u001b[0mtime\u001b[0m\u001b[0;34m(\u001b[0m\u001b[0;34m)\u001b[0m \u001b[0;34m-\u001b[0m \u001b[0mself\u001b[0m\u001b[0;34m.\u001b[0m\u001b[0m_start_time\u001b[0m\u001b[0;34m\u001b[0m\u001b[0;34m\u001b[0m\u001b[0m\n",
      "\u001b[0;32m/Applications/anaconda3/lib/python3.8/site-packages/joblib/parallel.py\u001b[0m in \u001b[0;36mretrieve\u001b[0;34m(self)\u001b[0m\n\u001b[1;32m    955\u001b[0m                     \u001b[0;31m# scheduling.\u001b[0m\u001b[0;34m\u001b[0m\u001b[0;34m\u001b[0m\u001b[0;34m\u001b[0m\u001b[0m\n\u001b[1;32m    956\u001b[0m                     \u001b[0mensure_ready\u001b[0m \u001b[0;34m=\u001b[0m \u001b[0mself\u001b[0m\u001b[0;34m.\u001b[0m\u001b[0m_managed_backend\u001b[0m\u001b[0;34m\u001b[0m\u001b[0;34m\u001b[0m\u001b[0m\n\u001b[0;32m--> 957\u001b[0;31m                     \u001b[0mbackend\u001b[0m\u001b[0;34m.\u001b[0m\u001b[0mabort_everything\u001b[0m\u001b[0;34m(\u001b[0m\u001b[0mensure_ready\u001b[0m\u001b[0;34m=\u001b[0m\u001b[0mensure_ready\u001b[0m\u001b[0;34m)\u001b[0m\u001b[0;34m\u001b[0m\u001b[0;34m\u001b[0m\u001b[0m\n\u001b[0m\u001b[1;32m    958\u001b[0m                 \u001b[0;32mraise\u001b[0m\u001b[0;34m\u001b[0m\u001b[0;34m\u001b[0m\u001b[0m\n\u001b[1;32m    959\u001b[0m \u001b[0;34m\u001b[0m\u001b[0m\n",
      "\u001b[0;32m/Applications/anaconda3/lib/python3.8/site-packages/joblib/_parallel_backends.py\u001b[0m in \u001b[0;36mabort_everything\u001b[0;34m(self, ensure_ready)\u001b[0m\n\u001b[1;32m    559\u001b[0m         \"\"\"Shutdown the workers and restart a new one with the same parameters\n\u001b[1;32m    560\u001b[0m         \"\"\"\n\u001b[0;32m--> 561\u001b[0;31m         \u001b[0mself\u001b[0m\u001b[0;34m.\u001b[0m\u001b[0m_workers\u001b[0m\u001b[0;34m.\u001b[0m\u001b[0mterminate\u001b[0m\u001b[0;34m(\u001b[0m\u001b[0mkill_workers\u001b[0m\u001b[0;34m=\u001b[0m\u001b[0;32mTrue\u001b[0m\u001b[0;34m)\u001b[0m\u001b[0;34m\u001b[0m\u001b[0;34m\u001b[0m\u001b[0m\n\u001b[0m\u001b[1;32m    562\u001b[0m         \u001b[0mself\u001b[0m\u001b[0;34m.\u001b[0m\u001b[0m_workers\u001b[0m \u001b[0;34m=\u001b[0m \u001b[0;32mNone\u001b[0m\u001b[0;34m\u001b[0m\u001b[0;34m\u001b[0m\u001b[0m\n\u001b[1;32m    563\u001b[0m \u001b[0;34m\u001b[0m\u001b[0m\n",
      "\u001b[0;32m/Applications/anaconda3/lib/python3.8/site-packages/joblib/executor.py\u001b[0m in \u001b[0;36mterminate\u001b[0;34m(self, kill_workers)\u001b[0m\n\u001b[1;32m     72\u001b[0m \u001b[0;34m\u001b[0m\u001b[0m\n\u001b[1;32m     73\u001b[0m     \u001b[0;32mdef\u001b[0m \u001b[0mterminate\u001b[0m\u001b[0;34m(\u001b[0m\u001b[0mself\u001b[0m\u001b[0;34m,\u001b[0m \u001b[0mkill_workers\u001b[0m\u001b[0;34m=\u001b[0m\u001b[0;32mFalse\u001b[0m\u001b[0;34m)\u001b[0m\u001b[0;34m:\u001b[0m\u001b[0;34m\u001b[0m\u001b[0;34m\u001b[0m\u001b[0m\n\u001b[0;32m---> 74\u001b[0;31m         \u001b[0mself\u001b[0m\u001b[0;34m.\u001b[0m\u001b[0mshutdown\u001b[0m\u001b[0;34m(\u001b[0m\u001b[0mkill_workers\u001b[0m\u001b[0;34m=\u001b[0m\u001b[0mkill_workers\u001b[0m\u001b[0;34m)\u001b[0m\u001b[0;34m\u001b[0m\u001b[0;34m\u001b[0m\u001b[0m\n\u001b[0m\u001b[1;32m     75\u001b[0m         \u001b[0;32mif\u001b[0m \u001b[0mkill_workers\u001b[0m\u001b[0;34m:\u001b[0m\u001b[0;34m\u001b[0m\u001b[0;34m\u001b[0m\u001b[0m\n\u001b[1;32m     76\u001b[0m             \u001b[0;31m# When workers are killed in such a brutal manner, they cannot\u001b[0m\u001b[0;34m\u001b[0m\u001b[0;34m\u001b[0m\u001b[0;34m\u001b[0m\u001b[0m\n",
      "\u001b[0;32m/Applications/anaconda3/lib/python3.8/site-packages/joblib/externals/loky/process_executor.py\u001b[0m in \u001b[0;36mshutdown\u001b[0;34m(self, wait, kill_workers)\u001b[0m\n\u001b[1;32m   1183\u001b[0m \u001b[0;34m\u001b[0m\u001b[0m\n\u001b[1;32m   1184\u001b[0m         \u001b[0;32mif\u001b[0m \u001b[0mexecutor_manager_thread\u001b[0m \u001b[0;32mis\u001b[0m \u001b[0;32mnot\u001b[0m \u001b[0;32mNone\u001b[0m \u001b[0;32mand\u001b[0m \u001b[0mwait\u001b[0m\u001b[0;34m:\u001b[0m\u001b[0;34m\u001b[0m\u001b[0;34m\u001b[0m\u001b[0m\n\u001b[0;32m-> 1185\u001b[0;31m             \u001b[0mexecutor_manager_thread\u001b[0m\u001b[0;34m.\u001b[0m\u001b[0mjoin\u001b[0m\u001b[0;34m(\u001b[0m\u001b[0;34m)\u001b[0m\u001b[0;34m\u001b[0m\u001b[0;34m\u001b[0m\u001b[0m\n\u001b[0m\u001b[1;32m   1186\u001b[0m \u001b[0;34m\u001b[0m\u001b[0m\n\u001b[1;32m   1187\u001b[0m         \u001b[0;31m# To reduce the risk of opening too many files, remove references to\u001b[0m\u001b[0;34m\u001b[0m\u001b[0;34m\u001b[0m\u001b[0;34m\u001b[0m\u001b[0m\n",
      "\u001b[0;32m/Applications/anaconda3/lib/python3.8/threading.py\u001b[0m in \u001b[0;36mjoin\u001b[0;34m(self, timeout)\u001b[0m\n\u001b[1;32m   1009\u001b[0m \u001b[0;34m\u001b[0m\u001b[0m\n\u001b[1;32m   1010\u001b[0m         \u001b[0;32mif\u001b[0m \u001b[0mtimeout\u001b[0m \u001b[0;32mis\u001b[0m \u001b[0;32mNone\u001b[0m\u001b[0;34m:\u001b[0m\u001b[0;34m\u001b[0m\u001b[0;34m\u001b[0m\u001b[0m\n\u001b[0;32m-> 1011\u001b[0;31m             \u001b[0mself\u001b[0m\u001b[0;34m.\u001b[0m\u001b[0m_wait_for_tstate_lock\u001b[0m\u001b[0;34m(\u001b[0m\u001b[0;34m)\u001b[0m\u001b[0;34m\u001b[0m\u001b[0;34m\u001b[0m\u001b[0m\n\u001b[0m\u001b[1;32m   1012\u001b[0m         \u001b[0;32melse\u001b[0m\u001b[0;34m:\u001b[0m\u001b[0;34m\u001b[0m\u001b[0;34m\u001b[0m\u001b[0m\n\u001b[1;32m   1013\u001b[0m             \u001b[0;31m# the behavior of a negative timeout isn't documented, but\u001b[0m\u001b[0;34m\u001b[0m\u001b[0;34m\u001b[0m\u001b[0;34m\u001b[0m\u001b[0m\n",
      "\u001b[0;32m/Applications/anaconda3/lib/python3.8/threading.py\u001b[0m in \u001b[0;36m_wait_for_tstate_lock\u001b[0;34m(self, block, timeout)\u001b[0m\n\u001b[1;32m   1025\u001b[0m         \u001b[0;32mif\u001b[0m \u001b[0mlock\u001b[0m \u001b[0;32mis\u001b[0m \u001b[0;32mNone\u001b[0m\u001b[0;34m:\u001b[0m  \u001b[0;31m# already determined that the C code is done\u001b[0m\u001b[0;34m\u001b[0m\u001b[0;34m\u001b[0m\u001b[0m\n\u001b[1;32m   1026\u001b[0m             \u001b[0;32massert\u001b[0m \u001b[0mself\u001b[0m\u001b[0;34m.\u001b[0m\u001b[0m_is_stopped\u001b[0m\u001b[0;34m\u001b[0m\u001b[0;34m\u001b[0m\u001b[0m\n\u001b[0;32m-> 1027\u001b[0;31m         \u001b[0;32melif\u001b[0m \u001b[0mlock\u001b[0m\u001b[0;34m.\u001b[0m\u001b[0macquire\u001b[0m\u001b[0;34m(\u001b[0m\u001b[0mblock\u001b[0m\u001b[0;34m,\u001b[0m \u001b[0mtimeout\u001b[0m\u001b[0;34m)\u001b[0m\u001b[0;34m:\u001b[0m\u001b[0;34m\u001b[0m\u001b[0;34m\u001b[0m\u001b[0m\n\u001b[0m\u001b[1;32m   1028\u001b[0m             \u001b[0mlock\u001b[0m\u001b[0;34m.\u001b[0m\u001b[0mrelease\u001b[0m\u001b[0;34m(\u001b[0m\u001b[0;34m)\u001b[0m\u001b[0;34m\u001b[0m\u001b[0;34m\u001b[0m\u001b[0m\n\u001b[1;32m   1029\u001b[0m             \u001b[0mself\u001b[0m\u001b[0;34m.\u001b[0m\u001b[0m_stop\u001b[0m\u001b[0;34m(\u001b[0m\u001b[0;34m)\u001b[0m\u001b[0;34m\u001b[0m\u001b[0;34m\u001b[0m\u001b[0m\n",
      "\u001b[0;31mKeyboardInterrupt\u001b[0m: "
     ]
    }
   ],
   "source": [
    "# Testing!\n",
    "model_trans = TransformedTargetRegressor(\n",
    "    regressor=search_ridge,\n",
    "    transformer=QuantileTransformer(n_quantiles=500, output_distribution=\"normal\"),\n",
    ")\n",
    "test_model_ridge = model_trans.fit(X_train, y_train)\n",
    "y_pred = test_model_ridge.predict(X_test)\n"
   ]
  },
  {
   "cell_type": "code",
   "execution_count": null,
   "id": "78052175-774e-47c2-8e3f-1638c3ddb5e7",
   "metadata": {
    "tags": []
   },
   "outputs": [],
   "source": [
    "# summarize result\n",
    "evaluateTTR(test_model_ridge, X_test, y_test)"
   ]
  },
  {
   "cell_type": "markdown",
   "id": "40e2a27b-eb45-4375-aaea-64042b608799",
   "metadata": {
    "tags": []
   },
   "source": [
    "## Lasso Model"
   ]
  },
  {
   "cell_type": "code",
   "execution_count": 241,
   "id": "0d60e8c6-bb63-4378-92a3-d8816331f47a",
   "metadata": {
    "tags": []
   },
   "outputs": [],
   "source": [
    "# define model\n",
    "estimators = []\n",
    "estimators.append(('standardize', StandardScaler()))         # tell it to standardize features\n",
    "estimators.append(('Lasso', Lasso()))  # tell it to use a lasso model\n",
    "model_lasso = Pipeline(estimators) \n",
    "# define search space\n",
    "space_las = dict()\n",
    "#space_las['Lasso__solver'] = ['svd', 'cholesky', 'lsqr', 'sag']\n",
    "space_las['Lasso__alpha'] = [1e-5, 1e-4, 1e-3, 1e-2, 1e-1, 1, 10, 100]\n",
    "space_las['Lasso__fit_intercept'] = [True, False]\n",
    "# define search\n",
    "search_lasso = GridSearchCV(model_lasso, space_las, scoring='r2', n_jobs=-1, cv=Nb_cv)\n",
    "\n"
   ]
  },
  {
   "cell_type": "code",
   "execution_count": 242,
   "id": "7b7c52bd-a8b8-40e7-a327-ed787b12f09a",
   "metadata": {
    "tags": []
   },
   "outputs": [
    {
     "name": "stdout",
     "output_type": "stream",
     "text": [
      "Best Score: 0.15084956851459452\n",
      "Best Hyperparameters: {'Lasso__alpha': 0.01, 'Lasso__fit_intercept': True}\n",
      "\n",
      " Model Performance\n",
      "Mean Absolute Error =  0.2295 .\n",
      "Residual sum of squares: 0.16\n",
      "Mean Absolute Error Improvement of 5.89%.\n",
      "R2 score = -0.0869.\n"
     ]
    }
   ],
   "source": [
    "# execute search\n",
    "Lasso_result = search_lasso.fit(X_train, y_train)\n",
    "# summarize result\n",
    "evaluate(Lasso_result, X_test, y_test)"
   ]
  },
  {
   "cell_type": "code",
   "execution_count": 243,
   "id": "b78a9004-bdbb-4778-a84f-f1ff8c3db70c",
   "metadata": {
    "tags": []
   },
   "outputs": [],
   "source": [
    "# Testing!\n",
    "model_trans = TransformedTargetRegressor(\n",
    "    regressor=search_lasso,\n",
    "    transformer=QuantileTransformer(n_quantiles=500, output_distribution=\"normal\"),\n",
    ")\n",
    "test_model_lasso = model_trans.fit(X_train, y_train)\n",
    "y_pred = test_model_lasso.predict(X_test)\n"
   ]
  },
  {
   "cell_type": "code",
   "execution_count": 244,
   "id": "1be1122d-6370-48f6-9548-9250e561bbcc",
   "metadata": {
    "tags": []
   },
   "outputs": [
    {
     "name": "stdout",
     "output_type": "stream",
     "text": [
      "\n",
      " Model Performance\n",
      "Mean Absolute Error =  0.2255 .\n",
      "Residual sum of squares: 0.18\n",
      "Mean Absolute Error Improvement of 7.55%.\n",
      "R2 score = -0.2177.\n"
     ]
    }
   ],
   "source": [
    "# summarize result\n",
    "evaluateTTR(test_model_lasso, X_test, y_test)"
   ]
  },
  {
   "cell_type": "markdown",
   "id": "9152e30e-8d7e-454c-a711-51fc33189487",
   "metadata": {
    "tags": []
   },
   "source": [
    "## SVR Model"
   ]
  },
  {
   "cell_type": "code",
   "execution_count": 33,
   "id": "c7ace2ef-965a-43f1-bc5b-a09e3d8ff6cc",
   "metadata": {
    "tags": []
   },
   "outputs": [
    {
     "name": "stdout",
     "output_type": "stream",
     "text": [
      "{'SVR__C': 1, 'SVR__gamma': 0.001}\n",
      "Pipeline(steps=[('standardize', StandardScaler()),\n",
      "                ('SVR', SVR(C=1, gamma=0.001))])\n"
     ]
    }
   ],
   "source": [
    "# define model\n",
    "estimators = []\n",
    "estimators.append(('standardize', StandardScaler()))         # tell it to standardize features\n",
    "estimators.append(('SVR', SVR()))  # tell it to use a SVR model\n",
    "model_SVR = Pipeline(estimators) \n",
    "# defining parameter range\n",
    "param_grid = {'SVR__C': [0.1, 1, 10, 100],\n",
    "              'SVR__gamma': [1, 0.1, 0.01, 0.001],\n",
    "              }\n",
    "#Define search\n",
    "search_SVR = GridSearchCV(model_SVR, param_grid, scoring='neg_mean_absolute_error', n_jobs=-1, cv=Nb_cv)\n",
    "\n",
    "#Execute search\n",
    "SVR_result = search_SVR.fit(X_train, y_train)\n",
    "\n",
    "# print best parameter after tuning\n",
    "print(search_SVR.best_params_)\n",
    " \n",
    "# print how our model looks after hyper-parameter tuning\n",
    "print(search_SVR.best_estimator_)\n",
    "\n",
    "search_predictions = search_SVR.predict(X_test)"
   ]
  },
  {
   "cell_type": "code",
   "execution_count": 34,
   "id": "f62b13de-171c-41ad-b62a-f66689ea38e4",
   "metadata": {
    "tags": []
   },
   "outputs": [
    {
     "name": "stdout",
     "output_type": "stream",
     "text": [
      "Best Score: -0.21445272172776142\n",
      "Best Hyperparameters: {'SVR__C': 1, 'SVR__gamma': 0.001}\n",
      "\n",
      " Model Performance\n",
      "Mean Absolute Error =  0.2299 .\n",
      "Residual sum of squares: 0.12\n",
      "Mean Absolute Error Improvement of 4.58%.\n",
      "R2 score = 0.0826.\n"
     ]
    }
   ],
   "source": [
    "# summarize result\n",
    "evaluate(SVR_result, X_test, y_test)"
   ]
  },
  {
   "cell_type": "code",
   "execution_count": 182,
   "id": "e4d5c817-26d6-4777-9a0b-7bef8f33ba75",
   "metadata": {
    "tags": []
   },
   "outputs": [],
   "source": [
    "# Testing!\n",
    "model_trans_SVR = TransformedTargetRegressor(\n",
    "    regressor=search_SVR,\n",
    "    transformer=QuantileTransformer(n_quantiles=500, output_distribution=\"normal\"),\n",
    ")\n",
    "test_model_SVR = model_trans_SVR.fit(X_train, y_train)\n",
    "y_pred = SVR_result.predict(X_test)\n"
   ]
  },
  {
   "cell_type": "code",
   "execution_count": 183,
   "id": "16686a01-4813-4ab6-aac8-a7f5b0bfa3d8",
   "metadata": {
    "tags": []
   },
   "outputs": [
    {
     "name": "stdout",
     "output_type": "stream",
     "text": [
      "\n",
      " Model Performance\n",
      "Mean Absolute Error =  0.2160 .\n",
      "Residual sum of squares: 0.13\n",
      "Mean Absolute Error Improvement of 10.33%.\n",
      "R2 score = 0.0310.\n"
     ]
    }
   ],
   "source": [
    "# summarize result\n",
    "evaluateTTR(test_model_SVR, X_test, y_test)"
   ]
  },
  {
   "cell_type": "markdown",
   "id": "6bf5d832-fbbc-4a26-95f0-0b7c5c1e14ef",
   "metadata": {
    "jp-MarkdownHeadingCollapsed": true,
    "tags": []
   },
   "source": [
    "## Random Forest Model"
   ]
  },
  {
   "cell_type": "code",
   "execution_count": 35,
   "id": "a01d07ab-5c0d-4830-a630-2b04bc66b32f",
   "metadata": {
    "tags": []
   },
   "outputs": [
    {
     "name": "stdout",
     "output_type": "stream",
     "text": [
      "Parameters currently in use:\n",
      "\n",
      "{'bootstrap': True,\n",
      " 'ccp_alpha': 0.0,\n",
      " 'criterion': 'squared_error',\n",
      " 'max_depth': None,\n",
      " 'max_features': 'auto',\n",
      " 'max_leaf_nodes': None,\n",
      " 'max_samples': None,\n",
      " 'min_impurity_decrease': 0.0,\n",
      " 'min_samples_leaf': 1,\n",
      " 'min_samples_split': 2,\n",
      " 'min_weight_fraction_leaf': 0.0,\n",
      " 'n_estimators': 100,\n",
      " 'n_jobs': None,\n",
      " 'oob_score': False,\n",
      " 'random_state': 123,\n",
      " 'verbose': 0,\n",
      " 'warm_start': False}\n"
     ]
    }
   ],
   "source": [
    "rf = RandomForestRegressor(random_state = SEED)\n",
    "\n",
    "# Look at parameters used by our current forest\n",
    "print('Parameters currently in use:\\n')\n",
    "pprint(rf.get_params())"
   ]
  },
  {
   "cell_type": "code",
   "execution_count": 38,
   "id": "ea9dec95-650d-41a8-9c8b-dbc6c50ccef5",
   "metadata": {
    "tags": []
   },
   "outputs": [
    {
     "name": "stdout",
     "output_type": "stream",
     "text": [
      "{'max_depth': [10, 37, 65, 92, 120, None],\n",
      " 'min_samples_leaf': [1, 2, 4],\n",
      " 'min_samples_split': [2, 5, 10],\n",
      " 'n_estimators': [200, 650, 1100, 1550, 2000]}\n"
     ]
    }
   ],
   "source": [
    "# Number of trees in random forest\n",
    "n_estimators = [int(x) for x in np.linspace(start = 200, stop = 2000, num = 5)]\n",
    "# Maximum number of levels in tree\n",
    "max_depth = [int(x) for x in np.linspace(10, 120, num = 5)]\n",
    "max_depth.append(None)\n",
    "# Minimum number of samples required to split a node\n",
    "min_samples_split = [2, 5, 10]\n",
    "# Minimum number of samples required at each leaf node\n",
    "min_samples_leaf = [1, 2, 4]\n",
    "# Create the random grid\n",
    "random_grid = {'n_estimators': n_estimators,\n",
    "               'max_depth': max_depth,\n",
    "               'min_samples_split': min_samples_split,\n",
    "               'min_samples_leaf': min_samples_leaf,}\n",
    "pprint(random_grid)"
   ]
  },
  {
   "cell_type": "code",
   "execution_count": 39,
   "id": "9d5c0ed7-1615-4519-bc92-c7e89324ada0",
   "metadata": {
    "tags": []
   },
   "outputs": [
    {
     "data": {
      "text/plain": [
       "RandomizedSearchCV(cv=5, estimator=RandomForestRegressor(), n_iter=100,\n",
       "                   n_jobs=-1,\n",
       "                   param_distributions={'max_depth': [10, 37, 65, 92, 120,\n",
       "                                                      None],\n",
       "                                        'min_samples_leaf': [1, 2, 4],\n",
       "                                        'min_samples_split': [2, 5, 10],\n",
       "                                        'n_estimators': [200, 650, 1100, 1550,\n",
       "                                                         2000]},\n",
       "                   random_state=123, scoring='neg_mean_absolute_error')"
      ]
     },
     "execution_count": 39,
     "metadata": {},
     "output_type": "execute_result"
    }
   ],
   "source": [
    "# Use the random grid to search for best hyperparameters\n",
    "# First create the base model to tune\n",
    "rf = RandomForestRegressor()\n",
    "# Random search of parameters, using 3 fold cross validation, \n",
    "# search across 100 different combinations, and use all available cores\n",
    "rf_random = RandomizedSearchCV(estimator = rf, param_distributions = random_grid, n_iter = 100, cv = Nb_cv, scoring='neg_mean_absolute_error', random_state=SEED, n_jobs = -1)\n",
    "# Fit the random search model\n",
    "rf_random.fit(X_train, y_train)"
   ]
  },
  {
   "cell_type": "code",
   "execution_count": 40,
   "id": "714805b9-cbaf-4ddc-b68f-f3e6b3953e05",
   "metadata": {
    "tags": []
   },
   "outputs": [
    {
     "data": {
      "text/plain": [
       "{'n_estimators': 650,\n",
       " 'min_samples_split': 2,\n",
       " 'min_samples_leaf': 1,\n",
       " 'max_depth': 120}"
      ]
     },
     "execution_count": 40,
     "metadata": {},
     "output_type": "execute_result"
    }
   ],
   "source": [
    "rf_random.best_params_"
   ]
  },
  {
   "cell_type": "code",
   "execution_count": 43,
   "id": "477ed277-3dcc-4225-a251-f7d7e34f3fac",
   "metadata": {
    "tags": []
   },
   "outputs": [
    {
     "name": "stdout",
     "output_type": "stream",
     "text": [
      "\n",
      " Model Performance\n",
      "Mean Absolute Error =  0.2089 .\n",
      "Residual sum of squares: 0.14\n",
      "Mean Absolute Error Improvement of 13.27%.\n",
      "R2 score = -0.0792.\n",
      "\n",
      " Model Performance\n",
      "Mean Absolute Error =  0.1972 .\n",
      "Residual sum of squares: 0.13\n",
      "Mean Absolute Error Improvement of 18.14%.\n",
      "R2 score = 0.0447.\n"
     ]
    },
    {
     "ename": "TypeError",
     "evalue": "unsupported operand type(s) for -: 'NoneType' and 'NoneType'",
     "output_type": "error",
     "traceback": [
      "\u001b[0;31m---------------------------------------------------------------------------\u001b[0m",
      "\u001b[0;31mTypeError\u001b[0m                                 Traceback (most recent call last)",
      "\u001b[0;32m<ipython-input-43-c33ec8a96f50>\u001b[0m in \u001b[0;36m<module>\u001b[0;34m\u001b[0m\n\u001b[1;32m      8\u001b[0m \u001b[0;34m\u001b[0m\u001b[0m\n\u001b[1;32m      9\u001b[0m \u001b[0;34m\u001b[0m\u001b[0m\n\u001b[0;32m---> 10\u001b[0;31m \u001b[0mprint\u001b[0m\u001b[0;34m(\u001b[0m\u001b[0;34m'Improvement of '\u001b[0m\u001b[0;34m,\u001b[0m \u001b[0;36m100\u001b[0m \u001b[0;34m*\u001b[0m \u001b[0;34m(\u001b[0m\u001b[0mrandom_accuracy\u001b[0m \u001b[0;34m-\u001b[0m \u001b[0mbase_accuracy\u001b[0m\u001b[0;34m)\u001b[0m \u001b[0;34m/\u001b[0m \u001b[0mbase_accuracy\u001b[0m\u001b[0;34m)\u001b[0m\u001b[0;34m\u001b[0m\u001b[0;34m\u001b[0m\u001b[0m\n\u001b[0m",
      "\u001b[0;31mTypeError\u001b[0m: unsupported operand type(s) for -: 'NoneType' and 'NoneType'"
     ]
    }
   ],
   "source": [
    "base_model = RandomForestRegressor(n_estimators = 10, random_state = SEED)\n",
    "base_model.fit(X_train, y_train)\n",
    "base_accuracy = evaluateTTR(base_model, X_test, y_test)\n",
    "\n",
    "\n",
    "best_random = rf_random.best_estimator_\n",
    "random_accuracy = evaluateTTR(best_random, X_test, y_test)\n",
    "\n",
    "\n",
    "#print('Improvement of ', 100 * (random_accuracy - base_accuracy) / base_accuracy)\n"
   ]
  },
  {
   "cell_type": "code",
   "execution_count": 44,
   "id": "85f6194e-c976-45fe-bb2f-9431fec997b4",
   "metadata": {
    "tags": []
   },
   "outputs": [],
   "source": [
    "# Create the parameter grid based on the results of random search \n",
    "param_grid = {\n",
    "    'max_depth': [110, 120, 130],\n",
    "    'min_samples_leaf': [2, 3, 4],\n",
    "    'min_samples_split': [1, 2, 3],\n",
    "    'n_estimators': [550, 650, 700]\n",
    "}\n",
    "# Create a based model\n",
    "rf = RandomForestRegressor()\n",
    "# Instantiate the grid search model\n",
    "search_rf = GridSearchCV(estimator = rf, param_grid = param_grid, \n",
    "                          scoring='neg_mean_absolute_error', n_jobs=-1, cv=Nb_cv)"
   ]
  },
  {
   "cell_type": "code",
   "execution_count": 45,
   "id": "73be6e1a-fe9f-407e-a822-8cf07d213190",
   "metadata": {
    "tags": []
   },
   "outputs": [
    {
     "ename": "KeyboardInterrupt",
     "evalue": "",
     "output_type": "error",
     "traceback": [
      "\u001b[0;31m---------------------------------------------------------------------------\u001b[0m",
      "\u001b[0;31mKeyboardInterrupt\u001b[0m                         Traceback (most recent call last)",
      "\u001b[0;32m<ipython-input-45-c3dd1c26ba7e>\u001b[0m in \u001b[0;36m<module>\u001b[0;34m\u001b[0m\n\u001b[1;32m      1\u001b[0m \u001b[0;31m# Fit the grid search to the data\u001b[0m\u001b[0;34m\u001b[0m\u001b[0;34m\u001b[0m\u001b[0;34m\u001b[0m\u001b[0m\n\u001b[0;32m----> 2\u001b[0;31m \u001b[0mrf_result\u001b[0m \u001b[0;34m=\u001b[0m \u001b[0msearch_rf\u001b[0m\u001b[0;34m.\u001b[0m\u001b[0mfit\u001b[0m\u001b[0;34m(\u001b[0m\u001b[0mX_train\u001b[0m\u001b[0;34m,\u001b[0m \u001b[0my_train\u001b[0m\u001b[0;34m)\u001b[0m\u001b[0;34m\u001b[0m\u001b[0;34m\u001b[0m\u001b[0m\n\u001b[0m\u001b[1;32m      3\u001b[0m \u001b[0mbest_grid\u001b[0m \u001b[0;34m=\u001b[0m \u001b[0msearch_rf\u001b[0m\u001b[0;34m.\u001b[0m\u001b[0mbest_estimator_\u001b[0m\u001b[0;34m\u001b[0m\u001b[0;34m\u001b[0m\u001b[0m\n",
      "\u001b[0;32m/Applications/anaconda3/lib/python3.8/site-packages/sklearn/model_selection/_search.py\u001b[0m in \u001b[0;36mfit\u001b[0;34m(self, X, y, groups, **fit_params)\u001b[0m\n\u001b[1;32m    889\u001b[0m                 \u001b[0;32mreturn\u001b[0m \u001b[0mresults\u001b[0m\u001b[0;34m\u001b[0m\u001b[0;34m\u001b[0m\u001b[0m\n\u001b[1;32m    890\u001b[0m \u001b[0;34m\u001b[0m\u001b[0m\n\u001b[0;32m--> 891\u001b[0;31m             \u001b[0mself\u001b[0m\u001b[0;34m.\u001b[0m\u001b[0m_run_search\u001b[0m\u001b[0;34m(\u001b[0m\u001b[0mevaluate_candidates\u001b[0m\u001b[0;34m)\u001b[0m\u001b[0;34m\u001b[0m\u001b[0;34m\u001b[0m\u001b[0m\n\u001b[0m\u001b[1;32m    892\u001b[0m \u001b[0;34m\u001b[0m\u001b[0m\n\u001b[1;32m    893\u001b[0m             \u001b[0;31m# multimetric is determined here because in the case of a callable\u001b[0m\u001b[0;34m\u001b[0m\u001b[0;34m\u001b[0m\u001b[0;34m\u001b[0m\u001b[0m\n",
      "\u001b[0;32m/Applications/anaconda3/lib/python3.8/site-packages/sklearn/model_selection/_search.py\u001b[0m in \u001b[0;36m_run_search\u001b[0;34m(self, evaluate_candidates)\u001b[0m\n\u001b[1;32m   1390\u001b[0m     \u001b[0;32mdef\u001b[0m \u001b[0m_run_search\u001b[0m\u001b[0;34m(\u001b[0m\u001b[0mself\u001b[0m\u001b[0;34m,\u001b[0m \u001b[0mevaluate_candidates\u001b[0m\u001b[0;34m)\u001b[0m\u001b[0;34m:\u001b[0m\u001b[0;34m\u001b[0m\u001b[0;34m\u001b[0m\u001b[0m\n\u001b[1;32m   1391\u001b[0m         \u001b[0;34m\"\"\"Search all candidates in param_grid\"\"\"\u001b[0m\u001b[0;34m\u001b[0m\u001b[0;34m\u001b[0m\u001b[0m\n\u001b[0;32m-> 1392\u001b[0;31m         \u001b[0mevaluate_candidates\u001b[0m\u001b[0;34m(\u001b[0m\u001b[0mParameterGrid\u001b[0m\u001b[0;34m(\u001b[0m\u001b[0mself\u001b[0m\u001b[0;34m.\u001b[0m\u001b[0mparam_grid\u001b[0m\u001b[0;34m)\u001b[0m\u001b[0;34m)\u001b[0m\u001b[0;34m\u001b[0m\u001b[0;34m\u001b[0m\u001b[0m\n\u001b[0m\u001b[1;32m   1393\u001b[0m \u001b[0;34m\u001b[0m\u001b[0m\n\u001b[1;32m   1394\u001b[0m \u001b[0;34m\u001b[0m\u001b[0m\n",
      "\u001b[0;32m/Applications/anaconda3/lib/python3.8/site-packages/sklearn/model_selection/_search.py\u001b[0m in \u001b[0;36mevaluate_candidates\u001b[0;34m(candidate_params, cv, more_results)\u001b[0m\n\u001b[1;32m    836\u001b[0m                     )\n\u001b[1;32m    837\u001b[0m \u001b[0;34m\u001b[0m\u001b[0m\n\u001b[0;32m--> 838\u001b[0;31m                 out = parallel(\n\u001b[0m\u001b[1;32m    839\u001b[0m                     delayed(_fit_and_score)(\n\u001b[1;32m    840\u001b[0m                         \u001b[0mclone\u001b[0m\u001b[0;34m(\u001b[0m\u001b[0mbase_estimator\u001b[0m\u001b[0;34m)\u001b[0m\u001b[0;34m,\u001b[0m\u001b[0;34m\u001b[0m\u001b[0;34m\u001b[0m\u001b[0m\n",
      "\u001b[0;32m/Applications/anaconda3/lib/python3.8/site-packages/joblib/parallel.py\u001b[0m in \u001b[0;36m__call__\u001b[0;34m(self, iterable)\u001b[0m\n\u001b[1;32m   1054\u001b[0m \u001b[0;34m\u001b[0m\u001b[0m\n\u001b[1;32m   1055\u001b[0m             \u001b[0;32mwith\u001b[0m \u001b[0mself\u001b[0m\u001b[0;34m.\u001b[0m\u001b[0m_backend\u001b[0m\u001b[0;34m.\u001b[0m\u001b[0mretrieval_context\u001b[0m\u001b[0;34m(\u001b[0m\u001b[0;34m)\u001b[0m\u001b[0;34m:\u001b[0m\u001b[0;34m\u001b[0m\u001b[0;34m\u001b[0m\u001b[0m\n\u001b[0;32m-> 1056\u001b[0;31m                 \u001b[0mself\u001b[0m\u001b[0;34m.\u001b[0m\u001b[0mretrieve\u001b[0m\u001b[0;34m(\u001b[0m\u001b[0;34m)\u001b[0m\u001b[0;34m\u001b[0m\u001b[0;34m\u001b[0m\u001b[0m\n\u001b[0m\u001b[1;32m   1057\u001b[0m             \u001b[0;31m# Make sure that we get a last message telling us we are done\u001b[0m\u001b[0;34m\u001b[0m\u001b[0;34m\u001b[0m\u001b[0;34m\u001b[0m\u001b[0m\n\u001b[1;32m   1058\u001b[0m             \u001b[0melapsed_time\u001b[0m \u001b[0;34m=\u001b[0m \u001b[0mtime\u001b[0m\u001b[0;34m.\u001b[0m\u001b[0mtime\u001b[0m\u001b[0;34m(\u001b[0m\u001b[0;34m)\u001b[0m \u001b[0;34m-\u001b[0m \u001b[0mself\u001b[0m\u001b[0;34m.\u001b[0m\u001b[0m_start_time\u001b[0m\u001b[0;34m\u001b[0m\u001b[0;34m\u001b[0m\u001b[0m\n",
      "\u001b[0;32m/Applications/anaconda3/lib/python3.8/site-packages/joblib/parallel.py\u001b[0m in \u001b[0;36mretrieve\u001b[0;34m(self)\u001b[0m\n\u001b[1;32m    933\u001b[0m             \u001b[0;32mtry\u001b[0m\u001b[0;34m:\u001b[0m\u001b[0;34m\u001b[0m\u001b[0;34m\u001b[0m\u001b[0m\n\u001b[1;32m    934\u001b[0m                 \u001b[0;32mif\u001b[0m \u001b[0mgetattr\u001b[0m\u001b[0;34m(\u001b[0m\u001b[0mself\u001b[0m\u001b[0;34m.\u001b[0m\u001b[0m_backend\u001b[0m\u001b[0;34m,\u001b[0m \u001b[0;34m'supports_timeout'\u001b[0m\u001b[0;34m,\u001b[0m \u001b[0;32mFalse\u001b[0m\u001b[0;34m)\u001b[0m\u001b[0;34m:\u001b[0m\u001b[0;34m\u001b[0m\u001b[0;34m\u001b[0m\u001b[0m\n\u001b[0;32m--> 935\u001b[0;31m                     \u001b[0mself\u001b[0m\u001b[0;34m.\u001b[0m\u001b[0m_output\u001b[0m\u001b[0;34m.\u001b[0m\u001b[0mextend\u001b[0m\u001b[0;34m(\u001b[0m\u001b[0mjob\u001b[0m\u001b[0;34m.\u001b[0m\u001b[0mget\u001b[0m\u001b[0;34m(\u001b[0m\u001b[0mtimeout\u001b[0m\u001b[0;34m=\u001b[0m\u001b[0mself\u001b[0m\u001b[0;34m.\u001b[0m\u001b[0mtimeout\u001b[0m\u001b[0;34m)\u001b[0m\u001b[0;34m)\u001b[0m\u001b[0;34m\u001b[0m\u001b[0;34m\u001b[0m\u001b[0m\n\u001b[0m\u001b[1;32m    936\u001b[0m                 \u001b[0;32melse\u001b[0m\u001b[0;34m:\u001b[0m\u001b[0;34m\u001b[0m\u001b[0;34m\u001b[0m\u001b[0m\n\u001b[1;32m    937\u001b[0m                     \u001b[0mself\u001b[0m\u001b[0;34m.\u001b[0m\u001b[0m_output\u001b[0m\u001b[0;34m.\u001b[0m\u001b[0mextend\u001b[0m\u001b[0;34m(\u001b[0m\u001b[0mjob\u001b[0m\u001b[0;34m.\u001b[0m\u001b[0mget\u001b[0m\u001b[0;34m(\u001b[0m\u001b[0;34m)\u001b[0m\u001b[0;34m)\u001b[0m\u001b[0;34m\u001b[0m\u001b[0;34m\u001b[0m\u001b[0m\n",
      "\u001b[0;32m/Applications/anaconda3/lib/python3.8/site-packages/joblib/_parallel_backends.py\u001b[0m in \u001b[0;36mwrap_future_result\u001b[0;34m(future, timeout)\u001b[0m\n\u001b[1;32m    540\u001b[0m         AsyncResults.get from multiprocessing.\"\"\"\n\u001b[1;32m    541\u001b[0m         \u001b[0;32mtry\u001b[0m\u001b[0;34m:\u001b[0m\u001b[0;34m\u001b[0m\u001b[0;34m\u001b[0m\u001b[0m\n\u001b[0;32m--> 542\u001b[0;31m             \u001b[0;32mreturn\u001b[0m \u001b[0mfuture\u001b[0m\u001b[0;34m.\u001b[0m\u001b[0mresult\u001b[0m\u001b[0;34m(\u001b[0m\u001b[0mtimeout\u001b[0m\u001b[0;34m=\u001b[0m\u001b[0mtimeout\u001b[0m\u001b[0;34m)\u001b[0m\u001b[0;34m\u001b[0m\u001b[0;34m\u001b[0m\u001b[0m\n\u001b[0m\u001b[1;32m    543\u001b[0m         \u001b[0;32mexcept\u001b[0m \u001b[0mCfTimeoutError\u001b[0m \u001b[0;32mas\u001b[0m \u001b[0me\u001b[0m\u001b[0;34m:\u001b[0m\u001b[0;34m\u001b[0m\u001b[0;34m\u001b[0m\u001b[0m\n\u001b[1;32m    544\u001b[0m             \u001b[0;32mraise\u001b[0m \u001b[0mTimeoutError\u001b[0m \u001b[0;32mfrom\u001b[0m \u001b[0me\u001b[0m\u001b[0;34m\u001b[0m\u001b[0;34m\u001b[0m\u001b[0m\n",
      "\u001b[0;32m/Applications/anaconda3/lib/python3.8/concurrent/futures/_base.py\u001b[0m in \u001b[0;36mresult\u001b[0;34m(self, timeout)\u001b[0m\n\u001b[1;32m    432\u001b[0m                 \u001b[0;32mreturn\u001b[0m \u001b[0mself\u001b[0m\u001b[0;34m.\u001b[0m\u001b[0m__get_result\u001b[0m\u001b[0;34m(\u001b[0m\u001b[0;34m)\u001b[0m\u001b[0;34m\u001b[0m\u001b[0;34m\u001b[0m\u001b[0m\n\u001b[1;32m    433\u001b[0m \u001b[0;34m\u001b[0m\u001b[0m\n\u001b[0;32m--> 434\u001b[0;31m             \u001b[0mself\u001b[0m\u001b[0;34m.\u001b[0m\u001b[0m_condition\u001b[0m\u001b[0;34m.\u001b[0m\u001b[0mwait\u001b[0m\u001b[0;34m(\u001b[0m\u001b[0mtimeout\u001b[0m\u001b[0;34m)\u001b[0m\u001b[0;34m\u001b[0m\u001b[0;34m\u001b[0m\u001b[0m\n\u001b[0m\u001b[1;32m    435\u001b[0m \u001b[0;34m\u001b[0m\u001b[0m\n\u001b[1;32m    436\u001b[0m             \u001b[0;32mif\u001b[0m \u001b[0mself\u001b[0m\u001b[0;34m.\u001b[0m\u001b[0m_state\u001b[0m \u001b[0;32min\u001b[0m \u001b[0;34m[\u001b[0m\u001b[0mCANCELLED\u001b[0m\u001b[0;34m,\u001b[0m \u001b[0mCANCELLED_AND_NOTIFIED\u001b[0m\u001b[0;34m]\u001b[0m\u001b[0;34m:\u001b[0m\u001b[0;34m\u001b[0m\u001b[0;34m\u001b[0m\u001b[0m\n",
      "\u001b[0;32m/Applications/anaconda3/lib/python3.8/threading.py\u001b[0m in \u001b[0;36mwait\u001b[0;34m(self, timeout)\u001b[0m\n\u001b[1;32m    300\u001b[0m         \u001b[0;32mtry\u001b[0m\u001b[0;34m:\u001b[0m    \u001b[0;31m# restore state no matter what (e.g., KeyboardInterrupt)\u001b[0m\u001b[0;34m\u001b[0m\u001b[0;34m\u001b[0m\u001b[0m\n\u001b[1;32m    301\u001b[0m             \u001b[0;32mif\u001b[0m \u001b[0mtimeout\u001b[0m \u001b[0;32mis\u001b[0m \u001b[0;32mNone\u001b[0m\u001b[0;34m:\u001b[0m\u001b[0;34m\u001b[0m\u001b[0;34m\u001b[0m\u001b[0m\n\u001b[0;32m--> 302\u001b[0;31m                 \u001b[0mwaiter\u001b[0m\u001b[0;34m.\u001b[0m\u001b[0macquire\u001b[0m\u001b[0;34m(\u001b[0m\u001b[0;34m)\u001b[0m\u001b[0;34m\u001b[0m\u001b[0;34m\u001b[0m\u001b[0m\n\u001b[0m\u001b[1;32m    303\u001b[0m                 \u001b[0mgotit\u001b[0m \u001b[0;34m=\u001b[0m \u001b[0;32mTrue\u001b[0m\u001b[0;34m\u001b[0m\u001b[0;34m\u001b[0m\u001b[0m\n\u001b[1;32m    304\u001b[0m             \u001b[0;32melse\u001b[0m\u001b[0;34m:\u001b[0m\u001b[0;34m\u001b[0m\u001b[0;34m\u001b[0m\u001b[0m\n",
      "\u001b[0;31mKeyboardInterrupt\u001b[0m: "
     ]
    }
   ],
   "source": [
    "# Fit the grid search to the data\n",
    "rf_result = search_rf.fit(X_train, y_train)\n",
    "best_grid = search_rf.best_estimator_"
   ]
  },
  {
   "cell_type": "code",
   "execution_count": null,
   "id": "6196ca04-fe26-4959-9ee4-6d3edd5ac5b4",
   "metadata": {
    "tags": []
   },
   "outputs": [],
   "source": [
    "# summarize result\n",
    "evaluate(rf_result, X_test, y_test)"
   ]
  },
  {
   "cell_type": "code",
   "execution_count": 182,
   "id": "435ea2b4-3758-4d41-85c5-dc53029d420e",
   "metadata": {
    "tags": []
   },
   "outputs": [],
   "source": [
    "# Testing!\n",
    "model_trans = TransformedTargetRegressor(\n",
    "    regressor=rf_result,\n",
    "    transformer=QuantileTransformer(n_quantiles=500, output_distribution=\"normal\"),\n",
    ")\n",
    "test_model_SVR = rf_result.fit(X_train, y_train)\n",
    "y_pred = rf_result.predict(X_test)\n"
   ]
  },
  {
   "cell_type": "code",
   "execution_count": 183,
   "id": "d28ad0b0-38b5-4c66-81d7-d6edb1c4cd5c",
   "metadata": {
    "tags": []
   },
   "outputs": [
    {
     "name": "stdout",
     "output_type": "stream",
     "text": [
      "\n",
      " Model Performance\n",
      "Mean Absolute Error =  0.2160 .\n",
      "Residual sum of squares: 0.13\n",
      "Mean Absolute Error Improvement of 10.33%.\n",
      "R2 score = 0.0310.\n"
     ]
    }
   ],
   "source": [
    "# summarize result\n",
    "evaluateTTR(test_model_SVR, X_test, y_test)"
   ]
  },
  {
   "cell_type": "code",
   "execution_count": null,
   "id": "08c3dfc9-66ba-4eea-aaa1-eefb29fe26fc",
   "metadata": {
    "tags": []
   },
   "outputs": [],
   "source": []
  },
  {
   "cell_type": "markdown",
   "id": "9319b382-f8f6-4a5d-85d9-f76745f0f4e9",
   "metadata": {
    "tags": []
   },
   "source": [
    "## KNN"
   ]
  },
  {
   "cell_type": "code",
   "execution_count": 42,
   "id": "1caa6b5f-c978-4f83-a819-f94b46f7a86c",
   "metadata": {
    "tags": []
   },
   "outputs": [
    {
     "name": "stdout",
     "output_type": "stream",
     "text": [
      "Parameters currently in use:\n",
      "\n",
      "{'KNN': KNeighborsRegressor(),\n",
      " 'KNN__algorithm': 'auto',\n",
      " 'KNN__leaf_size': 30,\n",
      " 'KNN__metric': 'minkowski',\n",
      " 'KNN__metric_params': None,\n",
      " 'KNN__n_jobs': None,\n",
      " 'KNN__n_neighbors': 5,\n",
      " 'KNN__p': 2,\n",
      " 'KNN__weights': 'uniform',\n",
      " 'memory': None,\n",
      " 'standardize': StandardScaler(),\n",
      " 'standardize__copy': True,\n",
      " 'standardize__with_mean': True,\n",
      " 'standardize__with_std': True,\n",
      " 'steps': [('standardize', StandardScaler()), ('KNN', KNeighborsRegressor())],\n",
      " 'verbose': False}\n"
     ]
    }
   ],
   "source": [
    "# define model\n",
    "estimators = []\n",
    "estimators.append(('standardize', StandardScaler()))         # tell it to standardize features\n",
    "estimators.append(('KNN', KNeighborsRegressor()))  # tell it to use a KNN model\n",
    "model_KNN = Pipeline(estimators) \n",
    "\n",
    "print('Parameters currently in use:\\n')\n",
    "pprint(model_KNN.get_params())\n",
    "\n",
    "k_range = list(range(1, 31))\n",
    "space = dict()\n",
    "space['KNN__n_neighbors']=k_range\n",
    "space['KNN__leaf_size']=[5, 10, 20, 30, 40, 50]"
   ]
  },
  {
   "cell_type": "code",
   "execution_count": 43,
   "id": "630c11bf-95a7-42fb-b547-04574c510b47",
   "metadata": {
    "tags": []
   },
   "outputs": [],
   "source": [
    "# defining parameter range\n",
    "search_KNN = GridSearchCV(model_KNN, space, scoring='neg_mean_absolute_error', n_jobs=-1, cv=Nb_cv)\n"
   ]
  },
  {
   "cell_type": "code",
   "execution_count": 44,
   "id": "9731d050-b262-4b62-adf3-6e7538d714fa",
   "metadata": {
    "tags": []
   },
   "outputs": [
    {
     "name": "stdout",
     "output_type": "stream",
     "text": [
      "{'KNN__leaf_size': 5, 'KNN__n_neighbors': 4}\n",
      "Pipeline(steps=[('standardize', StandardScaler()),\n",
      "                ('KNN', KNeighborsRegressor(leaf_size=5, n_neighbors=4))])\n"
     ]
    }
   ],
   "source": [
    "# fitting the model for grid search\n",
    "KNN_result=search_KNN.fit(X_train, y_train)\n",
    "\n",
    "# print best parameter after tuning\n",
    "print(search_KNN.best_params_)\n",
    " \n",
    "# print how our model looks after hyper-parameter tuning\n",
    "print(search_KNN.best_estimator_)\n",
    "\n",
    "search_predictions = search_KNN.predict(X_test)"
   ]
  },
  {
   "cell_type": "code",
   "execution_count": 45,
   "id": "bb035aea-75af-41b3-bffe-9b352132ba10",
   "metadata": {
    "tags": []
   },
   "outputs": [
    {
     "name": "stdout",
     "output_type": "stream",
     "text": [
      "\n",
      " Model Performance\n",
      "Mean Absolute Error =  0.2340 .\n",
      "Residual sum of squares: 0.15\n",
      "Mean Absolute Error Improvement of 2.86%.\n",
      "R2 score = -0.0882.\n"
     ]
    }
   ],
   "source": [
    "# summarize result\n",
    "evaluate(KNN_result, X_test, y_test)"
   ]
  },
  {
   "cell_type": "code",
   "execution_count": 50,
   "id": "1c143776-b540-4134-9fcc-81e634e84d28",
   "metadata": {
    "tags": []
   },
   "outputs": [],
   "source": [
    "# Testing!\n",
    "model_trans = TransformedTargetRegressor(\n",
    "    regressor=search_KNN,\n",
    "    transformer=QuantileTransformer(n_quantiles=100, output_distribution=\"normal\"),\n",
    ")\n",
    "test_model = model_trans.fit(X_train, y_train)\n",
    "y_pred = test_model.predict(X_test)\n"
   ]
  },
  {
   "cell_type": "code",
   "execution_count": 51,
   "id": "b23afa07-927b-4212-98c7-411f8b983d34",
   "metadata": {
    "tags": []
   },
   "outputs": [
    {
     "name": "stdout",
     "output_type": "stream",
     "text": [
      "\n",
      " Model Performance\n",
      "Mean Absolute Error =  0.2633 .\n",
      "Residual sum of squares: 0.21\n",
      "Mean Absolute Error Improvement of -9.29%.\n",
      "R2 score = -0.5355.\n"
     ]
    }
   ],
   "source": [
    "# summarize result\n",
    "evaluate(test_model, X_test, y_test)"
   ]
  },
  {
   "cell_type": "code",
   "execution_count": 138,
   "id": "6c38ce4d-c363-4d1b-b315-4693766f2f7a",
   "metadata": {
    "collapsed": true,
    "jupyter": {
     "outputs_hidden": true
    },
    "tags": []
   },
   "outputs": [
    {
     "ename": "ImportError",
     "evalue": "cannot import name 'get_config' from 'tensorflow.python.eager.context' (/Applications/anaconda3/lib/python3.8/site-packages/tensorflow/python/eager/context.py)",
     "output_type": "error",
     "traceback": [
      "\u001b[0;31m---------------------------------------------------------------------------\u001b[0m",
      "\u001b[0;31mImportError\u001b[0m                               Traceback (most recent call last)",
      "\u001b[0;32m<ipython-input-138-fe97a2eae53c>\u001b[0m in \u001b[0;36m<module>\u001b[0;34m\u001b[0m\n\u001b[0;32m----> 1\u001b[0;31m \u001b[0;32mfrom\u001b[0m \u001b[0mkeras\u001b[0m\u001b[0;34m.\u001b[0m\u001b[0mlayers\u001b[0m \u001b[0;32mimport\u001b[0m \u001b[0mDense\u001b[0m\u001b[0;34m\u001b[0m\u001b[0;34m\u001b[0m\u001b[0m\n\u001b[0m\u001b[1;32m      2\u001b[0m \u001b[0;32mfrom\u001b[0m \u001b[0mkeras\u001b[0m\u001b[0;34m.\u001b[0m\u001b[0mwrappers\u001b[0m\u001b[0;34m.\u001b[0m\u001b[0mscikit_learn\u001b[0m \u001b[0;32mimport\u001b[0m \u001b[0mKerasClassifier\u001b[0m\u001b[0;34m\u001b[0m\u001b[0;34m\u001b[0m\u001b[0m\n\u001b[1;32m      3\u001b[0m \u001b[0;31m# create model\u001b[0m\u001b[0;34m\u001b[0m\u001b[0;34m\u001b[0m\u001b[0;34m\u001b[0m\u001b[0m\n\u001b[1;32m      4\u001b[0m \u001b[0mestimators\u001b[0m \u001b[0;34m=\u001b[0m \u001b[0;34m[\u001b[0m\u001b[0;34m]\u001b[0m\u001b[0;34m\u001b[0m\u001b[0;34m\u001b[0m\u001b[0m\n\u001b[1;32m      5\u001b[0m \u001b[0mestimators\u001b[0m\u001b[0;34m.\u001b[0m\u001b[0mappend\u001b[0m\u001b[0;34m(\u001b[0m\u001b[0;34m(\u001b[0m\u001b[0;34m'standardize'\u001b[0m\u001b[0;34m,\u001b[0m \u001b[0mStandardScaler\u001b[0m\u001b[0;34m(\u001b[0m\u001b[0;34m)\u001b[0m\u001b[0;34m)\u001b[0m\u001b[0;34m)\u001b[0m         \u001b[0;31m# tell it to standardize features\u001b[0m\u001b[0;34m\u001b[0m\u001b[0;34m\u001b[0m\u001b[0m\n",
      "\u001b[0;32m/Applications/anaconda3/lib/python3.8/site-packages/keras/__init__.py\u001b[0m in \u001b[0;36m<module>\u001b[0;34m\u001b[0m\n\u001b[1;32m     23\u001b[0m \u001b[0;34m\u001b[0m\u001b[0m\n\u001b[1;32m     24\u001b[0m \u001b[0;31m# See b/110718070#comment18 for more details about this import.\u001b[0m\u001b[0;34m\u001b[0m\u001b[0;34m\u001b[0m\u001b[0;34m\u001b[0m\u001b[0m\n\u001b[0;32m---> 25\u001b[0;31m \u001b[0;32mfrom\u001b[0m \u001b[0mkeras\u001b[0m \u001b[0;32mimport\u001b[0m \u001b[0mmodels\u001b[0m\u001b[0;34m\u001b[0m\u001b[0;34m\u001b[0m\u001b[0m\n\u001b[0m\u001b[1;32m     26\u001b[0m \u001b[0;34m\u001b[0m\u001b[0m\n\u001b[1;32m     27\u001b[0m \u001b[0;32mfrom\u001b[0m \u001b[0mkeras\u001b[0m\u001b[0;34m.\u001b[0m\u001b[0mengine\u001b[0m\u001b[0;34m.\u001b[0m\u001b[0minput_layer\u001b[0m \u001b[0;32mimport\u001b[0m \u001b[0mInput\u001b[0m\u001b[0;34m\u001b[0m\u001b[0;34m\u001b[0m\u001b[0m\n",
      "\u001b[0;32m/Applications/anaconda3/lib/python3.8/site-packages/keras/models.py\u001b[0m in \u001b[0;36m<module>\u001b[0;34m\u001b[0m\n\u001b[1;32m     17\u001b[0m \u001b[0;34m\u001b[0m\u001b[0m\n\u001b[1;32m     18\u001b[0m \u001b[0;32mimport\u001b[0m \u001b[0mtensorflow\u001b[0m\u001b[0;34m.\u001b[0m\u001b[0mcompat\u001b[0m\u001b[0;34m.\u001b[0m\u001b[0mv2\u001b[0m \u001b[0;32mas\u001b[0m \u001b[0mtf\u001b[0m\u001b[0;34m\u001b[0m\u001b[0;34m\u001b[0m\u001b[0m\n\u001b[0;32m---> 19\u001b[0;31m \u001b[0;32mfrom\u001b[0m \u001b[0mkeras\u001b[0m \u001b[0;32mimport\u001b[0m \u001b[0mbackend\u001b[0m\u001b[0;34m\u001b[0m\u001b[0;34m\u001b[0m\u001b[0m\n\u001b[0m\u001b[1;32m     20\u001b[0m \u001b[0;32mfrom\u001b[0m \u001b[0mkeras\u001b[0m \u001b[0;32mimport\u001b[0m \u001b[0mmetrics\u001b[0m \u001b[0;32mas\u001b[0m \u001b[0mmetrics_module\u001b[0m\u001b[0;34m\u001b[0m\u001b[0;34m\u001b[0m\u001b[0m\n\u001b[1;32m     21\u001b[0m \u001b[0;32mfrom\u001b[0m \u001b[0mkeras\u001b[0m \u001b[0;32mimport\u001b[0m \u001b[0moptimizer_v1\u001b[0m\u001b[0;34m\u001b[0m\u001b[0;34m\u001b[0m\u001b[0m\n",
      "\u001b[0;32m/Applications/anaconda3/lib/python3.8/site-packages/keras/backend.py\u001b[0m in \u001b[0;36m<module>\u001b[0;34m\u001b[0m\n\u001b[1;32m     37\u001b[0m \u001b[0;32mfrom\u001b[0m \u001b[0mtensorflow\u001b[0m\u001b[0;34m.\u001b[0m\u001b[0mcore\u001b[0m\u001b[0;34m.\u001b[0m\u001b[0mprotobuf\u001b[0m \u001b[0;32mimport\u001b[0m \u001b[0mconfig_pb2\u001b[0m\u001b[0;34m\u001b[0m\u001b[0;34m\u001b[0m\u001b[0m\n\u001b[1;32m     38\u001b[0m \u001b[0;32mfrom\u001b[0m \u001b[0mtensorflow\u001b[0m\u001b[0;34m.\u001b[0m\u001b[0mpython\u001b[0m\u001b[0;34m.\u001b[0m\u001b[0meager\u001b[0m \u001b[0;32mimport\u001b[0m \u001b[0mcontext\u001b[0m\u001b[0;34m\u001b[0m\u001b[0;34m\u001b[0m\u001b[0m\n\u001b[0;32m---> 39\u001b[0;31m \u001b[0;32mfrom\u001b[0m \u001b[0mtensorflow\u001b[0m\u001b[0;34m.\u001b[0m\u001b[0mpython\u001b[0m\u001b[0;34m.\u001b[0m\u001b[0meager\u001b[0m\u001b[0;34m.\u001b[0m\u001b[0mcontext\u001b[0m \u001b[0;32mimport\u001b[0m \u001b[0mget_config\u001b[0m\u001b[0;34m\u001b[0m\u001b[0;34m\u001b[0m\u001b[0m\n\u001b[0m\u001b[1;32m     40\u001b[0m \u001b[0;32mfrom\u001b[0m \u001b[0mtensorflow\u001b[0m\u001b[0;34m.\u001b[0m\u001b[0mpython\u001b[0m\u001b[0;34m.\u001b[0m\u001b[0mframework\u001b[0m \u001b[0;32mimport\u001b[0m \u001b[0mconfig\u001b[0m\u001b[0;34m\u001b[0m\u001b[0;34m\u001b[0m\u001b[0m\n\u001b[1;32m     41\u001b[0m \u001b[0;32mfrom\u001b[0m \u001b[0mkeras\u001b[0m \u001b[0;32mimport\u001b[0m \u001b[0mbackend_config\u001b[0m\u001b[0;34m\u001b[0m\u001b[0;34m\u001b[0m\u001b[0m\n",
      "\u001b[0;31mImportError\u001b[0m: cannot import name 'get_config' from 'tensorflow.python.eager.context' (/Applications/anaconda3/lib/python3.8/site-packages/tensorflow/python/eager/context.py)"
     ]
    }
   ],
   "source": []
  }
 ],
 "metadata": {
  "kernelspec": {
   "display_name": "Python 3",
   "language": "python",
   "name": "python3"
  },
  "language_info": {
   "codemirror_mode": {
    "name": "ipython",
    "version": 3
   },
   "file_extension": ".py",
   "mimetype": "text/x-python",
   "name": "python",
   "nbconvert_exporter": "python",
   "pygments_lexer": "ipython3",
   "version": "3.8.8"
  }
 },
 "nbformat": 4,
 "nbformat_minor": 5
}
